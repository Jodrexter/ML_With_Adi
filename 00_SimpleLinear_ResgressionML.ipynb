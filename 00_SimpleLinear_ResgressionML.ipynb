{
 "cells": [
  {
   "cell_type": "code",
   "execution_count": 1,
   "id": "879fe619-ee0d-4a7c-8942-413a172e6020",
   "metadata": {},
   "outputs": [],
   "source": [
    "j = [2,3,1,5]\n"
   ]
  },
  {
   "cell_type": "code",
   "execution_count": 3,
   "id": "8f25ad57-72f8-40da-9dea-cead2d0ff60f",
   "metadata": {},
   "outputs": [
    {
     "data": {
      "text/plain": [
       "[5, 1, 3, 2]"
      ]
     },
     "execution_count": 3,
     "metadata": {},
     "output_type": "execute_result"
    }
   ],
   "source": [
    "j[::-1]"
   ]
  },
  {
   "cell_type": "code",
   "execution_count": 9,
   "id": "4a2670d6-3586-4f41-bd85-83929d949202",
   "metadata": {},
   "outputs": [],
   "source": [
    "# table \n",
    "import pandas as pd"
   ]
  },
  {
   "cell_type": "markdown",
   "id": "372c9361-16b1-481a-ac1f-0fbba0461f35",
   "metadata": {},
   "source": [
    "# import data"
   ]
  },
  {
   "cell_type": "code",
   "execution_count": 13,
   "id": "34e2889f-d3c6-4636-b197-0e575129bb19",
   "metadata": {},
   "outputs": [],
   "source": [
    "a = {'Marks' : [35,40,45,50,55,60,65,70],\n",
    "    'Salary' : [35000,40000,45000,50000,55000,60000,65000,70000]}"
   ]
  },
  {
   "cell_type": "code",
   "execution_count": 15,
   "id": "905e13f7-b942-4f1a-9692-a308417c1b20",
   "metadata": {},
   "outputs": [
    {
     "data": {
      "text/plain": [
       "{'Marks': [35, 40, 45, 50, 55, 60, 65, 70],\n",
       " 'Salary': [35000, 40000, 45000, 50000, 55000, 60000, 65000, 70000]}"
      ]
     },
     "execution_count": 15,
     "metadata": {},
     "output_type": "execute_result"
    }
   ],
   "source": [
    "a"
   ]
  },
  {
   "cell_type": "code",
   "execution_count": 23,
   "id": "d4ee0f78-2243-46cf-98e4-fae529eda2ee",
   "metadata": {},
   "outputs": [],
   "source": [
    "df= pd.DataFrame(a)"
   ]
  },
  {
   "cell_type": "code",
   "execution_count": 25,
   "id": "a335de65-8b4e-4e6d-bbf7-bfeb7c13f9df",
   "metadata": {},
   "outputs": [
    {
     "data": {
      "text/html": [
       "<div>\n",
       "<style scoped>\n",
       "    .dataframe tbody tr th:only-of-type {\n",
       "        vertical-align: middle;\n",
       "    }\n",
       "\n",
       "    .dataframe tbody tr th {\n",
       "        vertical-align: top;\n",
       "    }\n",
       "\n",
       "    .dataframe thead th {\n",
       "        text-align: right;\n",
       "    }\n",
       "</style>\n",
       "<table border=\"1\" class=\"dataframe\">\n",
       "  <thead>\n",
       "    <tr style=\"text-align: right;\">\n",
       "      <th></th>\n",
       "      <th>Marks</th>\n",
       "      <th>Salary</th>\n",
       "    </tr>\n",
       "  </thead>\n",
       "  <tbody>\n",
       "    <tr>\n",
       "      <th>0</th>\n",
       "      <td>35</td>\n",
       "      <td>35000</td>\n",
       "    </tr>\n",
       "    <tr>\n",
       "      <th>1</th>\n",
       "      <td>40</td>\n",
       "      <td>40000</td>\n",
       "    </tr>\n",
       "    <tr>\n",
       "      <th>2</th>\n",
       "      <td>45</td>\n",
       "      <td>45000</td>\n",
       "    </tr>\n",
       "    <tr>\n",
       "      <th>3</th>\n",
       "      <td>50</td>\n",
       "      <td>50000</td>\n",
       "    </tr>\n",
       "    <tr>\n",
       "      <th>4</th>\n",
       "      <td>55</td>\n",
       "      <td>55000</td>\n",
       "    </tr>\n",
       "    <tr>\n",
       "      <th>5</th>\n",
       "      <td>60</td>\n",
       "      <td>60000</td>\n",
       "    </tr>\n",
       "    <tr>\n",
       "      <th>6</th>\n",
       "      <td>65</td>\n",
       "      <td>65000</td>\n",
       "    </tr>\n",
       "    <tr>\n",
       "      <th>7</th>\n",
       "      <td>70</td>\n",
       "      <td>70000</td>\n",
       "    </tr>\n",
       "  </tbody>\n",
       "</table>\n",
       "</div>"
      ],
      "text/plain": [
       "   Marks  Salary\n",
       "0     35   35000\n",
       "1     40   40000\n",
       "2     45   45000\n",
       "3     50   50000\n",
       "4     55   55000\n",
       "5     60   60000\n",
       "6     65   65000\n",
       "7     70   70000"
      ]
     },
     "execution_count": 25,
     "metadata": {},
     "output_type": "execute_result"
    }
   ],
   "source": [
    "df"
   ]
  },
  {
   "cell_type": "markdown",
   "id": "7304666c-9d00-4566-b96b-95a29d1e125e",
   "metadata": {},
   "source": [
    "# seperate input and output"
   ]
  },
  {
   "cell_type": "code",
   "execution_count": 29,
   "id": "d0f41267-aa25-4b08-940e-49b647735893",
   "metadata": {},
   "outputs": [],
   "source": [
    "X = df[['Marks']]\n",
    "Y = df[['Salary']]"
   ]
  },
  {
   "cell_type": "code",
   "execution_count": 35,
   "id": "b57099a4-01b6-46b0-b275-44a84c410e8a",
   "metadata": {},
   "outputs": [
    {
     "name": "stdout",
     "output_type": "stream",
     "text": [
      "   Marks\n",
      "0     35\n",
      "1     40\n",
      "2     45\n",
      "3     50\n",
      "4     55\n",
      "5     60\n",
      "6     65\n",
      "7     70\n"
     ]
    }
   ],
   "source": [
    "print(X)"
   ]
  },
  {
   "cell_type": "code",
   "execution_count": 37,
   "id": "f36857d6-3068-4e5f-9e47-d9dd5423d14a",
   "metadata": {},
   "outputs": [
    {
     "name": "stdout",
     "output_type": "stream",
     "text": [
      "   Salary\n",
      "0   35000\n",
      "1   40000\n",
      "2   45000\n",
      "3   50000\n",
      "4   55000\n",
      "5   60000\n",
      "6   65000\n",
      "7   70000\n"
     ]
    }
   ],
   "source": [
    "print(Y)"
   ]
  },
  {
   "cell_type": "markdown",
   "id": "34b142ca-744f-4e12-b0c1-60a89f76b7ef",
   "metadata": {},
   "source": [
    "# model building using skiert learn"
   ]
  },
  {
   "cell_type": "code",
   "execution_count": 41,
   "id": "fc9af506-95d1-422f-b6d9-c7708d4096f6",
   "metadata": {},
   "outputs": [],
   "source": [
    "from sklearn.linear_model import LinearRegression"
   ]
  },
  {
   "cell_type": "code",
   "execution_count": 3,
   "id": "2f4b6255-04ed-4906-a365-bec3e162c758",
   "metadata": {},
   "outputs": [
    {
     "ename": "NameError",
     "evalue": "name 'LinearRegression' is not defined",
     "output_type": "error",
     "traceback": [
      "\u001b[1;31m---------------------------------------------------------------------------\u001b[0m",
      "\u001b[1;31mNameError\u001b[0m                                 Traceback (most recent call last)",
      "Cell \u001b[1;32mIn[3], line 1\u001b[0m\n\u001b[1;32m----> 1\u001b[0m lr1 \u001b[38;5;241m=\u001b[39m LinearRegression()\n",
      "\u001b[1;31mNameError\u001b[0m: name 'LinearRegression' is not defined"
     ]
    }
   ],
   "source": [
    "lr1 = LinearRegression()"
   ]
  },
  {
   "cell_type": "code",
   "execution_count": 45,
   "id": "862ac3dc-ef0e-4ad4-b32f-4d1862914e30",
   "metadata": {},
   "outputs": [],
   "source": [
    "model = lr.fit(X,Y)"
   ]
  },
  {
   "cell_type": "code",
   "execution_count": 49,
   "id": "c879a6e9-16db-4306-8d72-c45e740e4695",
   "metadata": {},
   "outputs": [],
   "source": [
    "# m value\n",
    "m=model.coef_"
   ]
  },
  {
   "cell_type": "code",
   "execution_count": 51,
   "id": "c61de848-75f3-4c89-a158-126116c286f0",
   "metadata": {},
   "outputs": [
    {
     "data": {
      "text/plain": [
       "array([[1000.]])"
      ]
     },
     "execution_count": 51,
     "metadata": {},
     "output_type": "execute_result"
    }
   ],
   "source": [
    "m"
   ]
  },
  {
   "cell_type": "code",
   "execution_count": 53,
   "id": "7861ce12-ae84-4bb9-9f35-8cd15802a9af",
   "metadata": {},
   "outputs": [
    {
     "data": {
      "text/plain": [
       "array([1.45519152e-11])"
      ]
     },
     "execution_count": 53,
     "metadata": {},
     "output_type": "execute_result"
    }
   ],
   "source": [
    "c = model.intercept_\n",
    "c"
   ]
  },
  {
   "cell_type": "markdown",
   "id": "d306dbed-f1ae-42b9-a96c-b72786cfc2ea",
   "metadata": {},
   "source": [
    "# Predictions"
   ]
  },
  {
   "cell_type": "code",
   "execution_count": 71,
   "id": "7b4ab3c3-f460-4cbf-bd12-75365d00ab41",
   "metadata": {},
   "outputs": [
    {
     "name": "stdin",
     "output_type": "stream",
     "text": [
      "Enter Marks 40\n"
     ]
    },
    {
     "name": "stdout",
     "output_type": "stream",
     "text": [
      "Salary of  40 is [[40000.]]\n"
     ]
    }
   ],
   "source": [
    "x = int(input('Enter Marks'))\n",
    "y=m*x+c\n",
    "print('Salary of ',x,'is',y)"
   ]
  },
  {
   "cell_type": "code",
   "execution_count": 73,
   "id": "c0be9009-8042-4d6b-b56f-aaad592fe61d",
   "metadata": {},
   "outputs": [
    {
     "data": {
      "text/plain": [
       "array([[40000.]])"
      ]
     },
     "execution_count": 73,
     "metadata": {},
     "output_type": "execute_result"
    }
   ],
   "source": [
    "y"
   ]
  },
  {
   "cell_type": "code",
   "execution_count": 1,
   "id": "90622d82-c5e4-4387-992a-b320cd6e0236",
   "metadata": {},
   "outputs": [],
   "source": [
    "b = {'Salary' : [40000,45000,50000,55000,60000,65000,70000],\n",
    "    'Spendings' : [10000,15000,20000,25000,30000,35000,40000]}"
   ]
  },
  {
   "cell_type": "code",
   "execution_count": 11,
   "id": "42a877bf-394c-4872-89e3-c7827ca6d9de",
   "metadata": {},
   "outputs": [
    {
     "data": {
      "text/html": [
       "<div>\n",
       "<style scoped>\n",
       "    .dataframe tbody tr th:only-of-type {\n",
       "        vertical-align: middle;\n",
       "    }\n",
       "\n",
       "    .dataframe tbody tr th {\n",
       "        vertical-align: top;\n",
       "    }\n",
       "\n",
       "    .dataframe thead th {\n",
       "        text-align: right;\n",
       "    }\n",
       "</style>\n",
       "<table border=\"1\" class=\"dataframe\">\n",
       "  <thead>\n",
       "    <tr style=\"text-align: right;\">\n",
       "      <th></th>\n",
       "      <th>Salary</th>\n",
       "      <th>Spendings</th>\n",
       "    </tr>\n",
       "  </thead>\n",
       "  <tbody>\n",
       "    <tr>\n",
       "      <th>0</th>\n",
       "      <td>40000</td>\n",
       "      <td>10000</td>\n",
       "    </tr>\n",
       "    <tr>\n",
       "      <th>1</th>\n",
       "      <td>45000</td>\n",
       "      <td>15000</td>\n",
       "    </tr>\n",
       "    <tr>\n",
       "      <th>2</th>\n",
       "      <td>50000</td>\n",
       "      <td>20000</td>\n",
       "    </tr>\n",
       "    <tr>\n",
       "      <th>3</th>\n",
       "      <td>55000</td>\n",
       "      <td>25000</td>\n",
       "    </tr>\n",
       "    <tr>\n",
       "      <th>4</th>\n",
       "      <td>60000</td>\n",
       "      <td>30000</td>\n",
       "    </tr>\n",
       "    <tr>\n",
       "      <th>5</th>\n",
       "      <td>65000</td>\n",
       "      <td>35000</td>\n",
       "    </tr>\n",
       "    <tr>\n",
       "      <th>6</th>\n",
       "      <td>70000</td>\n",
       "      <td>40000</td>\n",
       "    </tr>\n",
       "  </tbody>\n",
       "</table>\n",
       "</div>"
      ],
      "text/plain": [
       "   Salary  Spendings\n",
       "0   40000      10000\n",
       "1   45000      15000\n",
       "2   50000      20000\n",
       "3   55000      25000\n",
       "4   60000      30000\n",
       "5   65000      35000\n",
       "6   70000      40000"
      ]
     },
     "execution_count": 11,
     "metadata": {},
     "output_type": "execute_result"
    }
   ],
   "source": [
    "\n",
    "df1= pd.DataFrame(b)\n",
    "df1"
   ]
  },
  {
   "cell_type": "code",
   "execution_count": 15,
   "id": "223b548f-c0b0-4062-8a27-d36d972d3b2d",
   "metadata": {},
   "outputs": [],
   "source": [
    "X = df1[['Salary']]\n",
    "Y = df1[['Spendings']]"
   ]
  },
  {
   "cell_type": "code",
   "execution_count": 17,
   "id": "c25761c2-e33f-4325-8e12-62374edf2320",
   "metadata": {},
   "outputs": [
    {
     "name": "stdout",
     "output_type": "stream",
     "text": [
      "   Salary\n",
      "0   40000\n",
      "1   45000\n",
      "2   50000\n",
      "3   55000\n",
      "4   60000\n",
      "5   65000\n",
      "6   70000\n"
     ]
    }
   ],
   "source": [
    "print(X)\n"
   ]
  },
  {
   "cell_type": "code",
   "execution_count": 19,
   "id": "436ae124-f6b3-4b56-8f51-e908ec67fd2f",
   "metadata": {},
   "outputs": [
    {
     "name": "stdout",
     "output_type": "stream",
     "text": [
      "   Spendings\n",
      "0      10000\n",
      "1      15000\n",
      "2      20000\n",
      "3      25000\n",
      "4      30000\n",
      "5      35000\n",
      "6      40000\n"
     ]
    }
   ],
   "source": [
    "print(Y)"
   ]
  },
  {
   "cell_type": "code",
   "execution_count": 21,
   "id": "6c240204-40de-4b00-a72a-a571f8cf5003",
   "metadata": {},
   "outputs": [],
   "source": [
    "from sklearn.linear_model import LinearRegression"
   ]
  },
  {
   "cell_type": "code",
   "execution_count": 23,
   "id": "999659aa-8ea6-4cf3-8f8d-137cd6933e4b",
   "metadata": {},
   "outputs": [],
   "source": [
    "lr = LinearRegression()"
   ]
  },
  {
   "cell_type": "code",
   "execution_count": 25,
   "id": "66628b74-7eb0-463c-9a29-56c0f616e7f1",
   "metadata": {},
   "outputs": [],
   "source": [
    "model = lr.fit(X,Y)"
   ]
  },
  {
   "cell_type": "code",
   "execution_count": 27,
   "id": "d8ca9e75-27d8-4209-8072-37e346c90d01",
   "metadata": {},
   "outputs": [],
   "source": [
    "# m value mns slope\n",
    "m=model.coef_"
   ]
  },
  {
   "cell_type": "code",
   "execution_count": 29,
   "id": "3d3210c6-35c7-48f8-9f38-c483950a1b59",
   "metadata": {},
   "outputs": [
    {
     "data": {
      "text/plain": [
       "array([[1.]])"
      ]
     },
     "execution_count": 29,
     "metadata": {},
     "output_type": "execute_result"
    }
   ],
   "source": [
    "m"
   ]
  },
  {
   "cell_type": "code",
   "execution_count": 31,
   "id": "9d9b044a-ac85-45b0-81c3-b9843a6ae067",
   "metadata": {},
   "outputs": [
    {
     "data": {
      "text/plain": [
       "array([-30000.])"
      ]
     },
     "execution_count": 31,
     "metadata": {},
     "output_type": "execute_result"
    }
   ],
   "source": [
    "# intercpet mns c value\n",
    "c = model.intercept_\n",
    "c"
   ]
  },
  {
   "cell_type": "code",
   "execution_count": 53,
   "id": "69b9982c-1138-41af-8558-459ca233d093",
   "metadata": {},
   "outputs": [
    {
     "name": "stdin",
     "output_type": "stream",
     "text": [
      "Enter Salary 90000\n"
     ]
    },
    {
     "name": "stdout",
     "output_type": "stream",
     "text": [
      "Spendings of  90000 is [[60000.]]\n"
     ]
    }
   ],
   "source": [
    "x = int(input('Enter Salary'))\n",
    "y=m*x+c\n",
    "print('Spendings of ',x,'is',y)"
   ]
  },
  {
   "cell_type": "code",
   "execution_count": 57,
   "id": "e052355c-bee6-47e6-93c1-0fc28869ebf3",
   "metadata": {},
   "outputs": [],
   "source": [
    "c = {'CGPA' :[3.5,4,4.5,5,5.5,6,6.5],\n",
    "    'Salary' : [40000,45000,50000,55000,60000,65000,70000]}"
   ]
  },
  {
   "cell_type": "code",
   "execution_count": 59,
   "id": "34e751e3-30a5-4cca-b252-f0b29163cd8f",
   "metadata": {},
   "outputs": [
    {
     "data": {
      "text/plain": [
       "{'CGPA': [3.5, 4, 4.5, 5, 5.5, 6, 6.5],\n",
       " 'Salary': [40000, 45000, 50000, 55000, 60000, 65000, 70000]}"
      ]
     },
     "execution_count": 59,
     "metadata": {},
     "output_type": "execute_result"
    }
   ],
   "source": [
    "c"
   ]
  },
  {
   "cell_type": "code",
   "execution_count": 61,
   "id": "1bf41b1f-85c7-43e1-a377-bb01c1f6829a",
   "metadata": {},
   "outputs": [],
   "source": [
    "df2 = pd.DataFrame(c)"
   ]
  },
  {
   "cell_type": "code",
   "execution_count": 63,
   "id": "3afe16b8-49f0-45a2-8553-fa4b4688214e",
   "metadata": {},
   "outputs": [
    {
     "data": {
      "text/html": [
       "<div>\n",
       "<style scoped>\n",
       "    .dataframe tbody tr th:only-of-type {\n",
       "        vertical-align: middle;\n",
       "    }\n",
       "\n",
       "    .dataframe tbody tr th {\n",
       "        vertical-align: top;\n",
       "    }\n",
       "\n",
       "    .dataframe thead th {\n",
       "        text-align: right;\n",
       "    }\n",
       "</style>\n",
       "<table border=\"1\" class=\"dataframe\">\n",
       "  <thead>\n",
       "    <tr style=\"text-align: right;\">\n",
       "      <th></th>\n",
       "      <th>CGPA</th>\n",
       "      <th>Salary</th>\n",
       "    </tr>\n",
       "  </thead>\n",
       "  <tbody>\n",
       "    <tr>\n",
       "      <th>0</th>\n",
       "      <td>3.5</td>\n",
       "      <td>40000</td>\n",
       "    </tr>\n",
       "    <tr>\n",
       "      <th>1</th>\n",
       "      <td>4.0</td>\n",
       "      <td>45000</td>\n",
       "    </tr>\n",
       "    <tr>\n",
       "      <th>2</th>\n",
       "      <td>4.5</td>\n",
       "      <td>50000</td>\n",
       "    </tr>\n",
       "    <tr>\n",
       "      <th>3</th>\n",
       "      <td>5.0</td>\n",
       "      <td>55000</td>\n",
       "    </tr>\n",
       "    <tr>\n",
       "      <th>4</th>\n",
       "      <td>5.5</td>\n",
       "      <td>60000</td>\n",
       "    </tr>\n",
       "    <tr>\n",
       "      <th>5</th>\n",
       "      <td>6.0</td>\n",
       "      <td>65000</td>\n",
       "    </tr>\n",
       "    <tr>\n",
       "      <th>6</th>\n",
       "      <td>6.5</td>\n",
       "      <td>70000</td>\n",
       "    </tr>\n",
       "  </tbody>\n",
       "</table>\n",
       "</div>"
      ],
      "text/plain": [
       "   CGPA  Salary\n",
       "0   3.5   40000\n",
       "1   4.0   45000\n",
       "2   4.5   50000\n",
       "3   5.0   55000\n",
       "4   5.5   60000\n",
       "5   6.0   65000\n",
       "6   6.5   70000"
      ]
     },
     "execution_count": 63,
     "metadata": {},
     "output_type": "execute_result"
    }
   ],
   "source": [
    "df2"
   ]
  },
  {
   "cell_type": "code",
   "execution_count": 67,
   "id": "d8e68678-9f14-4da5-9afa-439196e0a35d",
   "metadata": {},
   "outputs": [],
   "source": [
    "X =df2[['CGPA']]\n",
    "Y =df2[['Salary']]"
   ]
  },
  {
   "cell_type": "code",
   "execution_count": 69,
   "id": "b5795f52-33ec-40a2-b8d0-95915dff0719",
   "metadata": {},
   "outputs": [
    {
     "name": "stdout",
     "output_type": "stream",
     "text": [
      "   CGPA\n",
      "0   3.5\n",
      "1   4.0\n",
      "2   4.5\n",
      "3   5.0\n",
      "4   5.5\n",
      "5   6.0\n",
      "6   6.5\n"
     ]
    }
   ],
   "source": [
    "print(X)"
   ]
  },
  {
   "cell_type": "code",
   "execution_count": 71,
   "id": "207c3164-4449-407e-a14e-9c897aa5db30",
   "metadata": {},
   "outputs": [
    {
     "name": "stdout",
     "output_type": "stream",
     "text": [
      "   Salary\n",
      "0   40000\n",
      "1   45000\n",
      "2   50000\n",
      "3   55000\n",
      "4   60000\n",
      "5   65000\n",
      "6   70000\n"
     ]
    }
   ],
   "source": [
    "print(Y)"
   ]
  },
  {
   "cell_type": "code",
   "execution_count": 73,
   "id": "5d09f768-6a7c-46b1-b64e-77c5ca206eff",
   "metadata": {},
   "outputs": [],
   "source": [
    "lr = LinearRegression()"
   ]
  },
  {
   "cell_type": "code",
   "execution_count": 75,
   "id": "74870458-77c0-44e5-853a-17b89308de3e",
   "metadata": {},
   "outputs": [],
   "source": [
    "model = lr.fit(X,Y)"
   ]
  },
  {
   "cell_type": "code",
   "execution_count": 77,
   "id": "1045e209-e82f-4b43-903b-65c364612b59",
   "metadata": {},
   "outputs": [],
   "source": [
    "m = model.coef_"
   ]
  },
  {
   "cell_type": "code",
   "execution_count": 79,
   "id": "e933bb54-b619-41b1-a735-bbf7225119b7",
   "metadata": {},
   "outputs": [
    {
     "data": {
      "text/plain": [
       "array([[10000.]])"
      ]
     },
     "execution_count": 79,
     "metadata": {},
     "output_type": "execute_result"
    }
   ],
   "source": [
    "m"
   ]
  },
  {
   "cell_type": "code",
   "execution_count": 81,
   "id": "ba04c83f-1dfd-4a4e-a6cd-82613da9d58e",
   "metadata": {},
   "outputs": [
    {
     "data": {
      "text/plain": [
       "array([5000.])"
      ]
     },
     "execution_count": 81,
     "metadata": {},
     "output_type": "execute_result"
    }
   ],
   "source": [
    "c = model.intercept_\n",
    "c"
   ]
  },
  {
   "cell_type": "code",
   "execution_count": 89,
   "id": "89939d35-138f-495d-891a-e1c777f601a4",
   "metadata": {},
   "outputs": [
    {
     "name": "stdin",
     "output_type": "stream",
     "text": [
      "CGPA 7\n"
     ]
    },
    {
     "name": "stdout",
     "output_type": "stream",
     "text": [
      "CGPA 7 Salary is  [[75000.]]\n"
     ]
    }
   ],
   "source": [
    "x = int(input('CGPA'))\n",
    "y=m*x+c\n",
    "print('CGPA',x,'Salary is ',y)"
   ]
  },
  {
   "cell_type": "code",
   "execution_count": null,
   "id": "f9aabf04-02cf-456a-bd4c-89071231f1f4",
   "metadata": {},
   "outputs": [],
   "source": []
  }
 ],
 "metadata": {
  "kernelspec": {
   "display_name": "Python 3 (ipykernel)",
   "language": "python",
   "name": "python3"
  },
  "language_info": {
   "codemirror_mode": {
    "name": "ipython",
    "version": 3
   },
   "file_extension": ".py",
   "mimetype": "text/x-python",
   "name": "python",
   "nbconvert_exporter": "python",
   "pygments_lexer": "ipython3",
   "version": "3.12.4"
  }
 },
 "nbformat": 4,
 "nbformat_minor": 5
}

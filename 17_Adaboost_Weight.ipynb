{
 "cells": [
  {
   "cell_type": "code",
   "execution_count": 31,
   "id": "0de282e4-3515-4f8b-8819-1523f2c10cb0",
   "metadata": {},
   "outputs": [],
   "source": [
    "import pandas as pd"
   ]
  },
  {
   "cell_type": "code",
   "execution_count": 33,
   "id": "3dff93d5-2f6a-47bc-b838-c84ea0122d3c",
   "metadata": {},
   "outputs": [],
   "source": [
    "df = pd.read_csv(\"D:/ETL HIVE/PYTHON/ADV PY/Cars93.csv\")"
   ]
  },
  {
   "cell_type": "code",
   "execution_count": 35,
   "id": "3a3d7ea7-ccb8-476b-9898-768c9cf5195f",
   "metadata": {},
   "outputs": [
    {
     "data": {
      "text/html": [
       "<div>\n",
       "<style scoped>\n",
       "    .dataframe tbody tr th:only-of-type {\n",
       "        vertical-align: middle;\n",
       "    }\n",
       "\n",
       "    .dataframe tbody tr th {\n",
       "        vertical-align: top;\n",
       "    }\n",
       "\n",
       "    .dataframe thead th {\n",
       "        text-align: right;\n",
       "    }\n",
       "</style>\n",
       "<table border=\"1\" class=\"dataframe\">\n",
       "  <thead>\n",
       "    <tr style=\"text-align: right;\">\n",
       "      <th></th>\n",
       "      <th>id</th>\n",
       "      <th>Manufacturer</th>\n",
       "      <th>Model</th>\n",
       "      <th>Type</th>\n",
       "      <th>Min.Price</th>\n",
       "      <th>Price</th>\n",
       "      <th>Max.Price</th>\n",
       "      <th>MPG.city</th>\n",
       "      <th>MPG.highway</th>\n",
       "      <th>AirBags</th>\n",
       "      <th>...</th>\n",
       "      <th>Passengers</th>\n",
       "      <th>Length</th>\n",
       "      <th>Wheelbase</th>\n",
       "      <th>Width</th>\n",
       "      <th>Turn.circle</th>\n",
       "      <th>Rear.seat.room</th>\n",
       "      <th>Luggage.room</th>\n",
       "      <th>Weight</th>\n",
       "      <th>Origin</th>\n",
       "      <th>Make</th>\n",
       "    </tr>\n",
       "  </thead>\n",
       "  <tbody>\n",
       "    <tr>\n",
       "      <th>0</th>\n",
       "      <td>1</td>\n",
       "      <td>Acura</td>\n",
       "      <td>Integra</td>\n",
       "      <td>Small</td>\n",
       "      <td>12.9</td>\n",
       "      <td>15.9</td>\n",
       "      <td>18.8</td>\n",
       "      <td>25</td>\n",
       "      <td>31</td>\n",
       "      <td>NaN</td>\n",
       "      <td>...</td>\n",
       "      <td>5</td>\n",
       "      <td>177</td>\n",
       "      <td>102</td>\n",
       "      <td>68</td>\n",
       "      <td>37</td>\n",
       "      <td>26.5</td>\n",
       "      <td>11.0</td>\n",
       "      <td>2705</td>\n",
       "      <td>non-USA</td>\n",
       "      <td>Acura Integra</td>\n",
       "    </tr>\n",
       "    <tr>\n",
       "      <th>1</th>\n",
       "      <td>2</td>\n",
       "      <td>Acura</td>\n",
       "      <td>Legend</td>\n",
       "      <td>Midsize</td>\n",
       "      <td>29.2</td>\n",
       "      <td>33.9</td>\n",
       "      <td>38.7</td>\n",
       "      <td>18</td>\n",
       "      <td>25</td>\n",
       "      <td>Driver &amp; Passenger</td>\n",
       "      <td>...</td>\n",
       "      <td>5</td>\n",
       "      <td>195</td>\n",
       "      <td>115</td>\n",
       "      <td>71</td>\n",
       "      <td>38</td>\n",
       "      <td>30.0</td>\n",
       "      <td>15.0</td>\n",
       "      <td>3560</td>\n",
       "      <td>non-USA</td>\n",
       "      <td>Acura Legend</td>\n",
       "    </tr>\n",
       "    <tr>\n",
       "      <th>2</th>\n",
       "      <td>3</td>\n",
       "      <td>Audi</td>\n",
       "      <td>90</td>\n",
       "      <td>Compact</td>\n",
       "      <td>25.9</td>\n",
       "      <td>29.1</td>\n",
       "      <td>32.3</td>\n",
       "      <td>20</td>\n",
       "      <td>26</td>\n",
       "      <td>Driver only</td>\n",
       "      <td>...</td>\n",
       "      <td>5</td>\n",
       "      <td>180</td>\n",
       "      <td>102</td>\n",
       "      <td>67</td>\n",
       "      <td>37</td>\n",
       "      <td>28.0</td>\n",
       "      <td>14.0</td>\n",
       "      <td>3375</td>\n",
       "      <td>non-USA</td>\n",
       "      <td>Audi 90</td>\n",
       "    </tr>\n",
       "    <tr>\n",
       "      <th>3</th>\n",
       "      <td>4</td>\n",
       "      <td>Audi</td>\n",
       "      <td>100</td>\n",
       "      <td>Midsize</td>\n",
       "      <td>30.8</td>\n",
       "      <td>37.7</td>\n",
       "      <td>44.6</td>\n",
       "      <td>19</td>\n",
       "      <td>26</td>\n",
       "      <td>NaN</td>\n",
       "      <td>...</td>\n",
       "      <td>6</td>\n",
       "      <td>193</td>\n",
       "      <td>106</td>\n",
       "      <td>70</td>\n",
       "      <td>37</td>\n",
       "      <td>31.0</td>\n",
       "      <td>17.0</td>\n",
       "      <td>3405</td>\n",
       "      <td>non-USA</td>\n",
       "      <td>Audi 100</td>\n",
       "    </tr>\n",
       "    <tr>\n",
       "      <th>4</th>\n",
       "      <td>5</td>\n",
       "      <td>BMW</td>\n",
       "      <td>535i</td>\n",
       "      <td>Midsize</td>\n",
       "      <td>23.7</td>\n",
       "      <td>30.0</td>\n",
       "      <td>36.2</td>\n",
       "      <td>22</td>\n",
       "      <td>30</td>\n",
       "      <td>Driver only</td>\n",
       "      <td>...</td>\n",
       "      <td>4</td>\n",
       "      <td>186</td>\n",
       "      <td>109</td>\n",
       "      <td>69</td>\n",
       "      <td>39</td>\n",
       "      <td>27.0</td>\n",
       "      <td>13.0</td>\n",
       "      <td>3640</td>\n",
       "      <td>non-USA</td>\n",
       "      <td>BMW 535i</td>\n",
       "    </tr>\n",
       "    <tr>\n",
       "      <th>...</th>\n",
       "      <td>...</td>\n",
       "      <td>...</td>\n",
       "      <td>...</td>\n",
       "      <td>...</td>\n",
       "      <td>...</td>\n",
       "      <td>...</td>\n",
       "      <td>...</td>\n",
       "      <td>...</td>\n",
       "      <td>...</td>\n",
       "      <td>...</td>\n",
       "      <td>...</td>\n",
       "      <td>...</td>\n",
       "      <td>...</td>\n",
       "      <td>...</td>\n",
       "      <td>...</td>\n",
       "      <td>...</td>\n",
       "      <td>...</td>\n",
       "      <td>...</td>\n",
       "      <td>...</td>\n",
       "      <td>...</td>\n",
       "      <td>...</td>\n",
       "    </tr>\n",
       "    <tr>\n",
       "      <th>88</th>\n",
       "      <td>89</td>\n",
       "      <td>Volkswagen</td>\n",
       "      <td>Eurovan</td>\n",
       "      <td>Van</td>\n",
       "      <td>16.6</td>\n",
       "      <td>19.7</td>\n",
       "      <td>22.7</td>\n",
       "      <td>17</td>\n",
       "      <td>21</td>\n",
       "      <td>NaN</td>\n",
       "      <td>...</td>\n",
       "      <td>7</td>\n",
       "      <td>187</td>\n",
       "      <td>115</td>\n",
       "      <td>72</td>\n",
       "      <td>38</td>\n",
       "      <td>34.0</td>\n",
       "      <td>NaN</td>\n",
       "      <td>3960</td>\n",
       "      <td>non-USA</td>\n",
       "      <td>Volkswagen Eurovan</td>\n",
       "    </tr>\n",
       "    <tr>\n",
       "      <th>89</th>\n",
       "      <td>90</td>\n",
       "      <td>Volkswagen</td>\n",
       "      <td>Passat</td>\n",
       "      <td>Compact</td>\n",
       "      <td>17.6</td>\n",
       "      <td>20.0</td>\n",
       "      <td>22.4</td>\n",
       "      <td>21</td>\n",
       "      <td>30</td>\n",
       "      <td>NaN</td>\n",
       "      <td>...</td>\n",
       "      <td>5</td>\n",
       "      <td>180</td>\n",
       "      <td>103</td>\n",
       "      <td>67</td>\n",
       "      <td>35</td>\n",
       "      <td>31.5</td>\n",
       "      <td>14.0</td>\n",
       "      <td>2985</td>\n",
       "      <td>non-USA</td>\n",
       "      <td>Volkswagen Passat</td>\n",
       "    </tr>\n",
       "    <tr>\n",
       "      <th>90</th>\n",
       "      <td>91</td>\n",
       "      <td>Volkswagen</td>\n",
       "      <td>Corrado</td>\n",
       "      <td>Sporty</td>\n",
       "      <td>22.9</td>\n",
       "      <td>23.3</td>\n",
       "      <td>23.7</td>\n",
       "      <td>18</td>\n",
       "      <td>25</td>\n",
       "      <td>NaN</td>\n",
       "      <td>...</td>\n",
       "      <td>4</td>\n",
       "      <td>159</td>\n",
       "      <td>97</td>\n",
       "      <td>66</td>\n",
       "      <td>36</td>\n",
       "      <td>26.0</td>\n",
       "      <td>15.0</td>\n",
       "      <td>2810</td>\n",
       "      <td>non-USA</td>\n",
       "      <td>Volkswagen Corrado</td>\n",
       "    </tr>\n",
       "    <tr>\n",
       "      <th>91</th>\n",
       "      <td>92</td>\n",
       "      <td>Volvo</td>\n",
       "      <td>240</td>\n",
       "      <td>Compact</td>\n",
       "      <td>21.8</td>\n",
       "      <td>22.7</td>\n",
       "      <td>23.5</td>\n",
       "      <td>21</td>\n",
       "      <td>28</td>\n",
       "      <td>Driver only</td>\n",
       "      <td>...</td>\n",
       "      <td>5</td>\n",
       "      <td>190</td>\n",
       "      <td>104</td>\n",
       "      <td>67</td>\n",
       "      <td>37</td>\n",
       "      <td>29.5</td>\n",
       "      <td>14.0</td>\n",
       "      <td>2985</td>\n",
       "      <td>non-USA</td>\n",
       "      <td>Volvo 240</td>\n",
       "    </tr>\n",
       "    <tr>\n",
       "      <th>92</th>\n",
       "      <td>93</td>\n",
       "      <td>Volvo</td>\n",
       "      <td>850</td>\n",
       "      <td>Midsize</td>\n",
       "      <td>24.8</td>\n",
       "      <td>26.7</td>\n",
       "      <td>28.5</td>\n",
       "      <td>20</td>\n",
       "      <td>28</td>\n",
       "      <td>Driver &amp; Passenger</td>\n",
       "      <td>...</td>\n",
       "      <td>5</td>\n",
       "      <td>184</td>\n",
       "      <td>105</td>\n",
       "      <td>69</td>\n",
       "      <td>38</td>\n",
       "      <td>30.0</td>\n",
       "      <td>15.0</td>\n",
       "      <td>3245</td>\n",
       "      <td>non-USA</td>\n",
       "      <td>Volvo 850</td>\n",
       "    </tr>\n",
       "  </tbody>\n",
       "</table>\n",
       "<p>93 rows × 28 columns</p>\n",
       "</div>"
      ],
      "text/plain": [
       "    id Manufacturer    Model     Type  Min.Price  Price  Max.Price  MPG.city  \\\n",
       "0    1        Acura  Integra    Small       12.9   15.9       18.8        25   \n",
       "1    2        Acura   Legend  Midsize       29.2   33.9       38.7        18   \n",
       "2    3         Audi       90  Compact       25.9   29.1       32.3        20   \n",
       "3    4         Audi      100  Midsize       30.8   37.7       44.6        19   \n",
       "4    5          BMW     535i  Midsize       23.7   30.0       36.2        22   \n",
       "..  ..          ...      ...      ...        ...    ...        ...       ...   \n",
       "88  89   Volkswagen  Eurovan      Van       16.6   19.7       22.7        17   \n",
       "89  90   Volkswagen   Passat  Compact       17.6   20.0       22.4        21   \n",
       "90  91   Volkswagen  Corrado   Sporty       22.9   23.3       23.7        18   \n",
       "91  92        Volvo      240  Compact       21.8   22.7       23.5        21   \n",
       "92  93        Volvo      850  Midsize       24.8   26.7       28.5        20   \n",
       "\n",
       "    MPG.highway             AirBags  ... Passengers Length  Wheelbase  Width  \\\n",
       "0            31                 NaN  ...          5    177        102     68   \n",
       "1            25  Driver & Passenger  ...          5    195        115     71   \n",
       "2            26         Driver only  ...          5    180        102     67   \n",
       "3            26                 NaN  ...          6    193        106     70   \n",
       "4            30         Driver only  ...          4    186        109     69   \n",
       "..          ...                 ...  ...        ...    ...        ...    ...   \n",
       "88           21                 NaN  ...          7    187        115     72   \n",
       "89           30                 NaN  ...          5    180        103     67   \n",
       "90           25                 NaN  ...          4    159         97     66   \n",
       "91           28         Driver only  ...          5    190        104     67   \n",
       "92           28  Driver & Passenger  ...          5    184        105     69   \n",
       "\n",
       "    Turn.circle  Rear.seat.room Luggage.room  Weight   Origin  \\\n",
       "0            37            26.5         11.0    2705  non-USA   \n",
       "1            38            30.0         15.0    3560  non-USA   \n",
       "2            37            28.0         14.0    3375  non-USA   \n",
       "3            37            31.0         17.0    3405  non-USA   \n",
       "4            39            27.0         13.0    3640  non-USA   \n",
       "..          ...             ...          ...     ...      ...   \n",
       "88           38            34.0          NaN    3960  non-USA   \n",
       "89           35            31.5         14.0    2985  non-USA   \n",
       "90           36            26.0         15.0    2810  non-USA   \n",
       "91           37            29.5         14.0    2985  non-USA   \n",
       "92           38            30.0         15.0    3245  non-USA   \n",
       "\n",
       "                  Make  \n",
       "0        Acura Integra  \n",
       "1         Acura Legend  \n",
       "2              Audi 90  \n",
       "3             Audi 100  \n",
       "4             BMW 535i  \n",
       "..                 ...  \n",
       "88  Volkswagen Eurovan  \n",
       "89   Volkswagen Passat  \n",
       "90  Volkswagen Corrado  \n",
       "91           Volvo 240  \n",
       "92           Volvo 850  \n",
       "\n",
       "[93 rows x 28 columns]"
      ]
     },
     "execution_count": 35,
     "metadata": {},
     "output_type": "execute_result"
    }
   ],
   "source": [
    "df"
   ]
  },
  {
   "cell_type": "code",
   "execution_count": 37,
   "id": "836c2700-5acf-4c18-8e7d-40c20e6e2946",
   "metadata": {},
   "outputs": [],
   "source": [
    "from ML_codes import null_value_treatment,cat_con,outlier"
   ]
  },
  {
   "cell_type": "code",
   "execution_count": 39,
   "id": "8c3bfe65-0814-481b-8b75-2fa160124617",
   "metadata": {},
   "outputs": [],
   "source": [
    "null_value_treatment(df)"
   ]
  },
  {
   "cell_type": "code",
   "execution_count": 41,
   "id": "0a77f350-c018-4469-8e86-9ac742735a9f",
   "metadata": {},
   "outputs": [
    {
     "name": "stdout",
     "output_type": "stream",
     "text": [
      "cat : ['Manufacturer', 'Model', 'Type', 'AirBags', 'DriveTrain', 'Cylinders', 'Man.trans.avail', 'Origin', 'Make']\n",
      "con : ['id', 'Min.Price', 'Price', 'Max.Price', 'MPG.city', 'MPG.highway', 'EngineSize', 'Horsepower', 'RPM', 'Rev.per.mile', 'Fuel.tank.capacity', 'Passengers', 'Length', 'Wheelbase', 'Width', 'Turn.circle', 'Rear.seat.room', 'Luggage.room', 'Weight']\n"
     ]
    }
   ],
   "source": [
    "cat_con(df)"
   ]
  },
  {
   "cell_type": "code",
   "execution_count": 43,
   "id": "aee7118e-dd8b-40e4-8d33-aa8c15a9d035",
   "metadata": {},
   "outputs": [],
   "source": [
    "X = df.drop(labels='Weight',axis=1)\n",
    "Y = df[['Weight']]"
   ]
  },
  {
   "cell_type": "code",
   "execution_count": 45,
   "id": "66bd10cd-0375-4835-a951-66659110e2b4",
   "metadata": {},
   "outputs": [],
   "source": [
    "cat = ['Manufacturer', 'Model', 'Type', 'AirBags', 'DriveTrain', 'Cylinders', 'Man.trans.avail', 'Origin', 'Make']\n",
    "con = ['id', 'Min.Price', 'Price', 'Max.Price', 'MPG.city', 'MPG.highway', 'EngineSize', 'Horsepower', 'RPM', 'Rev.per.mile', 'Fuel.tank.capacity', 'Passengers', 'Length', 'Wheelbase', 'Width', 'Turn.circle', 'Rear.seat.room', 'Luggage.room']\n"
   ]
  },
  {
   "cell_type": "code",
   "execution_count": 47,
   "id": "2f7bdf89-8f1a-4020-beba-80e8fc2fabce",
   "metadata": {},
   "outputs": [],
   "source": [
    "Xcat = X [cat]\n",
    "Xcon = X [con]"
   ]
  },
  {
   "cell_type": "code",
   "execution_count": 51,
   "id": "e937f5b8-89be-4544-87df-d981f25bc9e3",
   "metadata": {},
   "outputs": [],
   "source": [
    "from sklearn.preprocessing import LabelEncoder,StandardScaler"
   ]
  },
  {
   "cell_type": "code",
   "execution_count": 53,
   "id": "d58e9d5b-0df4-4871-9c96-70ef5654cc13",
   "metadata": {},
   "outputs": [],
   "source": [
    "ss = StandardScaler()\n",
    "le = LabelEncoder()"
   ]
  },
  {
   "cell_type": "code",
   "execution_count": 55,
   "id": "3a622ea9-8eed-4453-ae71-86441a2c6192",
   "metadata": {},
   "outputs": [
    {
     "name": "stderr",
     "output_type": "stream",
     "text": [
      "C:\\Users\\ASUS\\AppData\\Local\\Temp\\ipykernel_3656\\188807692.py:2: SettingWithCopyWarning: \n",
      "A value is trying to be set on a copy of a slice from a DataFrame.\n",
      "Try using .loc[row_indexer,col_indexer] = value instead\n",
      "\n",
      "See the caveats in the documentation: https://pandas.pydata.org/pandas-docs/stable/user_guide/indexing.html#returning-a-view-versus-a-copy\n",
      "  Xcat[i]=le.fit_transform(Xcat[i])\n",
      "C:\\Users\\ASUS\\AppData\\Local\\Temp\\ipykernel_3656\\188807692.py:2: SettingWithCopyWarning: \n",
      "A value is trying to be set on a copy of a slice from a DataFrame.\n",
      "Try using .loc[row_indexer,col_indexer] = value instead\n",
      "\n",
      "See the caveats in the documentation: https://pandas.pydata.org/pandas-docs/stable/user_guide/indexing.html#returning-a-view-versus-a-copy\n",
      "  Xcat[i]=le.fit_transform(Xcat[i])\n",
      "C:\\Users\\ASUS\\AppData\\Local\\Temp\\ipykernel_3656\\188807692.py:2: SettingWithCopyWarning: \n",
      "A value is trying to be set on a copy of a slice from a DataFrame.\n",
      "Try using .loc[row_indexer,col_indexer] = value instead\n",
      "\n",
      "See the caveats in the documentation: https://pandas.pydata.org/pandas-docs/stable/user_guide/indexing.html#returning-a-view-versus-a-copy\n",
      "  Xcat[i]=le.fit_transform(Xcat[i])\n",
      "C:\\Users\\ASUS\\AppData\\Local\\Temp\\ipykernel_3656\\188807692.py:2: SettingWithCopyWarning: \n",
      "A value is trying to be set on a copy of a slice from a DataFrame.\n",
      "Try using .loc[row_indexer,col_indexer] = value instead\n",
      "\n",
      "See the caveats in the documentation: https://pandas.pydata.org/pandas-docs/stable/user_guide/indexing.html#returning-a-view-versus-a-copy\n",
      "  Xcat[i]=le.fit_transform(Xcat[i])\n",
      "C:\\Users\\ASUS\\AppData\\Local\\Temp\\ipykernel_3656\\188807692.py:2: SettingWithCopyWarning: \n",
      "A value is trying to be set on a copy of a slice from a DataFrame.\n",
      "Try using .loc[row_indexer,col_indexer] = value instead\n",
      "\n",
      "See the caveats in the documentation: https://pandas.pydata.org/pandas-docs/stable/user_guide/indexing.html#returning-a-view-versus-a-copy\n",
      "  Xcat[i]=le.fit_transform(Xcat[i])\n",
      "C:\\Users\\ASUS\\AppData\\Local\\Temp\\ipykernel_3656\\188807692.py:2: SettingWithCopyWarning: \n",
      "A value is trying to be set on a copy of a slice from a DataFrame.\n",
      "Try using .loc[row_indexer,col_indexer] = value instead\n",
      "\n",
      "See the caveats in the documentation: https://pandas.pydata.org/pandas-docs/stable/user_guide/indexing.html#returning-a-view-versus-a-copy\n",
      "  Xcat[i]=le.fit_transform(Xcat[i])\n",
      "C:\\Users\\ASUS\\AppData\\Local\\Temp\\ipykernel_3656\\188807692.py:2: SettingWithCopyWarning: \n",
      "A value is trying to be set on a copy of a slice from a DataFrame.\n",
      "Try using .loc[row_indexer,col_indexer] = value instead\n",
      "\n",
      "See the caveats in the documentation: https://pandas.pydata.org/pandas-docs/stable/user_guide/indexing.html#returning-a-view-versus-a-copy\n",
      "  Xcat[i]=le.fit_transform(Xcat[i])\n",
      "C:\\Users\\ASUS\\AppData\\Local\\Temp\\ipykernel_3656\\188807692.py:2: SettingWithCopyWarning: \n",
      "A value is trying to be set on a copy of a slice from a DataFrame.\n",
      "Try using .loc[row_indexer,col_indexer] = value instead\n",
      "\n",
      "See the caveats in the documentation: https://pandas.pydata.org/pandas-docs/stable/user_guide/indexing.html#returning-a-view-versus-a-copy\n",
      "  Xcat[i]=le.fit_transform(Xcat[i])\n",
      "C:\\Users\\ASUS\\AppData\\Local\\Temp\\ipykernel_3656\\188807692.py:2: SettingWithCopyWarning: \n",
      "A value is trying to be set on a copy of a slice from a DataFrame.\n",
      "Try using .loc[row_indexer,col_indexer] = value instead\n",
      "\n",
      "See the caveats in the documentation: https://pandas.pydata.org/pandas-docs/stable/user_guide/indexing.html#returning-a-view-versus-a-copy\n",
      "  Xcat[i]=le.fit_transform(Xcat[i])\n"
     ]
    }
   ],
   "source": [
    "for i in Xcat.columns:\n",
    "    Xcat[i]=le.fit_transform(Xcat[i])"
   ]
  },
  {
   "cell_type": "code",
   "execution_count": 57,
   "id": "1527c452-8075-4bb9-9baf-4ec72c147728",
   "metadata": {},
   "outputs": [],
   "source": [
    "Xcon = pd.DataFrame(ss.fit_transform(Xcon),columns=con)"
   ]
  },
  {
   "cell_type": "code",
   "execution_count": 59,
   "id": "9e4f5a95-9f93-4aac-9177-bea3ecb5498d",
   "metadata": {},
   "outputs": [],
   "source": [
    "X = Xcon.join(Xcat)"
   ]
  },
  {
   "cell_type": "code",
   "execution_count": 61,
   "id": "a16d08b9-a5a7-418b-8d31-31d292eae988",
   "metadata": {},
   "outputs": [],
   "source": [
    "out = []\n",
    "\n",
    "for i in Xcon.columns:\n",
    "    o = Xcon[(Xcon[i] < -3)| (Xcon[i] > 3)].index\n",
    "    out.extend(o)"
   ]
  },
  {
   "cell_type": "code",
   "execution_count": 63,
   "id": "bc25524c-668b-4fb4-9624-f0e5f03fb2c6",
   "metadata": {},
   "outputs": [
    {
     "data": {
      "text/plain": [
       "[47, 58, 58, 58, 38, 41, 38, 41, 16, 59]"
      ]
     },
     "execution_count": 63,
     "metadata": {},
     "output_type": "execute_result"
    }
   ],
   "source": [
    "out"
   ]
  },
  {
   "cell_type": "code",
   "execution_count": 65,
   "id": "95ab4f37-f744-4850-9472-d9f89a3d5d1c",
   "metadata": {},
   "outputs": [
    {
     "data": {
      "text/plain": [
       "[38, 41, 47, 16, 58, 59]"
      ]
     },
     "execution_count": 65,
     "metadata": {},
     "output_type": "execute_result"
    }
   ],
   "source": [
    "a = list(set(out))\n",
    "a"
   ]
  },
  {
   "cell_type": "code",
   "execution_count": 67,
   "id": "4b28049d-5b6e-46b1-942b-85162cd6e462",
   "metadata": {},
   "outputs": [],
   "source": [
    "X = X.drop(index=a,axis=0)\n",
    "Y = Y.drop(index=a,axis=0)"
   ]
  },
  {
   "cell_type": "code",
   "execution_count": 69,
   "id": "9b40a640-cce3-4af2-9cee-b1f967ccc72e",
   "metadata": {},
   "outputs": [],
   "source": [
    "X.index=range(X.shape[0])\n",
    "Y.index=range(Y.shape[0])"
   ]
  },
  {
   "cell_type": "code",
   "execution_count": 71,
   "id": "9aff03cf-397a-4555-aa8e-c392e797fe41",
   "metadata": {},
   "outputs": [
    {
     "data": {
      "text/plain": [
       "(87, 27)"
      ]
     },
     "execution_count": 71,
     "metadata": {},
     "output_type": "execute_result"
    }
   ],
   "source": [
    "X.shape"
   ]
  },
  {
   "cell_type": "code",
   "execution_count": 73,
   "id": "8e61806e-1cda-4a1a-8e28-209dc2869f5c",
   "metadata": {},
   "outputs": [
    {
     "data": {
      "text/plain": [
       "(87, 1)"
      ]
     },
     "execution_count": 73,
     "metadata": {},
     "output_type": "execute_result"
    }
   ],
   "source": [
    "Y.shape"
   ]
  },
  {
   "cell_type": "code",
   "execution_count": 99,
   "id": "a6690b29-753d-4218-ad3f-3ac88eaca630",
   "metadata": {},
   "outputs": [
    {
     "name": "stderr",
     "output_type": "stream",
     "text": [
      "C:\\Users\\ASUS\\anaconda3\\Lib\\site-packages\\sklearn\\preprocessing\\_label.py:114: DataConversionWarning: A column-vector y was passed when a 1d array was expected. Please change the shape of y to (n_samples, ), for example using ravel().\n",
      "  y = column_or_1d(y, warn=True)\n"
     ]
    }
   ],
   "source": [
    "Y = le.fit_transform(Y)"
   ]
  },
  {
   "cell_type": "code",
   "execution_count": 101,
   "id": "1ceb2445-4251-4ee1-8f88-ab729b8c19a4",
   "metadata": {},
   "outputs": [],
   "source": [
    "from sklearn.model_selection import train_test_split"
   ]
  },
  {
   "cell_type": "code",
   "execution_count": 103,
   "id": "d6624309-48e1-4b84-a0bf-f1bddf4a158e",
   "metadata": {},
   "outputs": [],
   "source": [
    "xtrain,xtest,ytrain,ytest=train_test_split(X,Y,test_size=0.2,random_state=42)"
   ]
  },
  {
   "cell_type": "code",
   "execution_count": 105,
   "id": "2d76acdf-d48b-4f19-a1b0-e132e668ed69",
   "metadata": {},
   "outputs": [
    {
     "data": {
      "text/plain": [
       "(69, 27)"
      ]
     },
     "execution_count": 105,
     "metadata": {},
     "output_type": "execute_result"
    }
   ],
   "source": [
    "xtrain.shape"
   ]
  },
  {
   "cell_type": "code",
   "execution_count": 107,
   "id": "db6ccb42-9848-4c39-9466-6a24e3dd2f79",
   "metadata": {},
   "outputs": [
    {
     "data": {
      "text/plain": [
       "(69,)"
      ]
     },
     "execution_count": 107,
     "metadata": {},
     "output_type": "execute_result"
    }
   ],
   "source": [
    "ytrain.shape"
   ]
  },
  {
   "cell_type": "code",
   "execution_count": 109,
   "id": "9645b916-e16c-4e1d-ac8c-79371c69dbf2",
   "metadata": {},
   "outputs": [],
   "source": [
    "from sklearn.ensemble import AdaBoostRegressor"
   ]
  },
  {
   "cell_type": "code",
   "execution_count": 111,
   "id": "c2fe63f3-920a-496f-95ef-a33371299b67",
   "metadata": {},
   "outputs": [],
   "source": [
    "from sklearn.linear_model import LinearRegression"
   ]
  },
  {
   "cell_type": "code",
   "execution_count": 113,
   "id": "a05c8d04-27b7-4fc2-8009-14a1fcd6e2a0",
   "metadata": {},
   "outputs": [],
   "source": [
    "lr = LinearRegression()"
   ]
  },
  {
   "cell_type": "code",
   "execution_count": 115,
   "id": "389cef5b-586a-47ca-9057-a2154a4507b2",
   "metadata": {},
   "outputs": [],
   "source": [
    "ADB = AdaBoostRegressor(lr,n_estimators=20)\n",
    "model = ADB.fit(xtrain,ytrain)"
   ]
  },
  {
   "cell_type": "code",
   "execution_count": 117,
   "id": "12601010-d141-4a6d-8a8f-34745adc2473",
   "metadata": {},
   "outputs": [],
   "source": [
    "from sklearn.ensemble import RandomForestRegressor"
   ]
  },
  {
   "cell_type": "code",
   "execution_count": 119,
   "id": "c0a91f80-b4c5-4efc-bfb3-1e82c8c7bd69",
   "metadata": {},
   "outputs": [],
   "source": [
    "rf = RandomForestRegressor(n_estimators=15)\n",
    "adb = AdaBoostRegressor(rf,n_estimators=20)\n",
    "model = adb.fit(xtrain,ytrain)"
   ]
  },
  {
   "cell_type": "code",
   "execution_count": 141,
   "id": "32038d7c-1acd-4eea-8e94-35e8624877e2",
   "metadata": {},
   "outputs": [],
   "source": [
    "tr_pred = model.predict(xtrain)\n",
    "ts_pred = model.predict(xtest)"
   ]
  },
  {
   "cell_type": "code",
   "execution_count": 147,
   "id": "0750bb85-2ffd-4765-92cd-cbd68cb4d0af",
   "metadata": {},
   "outputs": [
    {
     "name": "stdout",
     "output_type": "stream",
     "text": [
      "0.9666348918493719\n"
     ]
    }
   ],
   "source": [
    " # Generate predictions for test data\n",
    "tr_score = r2_score(ytrain, tr_pred)  # Compute R² score\n",
    "print(ts_score)\n"
   ]
  },
  {
   "cell_type": "code",
   "execution_count": 149,
   "id": "b8605f84-9a25-4169-8544-2a41e9872494",
   "metadata": {},
   "outputs": [
    {
     "data": {
      "text/plain": [
       "0.9666348918493719"
      ]
     },
     "execution_count": 149,
     "metadata": {},
     "output_type": "execute_result"
    }
   ],
   "source": [
    "ts_score = r2_score(ytest,ts_pred)\n",
    "ts_score"
   ]
  },
  {
   "cell_type": "code",
   "execution_count": null,
   "id": "769388d5-bf08-49a1-9511-f86b6030ec03",
   "metadata": {},
   "outputs": [],
   "source": []
  }
 ],
 "metadata": {
  "kernelspec": {
   "display_name": "Python 3 (ipykernel)",
   "language": "python",
   "name": "python3"
  },
  "language_info": {
   "codemirror_mode": {
    "name": "ipython",
    "version": 3
   },
   "file_extension": ".py",
   "mimetype": "text/x-python",
   "name": "python",
   "nbconvert_exporter": "python",
   "pygments_lexer": "ipython3",
   "version": "3.12.4"
  }
 },
 "nbformat": 4,
 "nbformat_minor": 5
}

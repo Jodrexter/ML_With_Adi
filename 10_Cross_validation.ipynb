{
 "cells": [
  {
   "cell_type": "code",
   "execution_count": 262,
   "id": "2e908a21-14d8-4fbd-9413-9be1538f9096",
   "metadata": {},
   "outputs": [],
   "source": [
    "import pandas as pd"
   ]
  },
  {
   "cell_type": "code",
   "execution_count": 264,
   "id": "918bbd86-2cfb-492c-a10d-2fd39648c716",
   "metadata": {},
   "outputs": [],
   "source": [
    "df = pd.read_csv(\"D:/ETL HIVE/PYTHON/ADV PY/Cars93.csv\")"
   ]
  },
  {
   "cell_type": "code",
   "execution_count": 266,
   "id": "704bafdc-d076-4dbf-a0e5-86e780e1f487",
   "metadata": {},
   "outputs": [
    {
     "data": {
      "text/html": [
       "<div>\n",
       "<style scoped>\n",
       "    .dataframe tbody tr th:only-of-type {\n",
       "        vertical-align: middle;\n",
       "    }\n",
       "\n",
       "    .dataframe tbody tr th {\n",
       "        vertical-align: top;\n",
       "    }\n",
       "\n",
       "    .dataframe thead th {\n",
       "        text-align: right;\n",
       "    }\n",
       "</style>\n",
       "<table border=\"1\" class=\"dataframe\">\n",
       "  <thead>\n",
       "    <tr style=\"text-align: right;\">\n",
       "      <th></th>\n",
       "      <th>id</th>\n",
       "      <th>Manufacturer</th>\n",
       "      <th>Model</th>\n",
       "      <th>Type</th>\n",
       "      <th>Min.Price</th>\n",
       "      <th>Price</th>\n",
       "      <th>Max.Price</th>\n",
       "      <th>MPG.city</th>\n",
       "      <th>MPG.highway</th>\n",
       "      <th>AirBags</th>\n",
       "      <th>...</th>\n",
       "      <th>Passengers</th>\n",
       "      <th>Length</th>\n",
       "      <th>Wheelbase</th>\n",
       "      <th>Width</th>\n",
       "      <th>Turn.circle</th>\n",
       "      <th>Rear.seat.room</th>\n",
       "      <th>Luggage.room</th>\n",
       "      <th>Weight</th>\n",
       "      <th>Origin</th>\n",
       "      <th>Make</th>\n",
       "    </tr>\n",
       "  </thead>\n",
       "  <tbody>\n",
       "    <tr>\n",
       "      <th>0</th>\n",
       "      <td>1</td>\n",
       "      <td>Acura</td>\n",
       "      <td>Integra</td>\n",
       "      <td>Small</td>\n",
       "      <td>12.9</td>\n",
       "      <td>15.9</td>\n",
       "      <td>18.8</td>\n",
       "      <td>25</td>\n",
       "      <td>31</td>\n",
       "      <td>NaN</td>\n",
       "      <td>...</td>\n",
       "      <td>5</td>\n",
       "      <td>177</td>\n",
       "      <td>102</td>\n",
       "      <td>68</td>\n",
       "      <td>37</td>\n",
       "      <td>26.5</td>\n",
       "      <td>11.0</td>\n",
       "      <td>2705</td>\n",
       "      <td>non-USA</td>\n",
       "      <td>Acura Integra</td>\n",
       "    </tr>\n",
       "    <tr>\n",
       "      <th>1</th>\n",
       "      <td>2</td>\n",
       "      <td>Acura</td>\n",
       "      <td>Legend</td>\n",
       "      <td>Midsize</td>\n",
       "      <td>29.2</td>\n",
       "      <td>33.9</td>\n",
       "      <td>38.7</td>\n",
       "      <td>18</td>\n",
       "      <td>25</td>\n",
       "      <td>Driver &amp; Passenger</td>\n",
       "      <td>...</td>\n",
       "      <td>5</td>\n",
       "      <td>195</td>\n",
       "      <td>115</td>\n",
       "      <td>71</td>\n",
       "      <td>38</td>\n",
       "      <td>30.0</td>\n",
       "      <td>15.0</td>\n",
       "      <td>3560</td>\n",
       "      <td>non-USA</td>\n",
       "      <td>Acura Legend</td>\n",
       "    </tr>\n",
       "    <tr>\n",
       "      <th>2</th>\n",
       "      <td>3</td>\n",
       "      <td>Audi</td>\n",
       "      <td>90</td>\n",
       "      <td>Compact</td>\n",
       "      <td>25.9</td>\n",
       "      <td>29.1</td>\n",
       "      <td>32.3</td>\n",
       "      <td>20</td>\n",
       "      <td>26</td>\n",
       "      <td>Driver only</td>\n",
       "      <td>...</td>\n",
       "      <td>5</td>\n",
       "      <td>180</td>\n",
       "      <td>102</td>\n",
       "      <td>67</td>\n",
       "      <td>37</td>\n",
       "      <td>28.0</td>\n",
       "      <td>14.0</td>\n",
       "      <td>3375</td>\n",
       "      <td>non-USA</td>\n",
       "      <td>Audi 90</td>\n",
       "    </tr>\n",
       "    <tr>\n",
       "      <th>3</th>\n",
       "      <td>4</td>\n",
       "      <td>Audi</td>\n",
       "      <td>100</td>\n",
       "      <td>Midsize</td>\n",
       "      <td>30.8</td>\n",
       "      <td>37.7</td>\n",
       "      <td>44.6</td>\n",
       "      <td>19</td>\n",
       "      <td>26</td>\n",
       "      <td>NaN</td>\n",
       "      <td>...</td>\n",
       "      <td>6</td>\n",
       "      <td>193</td>\n",
       "      <td>106</td>\n",
       "      <td>70</td>\n",
       "      <td>37</td>\n",
       "      <td>31.0</td>\n",
       "      <td>17.0</td>\n",
       "      <td>3405</td>\n",
       "      <td>non-USA</td>\n",
       "      <td>Audi 100</td>\n",
       "    </tr>\n",
       "    <tr>\n",
       "      <th>4</th>\n",
       "      <td>5</td>\n",
       "      <td>BMW</td>\n",
       "      <td>535i</td>\n",
       "      <td>Midsize</td>\n",
       "      <td>23.7</td>\n",
       "      <td>30.0</td>\n",
       "      <td>36.2</td>\n",
       "      <td>22</td>\n",
       "      <td>30</td>\n",
       "      <td>Driver only</td>\n",
       "      <td>...</td>\n",
       "      <td>4</td>\n",
       "      <td>186</td>\n",
       "      <td>109</td>\n",
       "      <td>69</td>\n",
       "      <td>39</td>\n",
       "      <td>27.0</td>\n",
       "      <td>13.0</td>\n",
       "      <td>3640</td>\n",
       "      <td>non-USA</td>\n",
       "      <td>BMW 535i</td>\n",
       "    </tr>\n",
       "    <tr>\n",
       "      <th>...</th>\n",
       "      <td>...</td>\n",
       "      <td>...</td>\n",
       "      <td>...</td>\n",
       "      <td>...</td>\n",
       "      <td>...</td>\n",
       "      <td>...</td>\n",
       "      <td>...</td>\n",
       "      <td>...</td>\n",
       "      <td>...</td>\n",
       "      <td>...</td>\n",
       "      <td>...</td>\n",
       "      <td>...</td>\n",
       "      <td>...</td>\n",
       "      <td>...</td>\n",
       "      <td>...</td>\n",
       "      <td>...</td>\n",
       "      <td>...</td>\n",
       "      <td>...</td>\n",
       "      <td>...</td>\n",
       "      <td>...</td>\n",
       "      <td>...</td>\n",
       "    </tr>\n",
       "    <tr>\n",
       "      <th>88</th>\n",
       "      <td>89</td>\n",
       "      <td>Volkswagen</td>\n",
       "      <td>Eurovan</td>\n",
       "      <td>Van</td>\n",
       "      <td>16.6</td>\n",
       "      <td>19.7</td>\n",
       "      <td>22.7</td>\n",
       "      <td>17</td>\n",
       "      <td>21</td>\n",
       "      <td>NaN</td>\n",
       "      <td>...</td>\n",
       "      <td>7</td>\n",
       "      <td>187</td>\n",
       "      <td>115</td>\n",
       "      <td>72</td>\n",
       "      <td>38</td>\n",
       "      <td>34.0</td>\n",
       "      <td>NaN</td>\n",
       "      <td>3960</td>\n",
       "      <td>non-USA</td>\n",
       "      <td>Volkswagen Eurovan</td>\n",
       "    </tr>\n",
       "    <tr>\n",
       "      <th>89</th>\n",
       "      <td>90</td>\n",
       "      <td>Volkswagen</td>\n",
       "      <td>Passat</td>\n",
       "      <td>Compact</td>\n",
       "      <td>17.6</td>\n",
       "      <td>20.0</td>\n",
       "      <td>22.4</td>\n",
       "      <td>21</td>\n",
       "      <td>30</td>\n",
       "      <td>NaN</td>\n",
       "      <td>...</td>\n",
       "      <td>5</td>\n",
       "      <td>180</td>\n",
       "      <td>103</td>\n",
       "      <td>67</td>\n",
       "      <td>35</td>\n",
       "      <td>31.5</td>\n",
       "      <td>14.0</td>\n",
       "      <td>2985</td>\n",
       "      <td>non-USA</td>\n",
       "      <td>Volkswagen Passat</td>\n",
       "    </tr>\n",
       "    <tr>\n",
       "      <th>90</th>\n",
       "      <td>91</td>\n",
       "      <td>Volkswagen</td>\n",
       "      <td>Corrado</td>\n",
       "      <td>Sporty</td>\n",
       "      <td>22.9</td>\n",
       "      <td>23.3</td>\n",
       "      <td>23.7</td>\n",
       "      <td>18</td>\n",
       "      <td>25</td>\n",
       "      <td>NaN</td>\n",
       "      <td>...</td>\n",
       "      <td>4</td>\n",
       "      <td>159</td>\n",
       "      <td>97</td>\n",
       "      <td>66</td>\n",
       "      <td>36</td>\n",
       "      <td>26.0</td>\n",
       "      <td>15.0</td>\n",
       "      <td>2810</td>\n",
       "      <td>non-USA</td>\n",
       "      <td>Volkswagen Corrado</td>\n",
       "    </tr>\n",
       "    <tr>\n",
       "      <th>91</th>\n",
       "      <td>92</td>\n",
       "      <td>Volvo</td>\n",
       "      <td>240</td>\n",
       "      <td>Compact</td>\n",
       "      <td>21.8</td>\n",
       "      <td>22.7</td>\n",
       "      <td>23.5</td>\n",
       "      <td>21</td>\n",
       "      <td>28</td>\n",
       "      <td>Driver only</td>\n",
       "      <td>...</td>\n",
       "      <td>5</td>\n",
       "      <td>190</td>\n",
       "      <td>104</td>\n",
       "      <td>67</td>\n",
       "      <td>37</td>\n",
       "      <td>29.5</td>\n",
       "      <td>14.0</td>\n",
       "      <td>2985</td>\n",
       "      <td>non-USA</td>\n",
       "      <td>Volvo 240</td>\n",
       "    </tr>\n",
       "    <tr>\n",
       "      <th>92</th>\n",
       "      <td>93</td>\n",
       "      <td>Volvo</td>\n",
       "      <td>850</td>\n",
       "      <td>Midsize</td>\n",
       "      <td>24.8</td>\n",
       "      <td>26.7</td>\n",
       "      <td>28.5</td>\n",
       "      <td>20</td>\n",
       "      <td>28</td>\n",
       "      <td>Driver &amp; Passenger</td>\n",
       "      <td>...</td>\n",
       "      <td>5</td>\n",
       "      <td>184</td>\n",
       "      <td>105</td>\n",
       "      <td>69</td>\n",
       "      <td>38</td>\n",
       "      <td>30.0</td>\n",
       "      <td>15.0</td>\n",
       "      <td>3245</td>\n",
       "      <td>non-USA</td>\n",
       "      <td>Volvo 850</td>\n",
       "    </tr>\n",
       "  </tbody>\n",
       "</table>\n",
       "<p>93 rows × 28 columns</p>\n",
       "</div>"
      ],
      "text/plain": [
       "    id Manufacturer    Model     Type  Min.Price  Price  Max.Price  MPG.city  \\\n",
       "0    1        Acura  Integra    Small       12.9   15.9       18.8        25   \n",
       "1    2        Acura   Legend  Midsize       29.2   33.9       38.7        18   \n",
       "2    3         Audi       90  Compact       25.9   29.1       32.3        20   \n",
       "3    4         Audi      100  Midsize       30.8   37.7       44.6        19   \n",
       "4    5          BMW     535i  Midsize       23.7   30.0       36.2        22   \n",
       "..  ..          ...      ...      ...        ...    ...        ...       ...   \n",
       "88  89   Volkswagen  Eurovan      Van       16.6   19.7       22.7        17   \n",
       "89  90   Volkswagen   Passat  Compact       17.6   20.0       22.4        21   \n",
       "90  91   Volkswagen  Corrado   Sporty       22.9   23.3       23.7        18   \n",
       "91  92        Volvo      240  Compact       21.8   22.7       23.5        21   \n",
       "92  93        Volvo      850  Midsize       24.8   26.7       28.5        20   \n",
       "\n",
       "    MPG.highway             AirBags  ... Passengers Length  Wheelbase  Width  \\\n",
       "0            31                 NaN  ...          5    177        102     68   \n",
       "1            25  Driver & Passenger  ...          5    195        115     71   \n",
       "2            26         Driver only  ...          5    180        102     67   \n",
       "3            26                 NaN  ...          6    193        106     70   \n",
       "4            30         Driver only  ...          4    186        109     69   \n",
       "..          ...                 ...  ...        ...    ...        ...    ...   \n",
       "88           21                 NaN  ...          7    187        115     72   \n",
       "89           30                 NaN  ...          5    180        103     67   \n",
       "90           25                 NaN  ...          4    159         97     66   \n",
       "91           28         Driver only  ...          5    190        104     67   \n",
       "92           28  Driver & Passenger  ...          5    184        105     69   \n",
       "\n",
       "    Turn.circle  Rear.seat.room Luggage.room  Weight   Origin  \\\n",
       "0            37            26.5         11.0    2705  non-USA   \n",
       "1            38            30.0         15.0    3560  non-USA   \n",
       "2            37            28.0         14.0    3375  non-USA   \n",
       "3            37            31.0         17.0    3405  non-USA   \n",
       "4            39            27.0         13.0    3640  non-USA   \n",
       "..          ...             ...          ...     ...      ...   \n",
       "88           38            34.0          NaN    3960  non-USA   \n",
       "89           35            31.5         14.0    2985  non-USA   \n",
       "90           36            26.0         15.0    2810  non-USA   \n",
       "91           37            29.5         14.0    2985  non-USA   \n",
       "92           38            30.0         15.0    3245  non-USA   \n",
       "\n",
       "                  Make  \n",
       "0        Acura Integra  \n",
       "1         Acura Legend  \n",
       "2              Audi 90  \n",
       "3             Audi 100  \n",
       "4             BMW 535i  \n",
       "..                 ...  \n",
       "88  Volkswagen Eurovan  \n",
       "89   Volkswagen Passat  \n",
       "90  Volkswagen Corrado  \n",
       "91           Volvo 240  \n",
       "92           Volvo 850  \n",
       "\n",
       "[93 rows x 28 columns]"
      ]
     },
     "execution_count": 266,
     "metadata": {},
     "output_type": "execute_result"
    }
   ],
   "source": [
    "df"
   ]
  },
  {
   "cell_type": "code",
   "execution_count": 268,
   "id": "e74504af-ee7a-4712-b960-9efb939f6c27",
   "metadata": {},
   "outputs": [
    {
     "data": {
      "text/plain": [
       "<Axes: >"
      ]
     },
     "execution_count": 268,
     "metadata": {},
     "output_type": "execute_result"
    },
    {
     "data": {
      "image/png": "[encoded data removed]",
      "text/plain": [
       "<Figure size 640x480 with 1 Axes>"
      ]
     },
     "metadata": {},
     "output_type": "display_data"
    }
   ],
   "source": [
    "df.isna().sum().plot(kind='bar')"
   ]
  },
  {
   "cell_type": "code",
   "execution_count": 270,
   "id": "a1b85f9c-bdd2-47e7-9f5f-231db8512cad",
   "metadata": {},
   "outputs": [],
   "source": [
    "for i in df.columns:\n",
    "    if df[i].dtypes== object:\n",
    "        df[i]=df[i].fillna(df[i].mode()[0])\n",
    "    else:\n",
    "        df[i]=df[i].fillna(df[i].mean())\n",
    "    "
   ]
  },
  {
   "cell_type": "code",
   "execution_count": 272,
   "id": "61ad3bc5-69f5-437f-bdb4-3338699bcd29",
   "metadata": {},
   "outputs": [
    {
     "data": {
      "text/plain": [
       "<Axes: >"
      ]
     },
     "execution_count": 272,
     "metadata": {},
     "output_type": "execute_result"
    },
    {
     "data": {
      "image/png": "[encoded data removed]",
      "text/plain": [
       "<Figure size 640x480 with 1 Axes>"
      ]
     },
     "metadata": {},
     "output_type": "display_data"
    }
   ],
   "source": [
    "df.isna().sum().plot(kind='bar')"
   ]
  },
  {
   "cell_type": "code",
   "execution_count": 274,
   "id": "cf5c8a2a-1363-4b7f-98f7-b06de1235710",
   "metadata": {},
   "outputs": [],
   "source": [
    "X = df.drop('Weight',axis=1)"
   ]
  },
  {
   "cell_type": "code",
   "execution_count": 276,
   "id": "1f7f55fa-99e5-4fe7-bb8c-4e844fbf6292",
   "metadata": {},
   "outputs": [],
   "source": [
    "Y = df[['Weight']]"
   ]
  },
  {
   "cell_type": "code",
   "execution_count": 278,
   "id": "af0af15b-da68-4d4a-90bd-81a3271eebe3",
   "metadata": {},
   "outputs": [],
   "source": [
    "cat = []\n",
    "con = []\n",
    "\n",
    "for i in X.columns:\n",
    "    if X[i].dtypes==object:\n",
    "        cat.append(i)\n",
    "    else:\n",
    "        con.append(i)"
   ]
  },
  {
   "cell_type": "code",
   "execution_count": 280,
   "id": "6981a70f-eb45-4a18-8d42-0582efcc9b9f",
   "metadata": {},
   "outputs": [],
   "source": [
    "Xcat = X [cat]\n",
    "Xcon = X [con]"
   ]
  },
  {
   "cell_type": "code",
   "execution_count": 282,
   "id": "f411fa07-8b5b-4607-814f-55b473a7a984",
   "metadata": {},
   "outputs": [],
   "source": [
    "from sklearn.preprocessing import LabelEncoder,StandardScaler"
   ]
  },
  {
   "cell_type": "code",
   "execution_count": 284,
   "id": "befcf8b2-f330-48a0-8597-2a57712055d0",
   "metadata": {},
   "outputs": [],
   "source": [
    "le = LabelEncoder()\n",
    "ss = StandardScaler()"
   ]
  },
  {
   "cell_type": "code",
   "execution_count": 286,
   "id": "f055551b-8188-42c1-9fd5-20085ee8f221",
   "metadata": {},
   "outputs": [
    {
     "name": "stderr",
     "output_type": "stream",
     "text": [
      "C:\\Users\\ASUS\\AppData\\Local\\Temp\\ipykernel_18884\\188807692.py:2: SettingWithCopyWarning: \n",
      "A value is trying to be set on a copy of a slice from a DataFrame.\n",
      "Try using .loc[row_indexer,col_indexer] = value instead\n",
      "\n",
      "See the caveats in the documentation: https://pandas.pydata.org/pandas-docs/stable/user_guide/indexing.html#returning-a-view-versus-a-copy\n",
      "  Xcat[i]=le.fit_transform(Xcat[i])\n",
      "C:\\Users\\ASUS\\AppData\\Local\\Temp\\ipykernel_18884\\188807692.py:2: SettingWithCopyWarning: \n",
      "A value is trying to be set on a copy of a slice from a DataFrame.\n",
      "Try using .loc[row_indexer,col_indexer] = value instead\n",
      "\n",
      "See the caveats in the documentation: https://pandas.pydata.org/pandas-docs/stable/user_guide/indexing.html#returning-a-view-versus-a-copy\n",
      "  Xcat[i]=le.fit_transform(Xcat[i])\n",
      "C:\\Users\\ASUS\\AppData\\Local\\Temp\\ipykernel_18884\\188807692.py:2: SettingWithCopyWarning: \n",
      "A value is trying to be set on a copy of a slice from a DataFrame.\n",
      "Try using .loc[row_indexer,col_indexer] = value instead\n",
      "\n",
      "See the caveats in the documentation: https://pandas.pydata.org/pandas-docs/stable/user_guide/indexing.html#returning-a-view-versus-a-copy\n",
      "  Xcat[i]=le.fit_transform(Xcat[i])\n",
      "C:\\Users\\ASUS\\AppData\\Local\\Temp\\ipykernel_18884\\188807692.py:2: SettingWithCopyWarning: \n",
      "A value is trying to be set on a copy of a slice from a DataFrame.\n",
      "Try using .loc[row_indexer,col_indexer] = value instead\n",
      "\n",
      "See the caveats in the documentation: https://pandas.pydata.org/pandas-docs/stable/user_guide/indexing.html#returning-a-view-versus-a-copy\n",
      "  Xcat[i]=le.fit_transform(Xcat[i])\n",
      "C:\\Users\\ASUS\\AppData\\Local\\Temp\\ipykernel_18884\\188807692.py:2: SettingWithCopyWarning: \n",
      "A value is trying to be set on a copy of a slice from a DataFrame.\n",
      "Try using .loc[row_indexer,col_indexer] = value instead\n",
      "\n",
      "See the caveats in the documentation: https://pandas.pydata.org/pandas-docs/stable/user_guide/indexing.html#returning-a-view-versus-a-copy\n",
      "  Xcat[i]=le.fit_transform(Xcat[i])\n",
      "C:\\Users\\ASUS\\AppData\\Local\\Temp\\ipykernel_18884\\188807692.py:2: SettingWithCopyWarning: \n",
      "A value is trying to be set on a copy of a slice from a DataFrame.\n",
      "Try using .loc[row_indexer,col_indexer] = value instead\n",
      "\n",
      "See the caveats in the documentation: https://pandas.pydata.org/pandas-docs/stable/user_guide/indexing.html#returning-a-view-versus-a-copy\n",
      "  Xcat[i]=le.fit_transform(Xcat[i])\n",
      "C:\\Users\\ASUS\\AppData\\Local\\Temp\\ipykernel_18884\\188807692.py:2: SettingWithCopyWarning: \n",
      "A value is trying to be set on a copy of a slice from a DataFrame.\n",
      "Try using .loc[row_indexer,col_indexer] = value instead\n",
      "\n",
      "See the caveats in the documentation: https://pandas.pydata.org/pandas-docs/stable/user_guide/indexing.html#returning-a-view-versus-a-copy\n",
      "  Xcat[i]=le.fit_transform(Xcat[i])\n",
      "C:\\Users\\ASUS\\AppData\\Local\\Temp\\ipykernel_18884\\188807692.py:2: SettingWithCopyWarning: \n",
      "A value is trying to be set on a copy of a slice from a DataFrame.\n",
      "Try using .loc[row_indexer,col_indexer] = value instead\n",
      "\n",
      "See the caveats in the documentation: https://pandas.pydata.org/pandas-docs/stable/user_guide/indexing.html#returning-a-view-versus-a-copy\n",
      "  Xcat[i]=le.fit_transform(Xcat[i])\n",
      "C:\\Users\\ASUS\\AppData\\Local\\Temp\\ipykernel_18884\\188807692.py:2: SettingWithCopyWarning: \n",
      "A value is trying to be set on a copy of a slice from a DataFrame.\n",
      "Try using .loc[row_indexer,col_indexer] = value instead\n",
      "\n",
      "See the caveats in the documentation: https://pandas.pydata.org/pandas-docs/stable/user_guide/indexing.html#returning-a-view-versus-a-copy\n",
      "  Xcat[i]=le.fit_transform(Xcat[i])\n"
     ]
    }
   ],
   "source": [
    "for i in Xcat.columns:\n",
    "    Xcat[i]=le.fit_transform(Xcat[i])"
   ]
  },
  {
   "cell_type": "code",
   "execution_count": 288,
   "id": "da1aa78f-5007-44b9-9d0d-e257f96f7dae",
   "metadata": {},
   "outputs": [],
   "source": [
    "Xcon = pd.DataFrame(ss.fit_transform(Xcon),columns=con)"
   ]
  },
  {
   "cell_type": "code",
   "execution_count": 290,
   "id": "ccb291f6-336b-4746-b260-1035478be822",
   "metadata": {},
   "outputs": [],
   "source": [
    "X = Xcon.join(Xcat)"
   ]
  },
  {
   "cell_type": "code",
   "execution_count": 292,
   "id": "7d385536-d56f-43b0-9a37-62c8e4a6b0ae",
   "metadata": {},
   "outputs": [],
   "source": [
    "out = []\n",
    "for i in Xcon.columns:\n",
    "    o = Xcon[(Xcon[i]<-3)|(Xcon[i]>3)].index\n",
    "    out.extend(o)"
   ]
  },
  {
   "cell_type": "code",
   "execution_count": 294,
   "id": "c648420d-5d78-4697-9907-8e9af8db9b11",
   "metadata": {},
   "outputs": [
    {
     "data": {
      "text/plain": [
       "[38, 41, 47, 16, 58, 59]"
      ]
     },
     "execution_count": 294,
     "metadata": {},
     "output_type": "execute_result"
    }
   ],
   "source": [
    "a = list(set(out))\n",
    "a"
   ]
  },
  {
   "cell_type": "code",
   "execution_count": 296,
   "id": "e8d7f21b-852e-4e57-96eb-5824afed543d",
   "metadata": {},
   "outputs": [],
   "source": [
    "X = X.drop(index=a,axis=0)\n",
    "Y = Y.drop(index=a,axis=0)"
   ]
  },
  {
   "cell_type": "code",
   "execution_count": 298,
   "id": "8598ffb7-bccb-41f2-903e-238cdad0e336",
   "metadata": {},
   "outputs": [],
   "source": [
    "X.index=range(X.shape[0])\n",
    "Y.index=range(Y.shape[0])"
   ]
  },
  {
   "cell_type": "code",
   "execution_count": null,
   "id": "ab89fae0-9db7-430c-baf3-4bb8c0cc4e80",
   "metadata": {},
   "outputs": [],
   "source": []
  },
  {
   "cell_type": "code",
   "execution_count": 301,
   "id": "31a3f95d-a620-4ccd-8ab6-317aaaa9457b",
   "metadata": {},
   "outputs": [
    {
     "data": {
      "text/plain": [
       "(87, 27)"
      ]
     },
     "execution_count": 301,
     "metadata": {},
     "output_type": "execute_result"
    }
   ],
   "source": [
    "X.shape"
   ]
  },
  {
   "cell_type": "code",
   "execution_count": 303,
   "id": "31b875ca-31bb-40ab-9f68-f3328f5b711b",
   "metadata": {},
   "outputs": [
    {
     "data": {
      "text/plain": [
       "(87, 1)"
      ]
     },
     "execution_count": 303,
     "metadata": {},
     "output_type": "execute_result"
    }
   ],
   "source": [
    "Y.shape"
   ]
  },
  {
   "cell_type": "code",
   "execution_count": 305,
   "id": "9d7ffec7-c6b5-4edf-9935-faaa84b7b4fc",
   "metadata": {},
   "outputs": [],
   "source": [
    "from sklearn.model_selection import train_test_split"
   ]
  },
  {
   "cell_type": "code",
   "execution_count": 307,
   "id": "69d724e5-3abf-4190-916f-acdac1c1037c",
   "metadata": {},
   "outputs": [],
   "source": [
    "xtrain,xtest,ytrain,ytest=train_test_split(X,Y,test_size=0.2,random_state=42)"
   ]
  },
  {
   "cell_type": "code",
   "execution_count": 309,
   "id": "7a811a81-aa7d-4a5b-bd3e-49163fe13200",
   "metadata": {},
   "outputs": [
    {
     "data": {
      "text/plain": [
       "(69, 27)"
      ]
     },
     "execution_count": 309,
     "metadata": {},
     "output_type": "execute_result"
    }
   ],
   "source": [
    "xtrain.shape\n"
   ]
  },
  {
   "cell_type": "code",
   "execution_count": 311,
   "id": "432a6d3f-60d0-4699-98b5-0b0f3cea3647",
   "metadata": {},
   "outputs": [
    {
     "data": {
      "text/plain": [
       "(69, 1)"
      ]
     },
     "execution_count": 311,
     "metadata": {},
     "output_type": "execute_result"
    }
   ],
   "source": [
    "ytrain.shape"
   ]
  },
  {
   "cell_type": "code",
   "execution_count": 313,
   "id": "6deed057-2485-43c9-977a-4febaa60c77e",
   "metadata": {},
   "outputs": [],
   "source": [
    "from sklearn.linear_model import LinearRegression\n"
   ]
  },
  {
   "cell_type": "code",
   "execution_count": 315,
   "id": "df4ee69c-59cb-4ad4-8a63-ee53bfd2481b",
   "metadata": {},
   "outputs": [],
   "source": [
    "lr = LinearRegression()"
   ]
  },
  {
   "cell_type": "code",
   "execution_count": 317,
   "id": "eaea5bd2-24c9-4237-91ab-f0c41dcc2a2f",
   "metadata": {},
   "outputs": [],
   "source": [
    "model = lr.fit(xtrain,ytrain)"
   ]
  },
  {
   "cell_type": "code",
   "execution_count": 319,
   "id": "d568b612-719e-45e0-b2e0-3604bf07e9ee",
   "metadata": {},
   "outputs": [],
   "source": [
    "tr_pred = model.predict(xtrain)\n"
   ]
  },
  {
   "cell_type": "code",
   "execution_count": 321,
   "id": "9cb61dc5-9894-4c6c-b50c-f1fc3edf80be",
   "metadata": {},
   "outputs": [],
   "source": [
    "ts_pred = model.predict(xtest)"
   ]
  },
  {
   "cell_type": "code",
   "execution_count": 323,
   "id": "63a62de4-fc61-4a80-98d0-1f21929c26fa",
   "metadata": {},
   "outputs": [],
   "source": [
    "from sklearn.metrics import r2_score"
   ]
  },
  {
   "cell_type": "code",
   "execution_count": 325,
   "id": "7963a849-2aef-446a-aa31-924183cee561",
   "metadata": {},
   "outputs": [
    {
     "data": {
      "text/plain": [
       "0.9691344708192086"
      ]
     },
     "execution_count": 325,
     "metadata": {},
     "output_type": "execute_result"
    }
   ],
   "source": [
    "tr_score = r2_score(ytrain,tr_pred)\n",
    "tr_score"
   ]
  },
  {
   "cell_type": "code",
   "execution_count": 327,
   "id": "348ce2fb-7b4b-4cec-94b1-db9eb2cb7e33",
   "metadata": {},
   "outputs": [
    {
     "data": {
      "text/plain": [
       "0.8596502283959535"
      ]
     },
     "execution_count": 327,
     "metadata": {},
     "output_type": "execute_result"
    }
   ],
   "source": [
    "ts_score = r2_score(ytest,ts_pred)\n",
    "ts_score"
   ]
  },
  {
   "cell_type": "code",
   "execution_count": 329,
   "id": "f59e1855-c3fd-450e-b22a-e82811aa27a1",
   "metadata": {},
   "outputs": [],
   "source": [
    "from sklearn.linear_model import Ridge"
   ]
  },
  {
   "cell_type": "code",
   "execution_count": 331,
   "id": "a92ab7e4-cad5-4243-a1f0-a3acaf84804d",
   "metadata": {},
   "outputs": [],
   "source": [
    "a = []\n",
    "e = 0.01\n",
    "\n",
    "for i in range(0,1000,1):\n",
    "    a.append(e)\n",
    "    e = round(e + 0.01,2)"
   ]
  },
  {
   "cell_type": "code",
   "execution_count": 333,
   "id": "89822907-f0af-4335-a3ed-225342cb2188",
   "metadata": {},
   "outputs": [
    {
     "name": "stdout",
     "output_type": "stream",
     "text": [
      "[0.9689, 0.9689, 0.9688, 0.9688, 0.9688, 0.9688, 0.9688, 0.9688, 0.9688, 0.9688, 0.9687, 0.9687, 0.9687, 0.9687, 0.9687, 0.9687, 0.9687, 0.9686, 0.9686, 0.9686, 0.9686, 0.9686, 0.9686, 0.9686, 0.9686, 0.9685, 0.9685, 0.9685, 0.9685, 0.9685, 0.9685, 0.9685, 0.9685, 0.9684, 0.9684, 0.9684, 0.9684, 0.9684, 0.9684, 0.9684, 0.9684, 0.9683, 0.9683, 0.9683, 0.9683, 0.9683, 0.9683, 0.9683, 0.9683, 0.9682, 0.9682, 0.9682, 0.9682, 0.9682, 0.9682, 0.9682, 0.9682, 0.9681, 0.9681, 0.9681, 0.9681, 0.9681, 0.9681, 0.9681, 0.9681, 0.968, 0.968, 0.968, 0.968, 0.968, 0.968, 0.968, 0.968, 0.9679, 0.9679, 0.9679, 0.9679, 0.9679, 0.9679, 0.9679, 0.9679, 0.9678, 0.9678, 0.9678, 0.9678, 0.9678, 0.9678, 0.9678, 0.9678, 0.9677, 0.9677, 0.9677, 0.9677, 0.9677, 0.9677, 0.9677, 0.9677, 0.9676, 0.9676, 0.9676, 0.9676, 0.9676, 0.9676, 0.9676, 0.9676, 0.9675, 0.9675, 0.9675, 0.9675, 0.9675, 0.9675, 0.9675, 0.9675, 0.9674, 0.9674, 0.9674, 0.9674, 0.9674, 0.9674, 0.9674, 0.9674, 0.9673, 0.9673, 0.9673, 0.9673, 0.9673, 0.9673, 0.9673, 0.9673, 0.9672, 0.9672, 0.9672, 0.9672, 0.9672, 0.9672, 0.9672, 0.9672, 0.9672, 0.9671, 0.9671, 0.9671, 0.9671, 0.9671, 0.9671, 0.9671, 0.9671, 0.967, 0.967, 0.967, 0.967, 0.967, 0.967, 0.967, 0.967, 0.9669, 0.9669, 0.9669, 0.9669, 0.9669, 0.9669, 0.9669, 0.9669, 0.9668, 0.9668, 0.9668, 0.9668, 0.9668, 0.9668, 0.9668, 0.9668, 0.9668, 0.9667, 0.9667, 0.9667, 0.9667, 0.9667, 0.9667, 0.9667, 0.9667, 0.9666, 0.9666, 0.9666, 0.9666, 0.9666, 0.9666, 0.9666, 0.9666, 0.9666, 0.9665, 0.9665, 0.9665, 0.9665, 0.9665, 0.9665, 0.9665, 0.9665, 0.9665, 0.9664, 0.9664, 0.9664, 0.9664, 0.9664, 0.9664, 0.9664, 0.9664, 0.9663, 0.9663, 0.9663, 0.9663, 0.9663, 0.9663, 0.9663, 0.9663, 0.9663, 0.9662, 0.9662, 0.9662, 0.9662, 0.9662, 0.9662, 0.9662, 0.9662, 0.9662, 0.9661, 0.9661, 0.9661, 0.9661, 0.9661, 0.9661, 0.9661, 0.9661, 0.9661, 0.966, 0.966, 0.966, 0.966, 0.966, 0.966, 0.966, 0.966, 0.966, 0.9659, 0.9659, 0.9659, 0.9659, 0.9659, 0.9659, 0.9659, 0.9659, 0.9659, 0.9658, 0.9658, 0.9658, 0.9658, 0.9658, 0.9658, 0.9658, 0.9658, 0.9658, 0.9658, 0.9657, 0.9657, 0.9657, 0.9657, 0.9657, 0.9657, 0.9657, 0.9657, 0.9657, 0.9656, 0.9656, 0.9656, 0.9656, 0.9656, 0.9656, 0.9656, 0.9656, 0.9656, 0.9656, 0.9655, 0.9655, 0.9655, 0.9655, 0.9655, 0.9655, 0.9655, 0.9655, 0.9655, 0.9654, 0.9654, 0.9654, 0.9654, 0.9654, 0.9654, 0.9654, 0.9654, 0.9654, 0.9654, 0.9653, 0.9653, 0.9653, 0.9653, 0.9653, 0.9653, 0.9653, 0.9653, 0.9653, 0.9653, 0.9652, 0.9652, 0.9652, 0.9652, 0.9652, 0.9652, 0.9652, 0.9652, 0.9652, 0.9652, 0.9651, 0.9651, 0.9651, 0.9651, 0.9651, 0.9651, 0.9651, 0.9651, 0.9651, 0.9651, 0.965, 0.965, 0.965, 0.965, 0.965, 0.965, 0.965, 0.965, 0.965, 0.965, 0.9649, 0.9649, 0.9649, 0.9649, 0.9649, 0.9649, 0.9649, 0.9649, 0.9649, 0.9649, 0.9648, 0.9648, 0.9648, 0.9648, 0.9648, 0.9648, 0.9648, 0.9648, 0.9648, 0.9648, 0.9648, 0.9647, 0.9647, 0.9647, 0.9647, 0.9647, 0.9647, 0.9647, 0.9647, 0.9647, 0.9647, 0.9646, 0.9646, 0.9646, 0.9646, 0.9646, 0.9646, 0.9646, 0.9646, 0.9646, 0.9646, 0.9646, 0.9645, 0.9645, 0.9645, 0.9645, 0.9645, 0.9645, 0.9645, 0.9645, 0.9645, 0.9645, 0.9644, 0.9644, 0.9644, 0.9644, 0.9644, 0.9644, 0.9644, 0.9644, 0.9644, 0.9644, 0.9644, 0.9643, 0.9643, 0.9643, 0.9643, 0.9643, 0.9643, 0.9643, 0.9643, 0.9643, 0.9643, 0.9643, 0.9642, 0.9642, 0.9642, 0.9642, 0.9642, 0.9642, 0.9642, 0.9642, 0.9642, 0.9642, 0.9642, 0.9641, 0.9641, 0.9641, 0.9641, 0.9641, 0.9641, 0.9641, 0.9641, 0.9641, 0.9641, 0.9641, 0.964, 0.964, 0.964, 0.964, 0.964, 0.964, 0.964, 0.964, 0.964, 0.964, 0.964, 0.964, 0.9639, 0.9639, 0.9639, 0.9639, 0.9639, 0.9639, 0.9639, 0.9639, 0.9639, 0.9639, 0.9639, 0.9638, 0.9638, 0.9638, 0.9638, 0.9638, 0.9638, 0.9638, 0.9638, 0.9638, 0.9638, 0.9638, 0.9637, 0.9637, 0.9637, 0.9637, 0.9637, 0.9637, 0.9637, 0.9637, 0.9637, 0.9637, 0.9637, 0.9637, 0.9636, 0.9636, 0.9636, 0.9636, 0.9636, 0.9636, 0.9636, 0.9636, 0.9636, 0.9636, 0.9636, 0.9636, 0.9635, 0.9635, 0.9635, 0.9635, 0.9635, 0.9635, 0.9635, 0.9635, 0.9635, 0.9635, 0.9635, 0.9635, 0.9634, 0.9634, 0.9634, 0.9634, 0.9634, 0.9634, 0.9634, 0.9634, 0.9634, 0.9634, 0.9634, 0.9634, 0.9633, 0.9633, 0.9633, 0.9633, 0.9633, 0.9633, 0.9633, 0.9633, 0.9633, 0.9633, 0.9633, 0.9633, 0.9632, 0.9632, 0.9632, 0.9632, 0.9632, 0.9632, 0.9632, 0.9632, 0.9632, 0.9632, 0.9632, 0.9632, 0.9631, 0.9631, 0.9631, 0.9631, 0.9631, 0.9631, 0.9631, 0.9631, 0.9631, 0.9631, 0.9631, 0.9631, 0.963, 0.963, 0.963, 0.963, 0.963, 0.963, 0.963, 0.963, 0.963, 0.963, 0.963, 0.963, 0.9629, 0.9629, 0.9629, 0.9629, 0.9629, 0.9629, 0.9629, 0.9629, 0.9629, 0.9629, 0.9629, 0.9629, 0.9629, 0.9628, 0.9628, 0.9628, 0.9628, 0.9628, 0.9628, 0.9628, 0.9628, 0.9628, 0.9628, 0.9628, 0.9628, 0.9628, 0.9627, 0.9627, 0.9627, 0.9627, 0.9627, 0.9627, 0.9627, 0.9627, 0.9627, 0.9627, 0.9627, 0.9627, 0.9626, 0.9626, 0.9626, 0.9626, 0.9626, 0.9626, 0.9626, 0.9626, 0.9626, 0.9626, 0.9626, 0.9626, 0.9626, 0.9625, 0.9625, 0.9625, 0.9625, 0.9625, 0.9625, 0.9625, 0.9625, 0.9625, 0.9625, 0.9625, 0.9625, 0.9625, 0.9624, 0.9624, 0.9624, 0.9624, 0.9624, 0.9624, 0.9624, 0.9624, 0.9624, 0.9624, 0.9624, 0.9624, 0.9624, 0.9623, 0.9623, 0.9623, 0.9623, 0.9623, 0.9623, 0.9623, 0.9623, 0.9623, 0.9623, 0.9623, 0.9623, 0.9623, 0.9622, 0.9622, 0.9622, 0.9622, 0.9622, 0.9622, 0.9622, 0.9622, 0.9622, 0.9622, 0.9622, 0.9622, 0.9622, 0.9622, 0.9621, 0.9621, 0.9621, 0.9621, 0.9621, 0.9621, 0.9621, 0.9621, 0.9621, 0.9621, 0.9621, 0.9621, 0.9621, 0.962, 0.962, 0.962, 0.962, 0.962, 0.962, 0.962, 0.962, 0.962, 0.962, 0.962, 0.962, 0.962, 0.962, 0.9619, 0.9619, 0.9619, 0.9619, 0.9619, 0.9619, 0.9619, 0.9619, 0.9619, 0.9619, 0.9619, 0.9619, 0.9619, 0.9618, 0.9618, 0.9618, 0.9618, 0.9618, 0.9618, 0.9618, 0.9618, 0.9618, 0.9618, 0.9618, 0.9618, 0.9618, 0.9618, 0.9617, 0.9617, 0.9617, 0.9617, 0.9617, 0.9617, 0.9617, 0.9617, 0.9617, 0.9617, 0.9617, 0.9617, 0.9617, 0.9617, 0.9616, 0.9616, 0.9616, 0.9616, 0.9616, 0.9616, 0.9616, 0.9616, 0.9616, 0.9616, 0.9616, 0.9616, 0.9616, 0.9616, 0.9615, 0.9615, 0.9615, 0.9615, 0.9615, 0.9615, 0.9615, 0.9615, 0.9615, 0.9615, 0.9615, 0.9615, 0.9615, 0.9615, 0.9614, 0.9614, 0.9614, 0.9614, 0.9614, 0.9614, 0.9614, 0.9614, 0.9614, 0.9614, 0.9614, 0.9614, 0.9614, 0.9614, 0.9613, 0.9613, 0.9613, 0.9613, 0.9613, 0.9613, 0.9613, 0.9613, 0.9613, 0.9613, 0.9613, 0.9613, 0.9613, 0.9613, 0.9612, 0.9612, 0.9612, 0.9612, 0.9612, 0.9612, 0.9612, 0.9612, 0.9612, 0.9612, 0.9612, 0.9612, 0.9612, 0.9612, 0.9612, 0.9611, 0.9611, 0.9611, 0.9611, 0.9611, 0.9611, 0.9611, 0.9611, 0.9611, 0.9611, 0.9611, 0.9611, 0.9611, 0.9611, 0.961, 0.961, 0.961, 0.961, 0.961, 0.961, 0.961, 0.961, 0.961, 0.961, 0.961, 0.961, 0.961, 0.961, 0.961, 0.9609, 0.9609, 0.9609, 0.9609, 0.9609, 0.9609, 0.9609, 0.9609, 0.9609, 0.9609, 0.9609, 0.9609, 0.9609, 0.9609, 0.9609, 0.9608, 0.9608, 0.9608, 0.9608, 0.9608, 0.9608, 0.9608, 0.9608, 0.9608, 0.9608, 0.9608, 0.9608, 0.9608, 0.9608, 0.9607, 0.9607, 0.9607, 0.9607, 0.9607, 0.9607, 0.9607, 0.9607, 0.9607, 0.9607, 0.9607, 0.9607, 0.9607, 0.9607, 0.9607, 0.9606, 0.9606, 0.9606, 0.9606, 0.9606, 0.9606, 0.9606, 0.9606, 0.9606, 0.9606, 0.9606, 0.9606, 0.9606, 0.9606, 0.9606, 0.9605, 0.9605, 0.9605, 0.9605, 0.9605, 0.9605, 0.9605, 0.9605, 0.9605, 0.9605, 0.9605, 0.9605, 0.9605, 0.9605, 0.9605, 0.9604, 0.9604, 0.9604, 0.9604, 0.9604, 0.9604, 0.9604, 0.9604, 0.9604, 0.9604, 0.9604, 0.9604, 0.9604, 0.9604, 0.9604, 0.9604, 0.9603, 0.9603, 0.9603, 0.9603, 0.9603, 0.9603, 0.9603, 0.9603, 0.9603, 0.9603, 0.9603, 0.9603, 0.9603, 0.9603, 0.9603, 0.9602, 0.9602, 0.9602, 0.9602, 0.9602, 0.9602, 0.9602, 0.9602, 0.9602, 0.9602, 0.9602, 0.9602, 0.9602, 0.9602, 0.9602, 0.9601, 0.9601, 0.9601, 0.9601, 0.9601, 0.9601, 0.9601, 0.9601, 0.9601, 0.9601, 0.9601, 0.9601, 0.9601, 0.9601, 0.9601, 0.9601, 0.96, 0.96, 0.96, 0.96, 0.96, 0.96, 0.96, 0.96, 0.96, 0.96, 0.96, 0.96, 0.96, 0.96, 0.96, 0.9599, 0.9599, 0.9599, 0.9599, 0.9599, 0.9599, 0.9599, 0.9599, 0.9599, 0.9599, 0.9599, 0.9599, 0.9599]\n",
      "[0.8725, 0.873, 0.8733, 0.8736, 0.8739, 0.8742, 0.8744, 0.8746, 0.8748, 0.875, 0.8751, 0.8753, 0.8754, 0.8756, 0.8757, 0.8758, 0.8759, 0.8761, 0.8762, 0.8763, 0.8764, 0.8764, 0.8765, 0.8766, 0.8767, 0.8768, 0.8769, 0.8769, 0.877, 0.8771, 0.8771, 0.8772, 0.8772, 0.8773, 0.8774, 0.8774, 0.8775, 0.8775, 0.8776, 0.8776, 0.8776, 0.8777, 0.8777, 0.8778, 0.8778, 0.8778, 0.8779, 0.8779, 0.8779, 0.878, 0.878, 0.878, 0.8781, 0.8781, 0.8781, 0.8781, 0.8782, 0.8782, 0.8782, 0.8782, 0.8782, 0.8783, 0.8783, 0.8783, 0.8783, 0.8783, 0.8784, 0.8784, 0.8784, 0.8784, 0.8784, 0.8784, 0.8784, 0.8784, 0.8785, 0.8785, 0.8785, 0.8785, 0.8785, 0.8785, 0.8785, 0.8785, 0.8785, 0.8785, 0.8785, 0.8785, 0.8785, 0.8785, 0.8785, 0.8786, 0.8786, 0.8786, 0.8786, 0.8786, 0.8786, 0.8786, 0.8786, 0.8786, 0.8786, 0.8786, 0.8786, 0.8786, 0.8786, 0.8786, 0.8786, 0.8786, 0.8785, 0.8785, 0.8785, 0.8785, 0.8785, 0.8785, 0.8785, 0.8785, 0.8785, 0.8785, 0.8785, 0.8785, 0.8785, 0.8785, 0.8785, 0.8785, 0.8785, 0.8785, 0.8785, 0.8784, 0.8784, 0.8784, 0.8784, 0.8784, 0.8784, 0.8784, 0.8784, 0.8784, 0.8784, 0.8784, 0.8783, 0.8783, 0.8783, 0.8783, 0.8783, 0.8783, 0.8783, 0.8783, 0.8783, 0.8783, 0.8782, 0.8782, 0.8782, 0.8782, 0.8782, 0.8782, 0.8782, 0.8782, 0.8781, 0.8781, 0.8781, 0.8781, 0.8781, 0.8781, 0.8781, 0.8781, 0.878, 0.878, 0.878, 0.878, 0.878, 0.878, 0.878, 0.878, 0.8779, 0.8779, 0.8779, 0.8779, 0.8779, 0.8779, 0.8779, 0.8778, 0.8778, 0.8778, 0.8778, 0.8778, 0.8778, 0.8778, 0.8777, 0.8777, 0.8777, 0.8777, 0.8777, 0.8777, 0.8776, 0.8776, 0.8776, 0.8776, 0.8776, 0.8776, 0.8776, 0.8775, 0.8775, 0.8775, 0.8775, 0.8775, 0.8775, 0.8774, 0.8774, 0.8774, 0.8774, 0.8774, 0.8774, 0.8773, 0.8773, 0.8773, 0.8773, 0.8773, 0.8773, 0.8772, 0.8772, 0.8772, 0.8772, 0.8772, 0.8772, 0.8771, 0.8771, 0.8771, 0.8771, 0.8771, 0.8771, 0.877, 0.877, 0.877, 0.877, 0.877, 0.877, 0.8769, 0.8769, 0.8769, 0.8769, 0.8769, 0.8769, 0.8768, 0.8768, 0.8768, 0.8768, 0.8768, 0.8768, 0.8767, 0.8767, 0.8767, 0.8767, 0.8767, 0.8767, 0.8766, 0.8766, 0.8766, 0.8766, 0.8766, 0.8766, 0.8765, 0.8765, 0.8765, 0.8765, 0.8765, 0.8764, 0.8764, 0.8764, 0.8764, 0.8764, 0.8764, 0.8763, 0.8763, 0.8763, 0.8763, 0.8763, 0.8763, 0.8762, 0.8762, 0.8762, 0.8762, 0.8762, 0.8762, 0.8761, 0.8761, 0.8761, 0.8761, 0.8761, 0.876, 0.876, 0.876, 0.876, 0.876, 0.876, 0.8759, 0.8759, 0.8759, 0.8759, 0.8759, 0.8759, 0.8758, 0.8758, 0.8758, 0.8758, 0.8758, 0.8757, 0.8757, 0.8757, 0.8757, 0.8757, 0.8757, 0.8756, 0.8756, 0.8756, 0.8756, 0.8756, 0.8756, 0.8755, 0.8755, 0.8755, 0.8755, 0.8755, 0.8755, 0.8754, 0.8754, 0.8754, 0.8754, 0.8754, 0.8753, 0.8753, 0.8753, 0.8753, 0.8753, 0.8753, 0.8752, 0.8752, 0.8752, 0.8752, 0.8752, 0.8752, 0.8751, 0.8751, 0.8751, 0.8751, 0.8751, 0.8751, 0.875, 0.875, 0.875, 0.875, 0.875, 0.8749, 0.8749, 0.8749, 0.8749, 0.8749, 0.8749, 0.8748, 0.8748, 0.8748, 0.8748, 0.8748, 0.8748, 0.8747, 0.8747, 0.8747, 0.8747, 0.8747, 0.8747, 0.8746, 0.8746, 0.8746, 0.8746, 0.8746, 0.8746, 0.8745, 0.8745, 0.8745, 0.8745, 0.8745, 0.8745, 0.8744, 0.8744, 0.8744, 0.8744, 0.8744, 0.8744, 0.8743, 0.8743, 0.8743, 0.8743, 0.8743, 0.8743, 0.8742, 0.8742, 0.8742, 0.8742, 0.8742, 0.8742, 0.8741, 0.8741, 0.8741, 0.8741, 0.8741, 0.8741, 0.874, 0.874, 0.874, 0.874, 0.874, 0.874, 0.8739, 0.8739, 0.8739, 0.8739, 0.8739, 0.8739, 0.8738, 0.8738, 0.8738, 0.8738, 0.8738, 0.8738, 0.8737, 0.8737, 0.8737, 0.8737, 0.8737, 0.8737, 0.8736, 0.8736, 0.8736, 0.8736, 0.8736, 0.8736, 0.8735, 0.8735, 0.8735, 0.8735, 0.8735, 0.8735, 0.8734, 0.8734, 0.8734, 0.8734, 0.8734, 0.8734, 0.8733, 0.8733, 0.8733, 0.8733, 0.8733, 0.8733, 0.8732, 0.8732, 0.8732, 0.8732, 0.8732, 0.8732, 0.8732, 0.8731, 0.8731, 0.8731, 0.8731, 0.8731, 0.8731, 0.873, 0.873, 0.873, 0.873, 0.873, 0.873, 0.8729, 0.8729, 0.8729, 0.8729, 0.8729, 0.8729, 0.8729, 0.8728, 0.8728, 0.8728, 0.8728, 0.8728, 0.8728, 0.8727, 0.8727, 0.8727, 0.8727, 0.8727, 0.8727, 0.8726, 0.8726, 0.8726, 0.8726, 0.8726, 0.8726, 0.8726, 0.8725, 0.8725, 0.8725, 0.8725, 0.8725, 0.8725, 0.8724, 0.8724, 0.8724, 0.8724, 0.8724, 0.8724, 0.8724, 0.8723, 0.8723, 0.8723, 0.8723, 0.8723, 0.8723, 0.8722, 0.8722, 0.8722, 0.8722, 0.8722, 0.8722, 0.8722, 0.8721, 0.8721, 0.8721, 0.8721, 0.8721, 0.8721, 0.8721, 0.872, 0.872, 0.872, 0.872, 0.872, 0.872, 0.8719, 0.8719, 0.8719, 0.8719, 0.8719, 0.8719, 0.8719, 0.8718, 0.8718, 0.8718, 0.8718, 0.8718, 0.8718, 0.8718, 0.8717, 0.8717, 0.8717, 0.8717, 0.8717, 0.8717, 0.8717, 0.8716, 0.8716, 0.8716, 0.8716, 0.8716, 0.8716, 0.8715, 0.8715, 0.8715, 0.8715, 0.8715, 0.8715, 0.8715, 0.8714, 0.8714, 0.8714, 0.8714, 0.8714, 0.8714, 0.8714, 0.8713, 0.8713, 0.8713, 0.8713, 0.8713, 0.8713, 0.8713, 0.8712, 0.8712, 0.8712, 0.8712, 0.8712, 0.8712, 0.8712, 0.8711, 0.8711, 0.8711, 0.8711, 0.8711, 0.8711, 0.8711, 0.871, 0.871, 0.871, 0.871, 0.871, 0.871, 0.871, 0.8709, 0.8709, 0.8709, 0.8709, 0.8709, 0.8709, 0.8709, 0.8709, 0.8708, 0.8708, 0.8708, 0.8708, 0.8708, 0.8708, 0.8708, 0.8707, 0.8707, 0.8707, 0.8707, 0.8707, 0.8707, 0.8707, 0.8706, 0.8706, 0.8706, 0.8706, 0.8706, 0.8706, 0.8706, 0.8705, 0.8705, 0.8705, 0.8705, 0.8705, 0.8705, 0.8705, 0.8705, 0.8704, 0.8704, 0.8704, 0.8704, 0.8704, 0.8704, 0.8704, 0.8703, 0.8703, 0.8703, 0.8703, 0.8703, 0.8703, 0.8703, 0.8702, 0.8702, 0.8702, 0.8702, 0.8702, 0.8702, 0.8702, 0.8702, 0.8701, 0.8701, 0.8701, 0.8701, 0.8701, 0.8701, 0.8701, 0.87, 0.87, 0.87, 0.87, 0.87, 0.87, 0.87, 0.87, 0.8699, 0.8699, 0.8699, 0.8699, 0.8699, 0.8699, 0.8699, 0.8698, 0.8698, 0.8698, 0.8698, 0.8698, 0.8698, 0.8698, 0.8698, 0.8697, 0.8697, 0.8697, 0.8697, 0.8697, 0.8697, 0.8697, 0.8697, 0.8696, 0.8696, 0.8696, 0.8696, 0.8696, 0.8696, 0.8696, 0.8695, 0.8695, 0.8695, 0.8695, 0.8695, 0.8695, 0.8695, 0.8695, 0.8694, 0.8694, 0.8694, 0.8694, 0.8694, 0.8694, 0.8694, 0.8694, 0.8693, 0.8693, 0.8693, 0.8693, 0.8693, 0.8693, 0.8693, 0.8693, 0.8692, 0.8692, 0.8692, 0.8692, 0.8692, 0.8692, 0.8692, 0.8692, 0.8691, 0.8691, 0.8691, 0.8691, 0.8691, 0.8691, 0.8691, 0.8691, 0.869, 0.869, 0.869, 0.869, 0.869, 0.869, 0.869, 0.869, 0.8689, 0.8689, 0.8689, 0.8689, 0.8689, 0.8689, 0.8689, 0.8689, 0.8688, 0.8688, 0.8688, 0.8688, 0.8688, 0.8688, 0.8688, 0.8688, 0.8687, 0.8687, 0.8687, 0.8687, 0.8687, 0.8687, 0.8687, 0.8687, 0.8686, 0.8686, 0.8686, 0.8686, 0.8686, 0.8686, 0.8686, 0.8686, 0.8686, 0.8685, 0.8685, 0.8685, 0.8685, 0.8685, 0.8685, 0.8685, 0.8685, 0.8684, 0.8684, 0.8684, 0.8684, 0.8684, 0.8684, 0.8684, 0.8684, 0.8683, 0.8683, 0.8683, 0.8683, 0.8683, 0.8683, 0.8683, 0.8683, 0.8683, 0.8682, 0.8682, 0.8682, 0.8682, 0.8682, 0.8682, 0.8682, 0.8682, 0.8681, 0.8681, 0.8681, 0.8681, 0.8681, 0.8681, 0.8681, 0.8681, 0.8681, 0.868, 0.868, 0.868, 0.868, 0.868, 0.868, 0.868, 0.868, 0.8679, 0.8679, 0.8679, 0.8679, 0.8679, 0.8679, 0.8679, 0.8679, 0.8679, 0.8678, 0.8678, 0.8678, 0.8678, 0.8678, 0.8678, 0.8678, 0.8678, 0.8678, 0.8677, 0.8677, 0.8677, 0.8677, 0.8677, 0.8677, 0.8677, 0.8677, 0.8676, 0.8676, 0.8676, 0.8676, 0.8676, 0.8676, 0.8676, 0.8676, 0.8676, 0.8675, 0.8675, 0.8675, 0.8675, 0.8675, 0.8675, 0.8675, 0.8675, 0.8675, 0.8674, 0.8674, 0.8674, 0.8674, 0.8674, 0.8674, 0.8674, 0.8674, 0.8674, 0.8673, 0.8673, 0.8673, 0.8673, 0.8673, 0.8673, 0.8673, 0.8673, 0.8673, 0.8672, 0.8672, 0.8672, 0.8672, 0.8672, 0.8672, 0.8672, 0.8672, 0.8672, 0.8671, 0.8671, 0.8671, 0.8671, 0.8671, 0.8671, 0.8671, 0.8671, 0.8671, 0.867, 0.867, 0.867, 0.867, 0.867, 0.867, 0.867, 0.867, 0.867, 0.8669, 0.8669, 0.8669, 0.8669, 0.8669, 0.8669, 0.8669, 0.8669, 0.8669, 0.8668, 0.8668, 0.8668, 0.8668, 0.8668, 0.8668, 0.8668, 0.8668, 0.8668, 0.8668, 0.8667, 0.8667, 0.8667, 0.8667, 0.8667, 0.8667, 0.8667, 0.8667, 0.8667, 0.8666, 0.8666, 0.8666, 0.8666, 0.8666, 0.8666, 0.8666, 0.8666, 0.8666, 0.8665, 0.8665, 0.8665, 0.8665, 0.8665, 0.8665, 0.8665, 0.8665, 0.8665, 0.8665, 0.8664, 0.8664, 0.8664, 0.8664, 0.8664, 0.8664, 0.8664, 0.8664, 0.8664, 0.8663, 0.8663, 0.8663, 0.8663, 0.8663, 0.8663, 0.8663, 0.8663, 0.8663, 0.8663, 0.8662, 0.8662, 0.8662, 0.8662, 0.8662, 0.8662, 0.8662]\n"
     ]
    }
   ],
   "source": [
    "# assigining empty list\n",
    "tr = []\n",
    "ts = []\n",
    "\n",
    "for i in a:\n",
    "    rr = Ridge(alpha=i)\n",
    "\n",
    "    # build model on alpha values from list w\n",
    "    model=rr.fit(xtrain,ytrain)\n",
    "\n",
    "     #traning and testing predications\n",
    "    tr_pred = model.predict(xtrain)\n",
    "    ts_pred = model.predict(xtest)\n",
    "\n",
    "    #traning and testing scores\n",
    "    tr_score = r2_score(ytrain,tr_pred)\n",
    "    ts_score = r2_score(ytest,ts_pred)\n",
    "\n",
    "    # storing traning and testing scores in tr and ts list\n",
    "    tr.append(round(tr_score,4))\n",
    "    ts.append(round(ts_score,4))\n",
    "print(tr)\n",
    "print(ts)"
   ]
  },
  {
   "cell_type": "code",
   "execution_count": 334,
   "id": "0d422935-299b-4926-89dd-df75e021d466",
   "metadata": {},
   "outputs": [],
   "source": [
    "import matplotlib.pyplot as plt"
   ]
  },
  {
   "cell_type": "code",
   "execution_count": 335,
   "id": "190613b7-c011-4804-8972-0725e1519037",
   "metadata": {},
   "outputs": [
    {
     "data": {
      "text/plain": [
       "[<matplotlib.lines.Line2D at 0x1f21fc43170>]"
      ]
     },
     "execution_count": 335,
     "metadata": {},
     "output_type": "execute_result"
    },
    {
     "data": {
      "image/png": "[encoded data removed]",
      "text/plain": [
       "<Figure size 640x480 with 1 Axes>"
      ]
     },
     "metadata": {},
     "output_type": "display_data"
    }
   ],
   "source": [
    "plt.plot(a,tr,c='red')\n",
    "plt.plot(a,ts,c='blue')"
   ]
  },
  {
   "cell_type": "code",
   "execution_count": 336,
   "id": "0aac3890-1f3b-4064-91a3-9604c6936434",
   "metadata": {},
   "outputs": [],
   "source": [
    "from sklearn.linear_model import Lasso"
   ]
  },
  {
   "cell_type": "code",
   "execution_count": 337,
   "id": "51cd6f4a-2b12-43c9-9462-58bf964449a4",
   "metadata": {},
   "outputs": [],
   "source": [
    "from sklearn.metrics import mean_squared_error"
   ]
  },
  {
   "cell_type": "code",
   "execution_count": 340,
   "id": "401a0f6a-03b9-4708-9b64-2a8179dc0cb0",
   "metadata": {},
   "outputs": [
    {
     "name": "stdout",
     "output_type": "stream",
     "text": [
      "0.9678750383288951\n",
      "0.9678750383288951\n"
     ]
    }
   ],
   "source": [
    "\n",
    "    ll = Lasso()\n",
    "\n",
    "    model=ll.fit(xtrain,ytrain)\n",
    "\n",
    "\n",
    "    tr_pred = model.predict(xtrain)\n",
    "    ts_pred = model.predict(xtest)\n",
    "\n",
    "    tr_err = mean_squared_error(ytrain,tr_pred)\n",
    "    ts_err = mean_squared_error(ytest,ts_pred)\n",
    "\n",
    "    tr_score = r2_score(ytrain,tr_pred)\n",
    "    ts_score = r2_score(ytest,ts_pred)\n",
    "\n",
    "\n",
    "    tr_score=r2_score(ytrain,tr_pred)\n",
    "    ts_score=r2_score(ytest,ts_pred)\n",
    "\n",
    "print(tr_score)\n",
    "print(tr_score)"
   ]
  },
  {
   "cell_type": "markdown",
   "id": "aff1430f-f804-4b58-810a-efb2c2ffe550",
   "metadata": {},
   "source": [
    "# Grid search cross validation"
   ]
  },
  {
   "cell_type": "code",
   "execution_count": 346,
   "id": "577722d5-1cff-42ec-aa67-c9b8602623e8",
   "metadata": {},
   "outputs": [],
   "source": [
    "from sklearn.linear_model import Ridge\n",
    "from sklearn.model_selection import GridSearchCV\n",
    "import numpy as np"
   ]
  },
  {
   "cell_type": "code",
   "execution_count": 348,
   "id": "85a38435-fb67-42ed-9a3c-b4a9f25c291a",
   "metadata": {},
   "outputs": [],
   "source": [
    "w=[]\n",
    "e=0.01\n",
    "for i in range(0,100,1):\n",
    "  w.append(e)\n",
    "  e=round(e+0.01,4)"
   ]
  },
  {
   "cell_type": "code",
   "execution_count": 350,
   "id": "0d8db9c1-d0f6-4e60-97eb-5e3e008c7e5d",
   "metadata": {},
   "outputs": [],
   "source": [
    "import numpy as np\n",
    "\n",
    "rr=Ridge()\n",
    "hp={'alpha':w,'random_state':np.arange(1,40)}\n",
    "\n",
    "from sklearn.model_selection import GridSearchCV\n",
    "\n",
    "cv=GridSearchCV(rr,hp,scoring='neg_mean_squared_error',cv=4)\n",
    "cvmodel=cv.fit(X,Y)"
   ]
  },
  {
   "cell_type": "code",
   "execution_count": 352,
   "id": "f7e61ded-f216-4d0e-83d9-d2815d45f74e",
   "metadata": {},
   "outputs": [
    {
     "data": {
      "text/plain": [
       "{'alpha': 1.0, 'random_state': 1}"
      ]
     },
     "execution_count": 352,
     "metadata": {},
     "output_type": "execute_result"
    }
   ],
   "source": [
    "cvmodel.best_params_"
   ]
  },
  {
   "cell_type": "code",
   "execution_count": 354,
   "id": "78e28259-45c4-4cbf-87d2-6a4c24d7ffd8",
   "metadata": {},
   "outputs": [
    {
     "name": "stdout",
     "output_type": "stream",
     "text": [
      "10541.914015931232\n",
      "32147.954585481217\n"
     ]
    }
   ],
   "source": [
    "rr=Ridge(alpha=1.0,random_state=1)\n",
    "model=rr.fit(xtrain,ytrain)\n",
    "tr_pred=model.predict(xtrain)\n",
    "ts_pred=model.predict(xtest)\n",
    "\n",
    "tr_err=mean_squared_error(ytrain,tr_pred)\n",
    "ts_err=mean_squared_error(ytest,ts_pred)\n",
    "\n",
    "\n",
    "print(tr_err)\n",
    "print(ts_err)"
   ]
  },
  {
   "cell_type": "markdown",
   "id": "10c0c336-83e9-4aa0-af2b-13351a350fcf",
   "metadata": {},
   "source": [
    "# doing same using lasso"
   ]
  },
  {
   "cell_type": "code",
   "execution_count": 357,
   "id": "2abf1733-f5ed-45ef-85fc-22c3d9398a8b",
   "metadata": {},
   "outputs": [],
   "source": [
    "import numpy as np\n",
    "\n",
    "ll=Lasso()\n",
    "hp={'alpha':w,'random_state':np.arange(1,40)}\n",
    "\n",
    "from sklearn.model_selection import GridSearchCV\n",
    "\n",
    "cv=GridSearchCV(rr,hp,scoring='neg_mean_squared_error',cv=4)\n",
    "cvmodel=cv.fit(X,Y)"
   ]
  },
  {
   "cell_type": "code",
   "execution_count": 358,
   "id": "d1731a21-d3e0-4d91-9969-717eb45d6dbb",
   "metadata": {},
   "outputs": [
    {
     "data": {
      "text/plain": [
       "{'alpha': 1.0, 'random_state': 1}"
      ]
     },
     "execution_count": 358,
     "metadata": {},
     "output_type": "execute_result"
    }
   ],
   "source": [
    "cvmodel.best_params_"
   ]
  },
  {
   "cell_type": "code",
   "execution_count": 361,
   "id": "1b4beca8-7ef1-469d-9b76-2e272bffe1c3",
   "metadata": {},
   "outputs": [
    {
     "name": "stdout",
     "output_type": "stream",
     "text": [
      "10541.914015931232\n",
      "32147.954585481217\n"
     ]
    }
   ],
   "source": [
    "ll=Ridge(alpha=1.0,random_state=1)\n",
    "model=rr.fit(xtrain,ytrain)\n",
    "tr_pred=model.predict(xtrain)\n",
    "ts_pred=model.predict(xtest)\n",
    "\n",
    "tr_err=mean_squared_error(ytrain,tr_pred)\n",
    "ts_err=mean_squared_error(ytest,ts_pred)\n",
    "\n",
    "\n",
    "print(tr_err)\n",
    "print(ts_err)"
   ]
  },
  {
   "cell_type": "code",
   "execution_count": 363,
   "id": "e0fdc49a-741f-42d4-a814-1e8db5f7bbc2",
   "metadata": {},
   "outputs": [],
   "source": [
    "from sklearn.model_selection import RandomizedSearchCV\n",
    "\n",
    "cv=RandomizedSearchCV(ll,hp,scoring='neg_mean_squared_error',cv=4)\n",
    "cvmodel=cv.fit(X,Y)"
   ]
  },
  {
   "cell_type": "code",
   "execution_count": 365,
   "id": "b237eeee-ca8d-46b1-b8ca-dd5653e2e6b6",
   "metadata": {},
   "outputs": [
    {
     "data": {
      "text/html": [
       "<style>#sk-container-id-5 {\n",
       "  /* Definition of color scheme common for light and dark mode */\n",
       "  --sklearn-color-text: black;\n",
       "  --sklearn-color-line: gray;\n",
       "  /* Definition of color scheme for unfitted estimators */\n",
       "  --sklearn-color-unfitted-level-0: #fff5e6;\n",
       "  --sklearn-color-unfitted-level-1: #f6e4d2;\n",
       "  --sklearn-color-unfitted-level-2: #ffe0b3;\n",
       "  --sklearn-color-unfitted-level-3: chocolate;\n",
       "  /* Definition of color scheme for fitted estimators */\n",
       "  --sklearn-color-fitted-level-0: #f0f8ff;\n",
       "  --sklearn-color-fitted-level-1: #d4ebff;\n",
       "  --sklearn-color-fitted-level-2: #b3dbfd;\n",
       "  --sklearn-color-fitted-level-3: cornflowerblue;\n",
       "\n",
       "  /* Specific color for light theme */\n",
       "  --sklearn-color-text-on-default-background: var(--sg-text-color, var(--theme-code-foreground, var(--jp-content-font-color1, black)));\n",
       "  --sklearn-color-background: var(--sg-background-color, var(--theme-background, var(--jp-layout-color0, white)));\n",
       "  --sklearn-color-border-box: var(--sg-text-color, var(--theme-code-foreground, var(--jp-content-font-color1, black)));\n",
       "  --sklearn-color-icon: #696969;\n",
       "\n",
       "  @media (prefers-color-scheme: dark) {\n",
       "    /* Redefinition of color scheme for dark theme */\n",
       "    --sklearn-color-text-on-default-background: var(--sg-text-color, var(--theme-code-foreground, var(--jp-content-font-color1, white)));\n",
       "    --sklearn-color-background: var(--sg-background-color, var(--theme-background, var(--jp-layout-color0, #111)));\n",
       "    --sklearn-color-border-box: var(--sg-text-color, var(--theme-code-foreground, var(--jp-content-font-color1, white)));\n",
       "    --sklearn-color-icon: #878787;\n",
       "  }\n",
       "}\n",
       "\n",
       "#sk-container-id-5 {\n",
       "  color: var(--sklearn-color-text);\n",
       "}\n",
       "\n",
       "#sk-container-id-5 pre {\n",
       "  padding: 0;\n",
       "}\n",
       "\n",
       "#sk-container-id-5 input.sk-hidden--visually {\n",
       "  border: 0;\n",
       "  clip: rect(1px 1px 1px 1px);\n",
       "  clip: rect(1px, 1px, 1px, 1px);\n",
       "  height: 1px;\n",
       "  margin: -1px;\n",
       "  overflow: hidden;\n",
       "  padding: 0;\n",
       "  position: absolute;\n",
       "  width: 1px;\n",
       "}\n",
       "\n",
       "#sk-container-id-5 div.sk-dashed-wrapped {\n",
       "  border: 1px dashed var(--sklearn-color-line);\n",
       "  margin: 0 0.4em 0.5em 0.4em;\n",
       "  box-sizing: border-box;\n",
       "  padding-bottom: 0.4em;\n",
       "  background-color: var(--sklearn-color-background);\n",
       "}\n",
       "\n",
       "#sk-container-id-5 div.sk-container {\n",
       "  /* jupyter's `normalize.less` sets `[hidden] { display: none; }`\n",
       "     but bootstrap.min.css set `[hidden] { display: none !important; }`\n",
       "     so we also need the `!important` here to be able to override the\n",
       "     default hidden behavior on the sphinx rendered scikit-learn.org.\n",
       "     See: https://github.com/scikit-learn/scikit-learn/issues/21755 */\n",
       "  display: inline-block !important;\n",
       "  position: relative;\n",
       "}\n",
       "\n",
       "#sk-container-id-5 div.sk-text-repr-fallback {\n",
       "  display: none;\n",
       "}\n",
       "\n",
       "div.sk-parallel-item,\n",
       "div.sk-serial,\n",
       "div.sk-item {\n",
       "  /* draw centered vertical line to link estimators */\n",
       "  background-image: linear-gradient(var(--sklearn-color-text-on-default-background), var(--sklearn-color-text-on-default-background));\n",
       "  background-size: 2px 100%;\n",
       "  background-repeat: no-repeat;\n",
       "  background-position: center center;\n",
       "}\n",
       "\n",
       "/* Parallel-specific style estimator block */\n",
       "\n",
       "#sk-container-id-5 div.sk-parallel-item::after {\n",
       "  content: \"\";\n",
       "  width: 100%;\n",
       "  border-bottom: 2px solid var(--sklearn-color-text-on-default-background);\n",
       "  flex-grow: 1;\n",
       "}\n",
       "\n",
       "#sk-container-id-5 div.sk-parallel {\n",
       "  display: flex;\n",
       "  align-items: stretch;\n",
       "  justify-content: center;\n",
       "  background-color: var(--sklearn-color-background);\n",
       "  position: relative;\n",
       "}\n",
       "\n",
       "#sk-container-id-5 div.sk-parallel-item {\n",
       "  display: flex;\n",
       "  flex-direction: column;\n",
       "}\n",
       "\n",
       "#sk-container-id-5 div.sk-parallel-item:first-child::after {\n",
       "  align-self: flex-end;\n",
       "  width: 50%;\n",
       "}\n",
       "\n",
       "#sk-container-id-5 div.sk-parallel-item:last-child::after {\n",
       "  align-self: flex-start;\n",
       "  width: 50%;\n",
       "}\n",
       "\n",
       "#sk-container-id-5 div.sk-parallel-item:only-child::after {\n",
       "  width: 0;\n",
       "}\n",
       "\n",
       "/* Serial-specific style estimator block */\n",
       "\n",
       "#sk-container-id-5 div.sk-serial {\n",
       "  display: flex;\n",
       "  flex-direction: column;\n",
       "  align-items: center;\n",
       "  background-color: var(--sklearn-color-background);\n",
       "  padding-right: 1em;\n",
       "  padding-left: 1em;\n",
       "}\n",
       "\n",
       "\n",
       "/* Toggleable style: style used for estimator/Pipeline/ColumnTransformer box that is\n",
       "clickable and can be expanded/collapsed.\n",
       "- Pipeline and ColumnTransformer use this feature and define the default style\n",
       "- Estimators will overwrite some part of the style using the `sk-estimator` class\n",
       "*/\n",
       "\n",
       "/* Pipeline and ColumnTransformer style (default) */\n",
       "\n",
       "#sk-container-id-5 div.sk-toggleable {\n",
       "  /* Default theme specific background. It is overwritten whether we have a\n",
       "  specific estimator or a Pipeline/ColumnTransformer */\n",
       "  background-color: var(--sklearn-color-background);\n",
       "}\n",
       "\n",
       "/* Toggleable label */\n",
       "#sk-container-id-5 label.sk-toggleable__label {\n",
       "  cursor: pointer;\n",
       "  display: block;\n",
       "  width: 100%;\n",
       "  margin-bottom: 0;\n",
       "  padding: 0.5em;\n",
       "  box-sizing: border-box;\n",
       "  text-align: center;\n",
       "}\n",
       "\n",
       "#sk-container-id-5 label.sk-toggleable__label-arrow:before {\n",
       "  /* Arrow on the left of the label */\n",
       "  content: \"▸\";\n",
       "  float: left;\n",
       "  margin-right: 0.25em;\n",
       "  color: var(--sklearn-color-icon);\n",
       "}\n",
       "\n",
       "#sk-container-id-5 label.sk-toggleable__label-arrow:hover:before {\n",
       "  color: var(--sklearn-color-text);\n",
       "}\n",
       "\n",
       "/* Toggleable content - dropdown */\n",
       "\n",
       "#sk-container-id-5 div.sk-toggleable__content {\n",
       "  max-height: 0;\n",
       "  max-width: 0;\n",
       "  overflow: hidden;\n",
       "  text-align: left;\n",
       "  /* unfitted */\n",
       "  background-color: var(--sklearn-color-unfitted-level-0);\n",
       "}\n",
       "\n",
       "#sk-container-id-5 div.sk-toggleable__content.fitted {\n",
       "  /* fitted */\n",
       "  background-color: var(--sklearn-color-fitted-level-0);\n",
       "}\n",
       "\n",
       "#sk-container-id-5 div.sk-toggleable__content pre {\n",
       "  margin: 0.2em;\n",
       "  border-radius: 0.25em;\n",
       "  color: var(--sklearn-color-text);\n",
       "  /* unfitted */\n",
       "  background-color: var(--sklearn-color-unfitted-level-0);\n",
       "}\n",
       "\n",
       "#sk-container-id-5 div.sk-toggleable__content.fitted pre {\n",
       "  /* unfitted */\n",
       "  background-color: var(--sklearn-color-fitted-level-0);\n",
       "}\n",
       "\n",
       "#sk-container-id-5 input.sk-toggleable__control:checked~div.sk-toggleable__content {\n",
       "  /* Expand drop-down */\n",
       "  max-height: 200px;\n",
       "  max-width: 100%;\n",
       "  overflow: auto;\n",
       "}\n",
       "\n",
       "#sk-container-id-5 input.sk-toggleable__control:checked~label.sk-toggleable__label-arrow:before {\n",
       "  content: \"▾\";\n",
       "}\n",
       "\n",
       "/* Pipeline/ColumnTransformer-specific style */\n",
       "\n",
       "#sk-container-id-5 div.sk-label input.sk-toggleable__control:checked~label.sk-toggleable__label {\n",
       "  color: var(--sklearn-color-text);\n",
       "  background-color: var(--sklearn-color-unfitted-level-2);\n",
       "}\n",
       "\n",
       "#sk-container-id-5 div.sk-label.fitted input.sk-toggleable__control:checked~label.sk-toggleable__label {\n",
       "  background-color: var(--sklearn-color-fitted-level-2);\n",
       "}\n",
       "\n",
       "/* Estimator-specific style */\n",
       "\n",
       "/* Colorize estimator box */\n",
       "#sk-container-id-5 div.sk-estimator input.sk-toggleable__control:checked~label.sk-toggleable__label {\n",
       "  /* unfitted */\n",
       "  background-color: var(--sklearn-color-unfitted-level-2);\n",
       "}\n",
       "\n",
       "#sk-container-id-5 div.sk-estimator.fitted input.sk-toggleable__control:checked~label.sk-toggleable__label {\n",
       "  /* fitted */\n",
       "  background-color: var(--sklearn-color-fitted-level-2);\n",
       "}\n",
       "\n",
       "#sk-container-id-5 div.sk-label label.sk-toggleable__label,\n",
       "#sk-container-id-5 div.sk-label label {\n",
       "  /* The background is the default theme color */\n",
       "  color: var(--sklearn-color-text-on-default-background);\n",
       "}\n",
       "\n",
       "/* On hover, darken the color of the background */\n",
       "#sk-container-id-5 div.sk-label:hover label.sk-toggleable__label {\n",
       "  color: var(--sklearn-color-text);\n",
       "  background-color: var(--sklearn-color-unfitted-level-2);\n",
       "}\n",
       "\n",
       "/* Label box, darken color on hover, fitted */\n",
       "#sk-container-id-5 div.sk-label.fitted:hover label.sk-toggleable__label.fitted {\n",
       "  color: var(--sklearn-color-text);\n",
       "  background-color: var(--sklearn-color-fitted-level-2);\n",
       "}\n",
       "\n",
       "/* Estimator label */\n",
       "\n",
       "#sk-container-id-5 div.sk-label label {\n",
       "  font-family: monospace;\n",
       "  font-weight: bold;\n",
       "  display: inline-block;\n",
       "  line-height: 1.2em;\n",
       "}\n",
       "\n",
       "#sk-container-id-5 div.sk-label-container {\n",
       "  text-align: center;\n",
       "}\n",
       "\n",
       "/* Estimator-specific */\n",
       "#sk-container-id-5 div.sk-estimator {\n",
       "  font-family: monospace;\n",
       "  border: 1px dotted var(--sklearn-color-border-box);\n",
       "  border-radius: 0.25em;\n",
       "  box-sizing: border-box;\n",
       "  margin-bottom: 0.5em;\n",
       "  /* unfitted */\n",
       "  background-color: var(--sklearn-color-unfitted-level-0);\n",
       "}\n",
       "\n",
       "#sk-container-id-5 div.sk-estimator.fitted {\n",
       "  /* fitted */\n",
       "  background-color: var(--sklearn-color-fitted-level-0);\n",
       "}\n",
       "\n",
       "/* on hover */\n",
       "#sk-container-id-5 div.sk-estimator:hover {\n",
       "  /* unfitted */\n",
       "  background-color: var(--sklearn-color-unfitted-level-2);\n",
       "}\n",
       "\n",
       "#sk-container-id-5 div.sk-estimator.fitted:hover {\n",
       "  /* fitted */\n",
       "  background-color: var(--sklearn-color-fitted-level-2);\n",
       "}\n",
       "\n",
       "/* Specification for estimator info (e.g. \"i\" and \"?\") */\n",
       "\n",
       "/* Common style for \"i\" and \"?\" */\n",
       "\n",
       ".sk-estimator-doc-link,\n",
       "a:link.sk-estimator-doc-link,\n",
       "a:visited.sk-estimator-doc-link {\n",
       "  float: right;\n",
       "  font-size: smaller;\n",
       "  line-height: 1em;\n",
       "  font-family: monospace;\n",
       "  background-color: var(--sklearn-color-background);\n",
       "  border-radius: 1em;\n",
       "  height: 1em;\n",
       "  width: 1em;\n",
       "  text-decoration: none !important;\n",
       "  margin-left: 1ex;\n",
       "  /* unfitted */\n",
       "  border: var(--sklearn-color-unfitted-level-1) 1pt solid;\n",
       "  color: var(--sklearn-color-unfitted-level-1);\n",
       "}\n",
       "\n",
       ".sk-estimator-doc-link.fitted,\n",
       "a:link.sk-estimator-doc-link.fitted,\n",
       "a:visited.sk-estimator-doc-link.fitted {\n",
       "  /* fitted */\n",
       "  border: var(--sklearn-color-fitted-level-1) 1pt solid;\n",
       "  color: var(--sklearn-color-fitted-level-1);\n",
       "}\n",
       "\n",
       "/* On hover */\n",
       "div.sk-estimator:hover .sk-estimator-doc-link:hover,\n",
       ".sk-estimator-doc-link:hover,\n",
       "div.sk-label-container:hover .sk-estimator-doc-link:hover,\n",
       ".sk-estimator-doc-link:hover {\n",
       "  /* unfitted */\n",
       "  background-color: var(--sklearn-color-unfitted-level-3);\n",
       "  color: var(--sklearn-color-background);\n",
       "  text-decoration: none;\n",
       "}\n",
       "\n",
       "div.sk-estimator.fitted:hover .sk-estimator-doc-link.fitted:hover,\n",
       ".sk-estimator-doc-link.fitted:hover,\n",
       "div.sk-label-container:hover .sk-estimator-doc-link.fitted:hover,\n",
       ".sk-estimator-doc-link.fitted:hover {\n",
       "  /* fitted */\n",
       "  background-color: var(--sklearn-color-fitted-level-3);\n",
       "  color: var(--sklearn-color-background);\n",
       "  text-decoration: none;\n",
       "}\n",
       "\n",
       "/* Span, style for the box shown on hovering the info icon */\n",
       ".sk-estimator-doc-link span {\n",
       "  display: none;\n",
       "  z-index: 9999;\n",
       "  position: relative;\n",
       "  font-weight: normal;\n",
       "  right: .2ex;\n",
       "  padding: .5ex;\n",
       "  margin: .5ex;\n",
       "  width: min-content;\n",
       "  min-width: 20ex;\n",
       "  max-width: 50ex;\n",
       "  color: var(--sklearn-color-text);\n",
       "  box-shadow: 2pt 2pt 4pt #999;\n",
       "  /* unfitted */\n",
       "  background: var(--sklearn-color-unfitted-level-0);\n",
       "  border: .5pt solid var(--sklearn-color-unfitted-level-3);\n",
       "}\n",
       "\n",
       ".sk-estimator-doc-link.fitted span {\n",
       "  /* fitted */\n",
       "  background: var(--sklearn-color-fitted-level-0);\n",
       "  border: var(--sklearn-color-fitted-level-3);\n",
       "}\n",
       "\n",
       ".sk-estimator-doc-link:hover span {\n",
       "  display: block;\n",
       "}\n",
       "\n",
       "/* \"?\"-specific style due to the `<a>` HTML tag */\n",
       "\n",
       "#sk-container-id-5 a.estimator_doc_link {\n",
       "  float: right;\n",
       "  font-size: 1rem;\n",
       "  line-height: 1em;\n",
       "  font-family: monospace;\n",
       "  background-color: var(--sklearn-color-background);\n",
       "  border-radius: 1rem;\n",
       "  height: 1rem;\n",
       "  width: 1rem;\n",
       "  text-decoration: none;\n",
       "  /* unfitted */\n",
       "  color: var(--sklearn-color-unfitted-level-1);\n",
       "  border: var(--sklearn-color-unfitted-level-1) 1pt solid;\n",
       "}\n",
       "\n",
       "#sk-container-id-5 a.estimator_doc_link.fitted {\n",
       "  /* fitted */\n",
       "  border: var(--sklearn-color-fitted-level-1) 1pt solid;\n",
       "  color: var(--sklearn-color-fitted-level-1);\n",
       "}\n",
       "\n",
       "/* On hover */\n",
       "#sk-container-id-5 a.estimator_doc_link:hover {\n",
       "  /* unfitted */\n",
       "  background-color: var(--sklearn-color-unfitted-level-3);\n",
       "  color: var(--sklearn-color-background);\n",
       "  text-decoration: none;\n",
       "}\n",
       "\n",
       "#sk-container-id-5 a.estimator_doc_link.fitted:hover {\n",
       "  /* fitted */\n",
       "  background-color: var(--sklearn-color-fitted-level-3);\n",
       "}\n",
       "</style><div id=\"sk-container-id-5\" class=\"sk-top-container\"><div class=\"sk-text-repr-fallback\"><pre>Ridge(alpha=0.96, random_state=33)</pre><b>In a Jupyter environment, please rerun this cell to show the HTML representation or trust the notebook. <br />On GitHub, the HTML representation is unable to render, please try loading this page with nbviewer.org.</b></div><div class=\"sk-container\" hidden><div class=\"sk-item\"><div class=\"sk-estimator fitted sk-toggleable\"><input class=\"sk-toggleable__control sk-hidden--visually\" id=\"sk-estimator-id-5\" type=\"checkbox\" checked><label for=\"sk-estimator-id-5\" class=\"sk-toggleable__label fitted sk-toggleable__label-arrow fitted\">&nbsp;&nbsp;Ridge<a class=\"sk-estimator-doc-link fitted\" rel=\"noreferrer\" target=\"_blank\" href=\"https://scikit-learn.org/1.4/modules/generated/sklearn.linear_model.Ridge.html\">?<span>Documentation for Ridge</span></a><span class=\"sk-estimator-doc-link fitted\">i<span>Fitted</span></span></label><div class=\"sk-toggleable__content fitted\"><pre>Ridge(alpha=0.96, random_state=33)</pre></div> </div></div></div></div>"
      ],
      "text/plain": [
       "Ridge(alpha=0.96, random_state=33)"
      ]
     },
     "execution_count": 365,
     "metadata": {},
     "output_type": "execute_result"
    }
   ],
   "source": [
    "cvmodel.best_estimator_"
   ]
  },
  {
   "cell_type": "code",
   "execution_count": null,
   "id": "3572e73b-53f8-438b-8c6f-c0b48acd6d9f",
   "metadata": {},
   "outputs": [],
   "source": []
  }
 ],
 "metadata": {
  "kernelspec": {
   "display_name": "Python 3 (ipykernel)",
   "language": "python",
   "name": "python3"
  },
  "language_info": {
   "codemirror_mode": {
    "name": "ipython",
    "version": 3
   },
   "file_extension": ".py",
   "mimetype": "text/x-python",
   "name": "python",
   "nbconvert_exporter": "python",
   "pygments_lexer": "ipython3",
   "version": "3.12.4"
  }
 },
 "nbformat": 4,
 "nbformat_minor": 5
}

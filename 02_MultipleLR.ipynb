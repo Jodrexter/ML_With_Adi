{
 "cells": [
  {
   "cell_type": "code",
   "execution_count": 3,
   "id": "414a4965-7fe5-4dec-95e5-55bc75880554",
   "metadata": {},
   "outputs": [
    {
     "data": {
      "text/plain": [
       "{'Salary': [35000, 40000, 45000, 50000, 55000, 60000, 65000, 70000],\n",
       " 'Spendings': [20000, 25000, 100000, 35000, 50000, 45000, 30000, 55000]}"
      ]
     },
     "execution_count": 3,
     "metadata": {},
     "output_type": "execute_result"
    }
   ],
   "source": [
    "a = {'Salary':[35000,40000,45000,50000,55000,60000,65000,70000 ],\n",
    "     'Spendings':[20000,25000,100000,35000,50000,45000,30000,55000 ]}\n",
    "\n",
    "a"
   ]
  },
  {
   "cell_type": "code",
   "execution_count": 5,
   "id": "a8594e79-302d-4687-bba2-a492e9a543fe",
   "metadata": {},
   "outputs": [],
   "source": [
    "import pandas as pd"
   ]
  },
  {
   "cell_type": "code",
   "execution_count": 7,
   "id": "0096f644-d216-434e-b4bc-469dec64e710",
   "metadata": {},
   "outputs": [
    {
     "data": {
      "text/html": [
       "<div>\n",
       "<style scoped>\n",
       "    .dataframe tbody tr th:only-of-type {\n",
       "        vertical-align: middle;\n",
       "    }\n",
       "\n",
       "    .dataframe tbody tr th {\n",
       "        vertical-align: top;\n",
       "    }\n",
       "\n",
       "    .dataframe thead th {\n",
       "        text-align: right;\n",
       "    }\n",
       "</style>\n",
       "<table border=\"1\" class=\"dataframe\">\n",
       "  <thead>\n",
       "    <tr style=\"text-align: right;\">\n",
       "      <th></th>\n",
       "      <th>Salary</th>\n",
       "      <th>Spendings</th>\n",
       "    </tr>\n",
       "  </thead>\n",
       "  <tbody>\n",
       "    <tr>\n",
       "      <th>0</th>\n",
       "      <td>35000</td>\n",
       "      <td>20000</td>\n",
       "    </tr>\n",
       "    <tr>\n",
       "      <th>1</th>\n",
       "      <td>40000</td>\n",
       "      <td>25000</td>\n",
       "    </tr>\n",
       "    <tr>\n",
       "      <th>2</th>\n",
       "      <td>45000</td>\n",
       "      <td>100000</td>\n",
       "    </tr>\n",
       "    <tr>\n",
       "      <th>3</th>\n",
       "      <td>50000</td>\n",
       "      <td>35000</td>\n",
       "    </tr>\n",
       "    <tr>\n",
       "      <th>4</th>\n",
       "      <td>55000</td>\n",
       "      <td>50000</td>\n",
       "    </tr>\n",
       "    <tr>\n",
       "      <th>5</th>\n",
       "      <td>60000</td>\n",
       "      <td>45000</td>\n",
       "    </tr>\n",
       "    <tr>\n",
       "      <th>6</th>\n",
       "      <td>65000</td>\n",
       "      <td>30000</td>\n",
       "    </tr>\n",
       "    <tr>\n",
       "      <th>7</th>\n",
       "      <td>70000</td>\n",
       "      <td>55000</td>\n",
       "    </tr>\n",
       "  </tbody>\n",
       "</table>\n",
       "</div>"
      ],
      "text/plain": [
       "   Salary  Spendings\n",
       "0   35000      20000\n",
       "1   40000      25000\n",
       "2   45000     100000\n",
       "3   50000      35000\n",
       "4   55000      50000\n",
       "5   60000      45000\n",
       "6   65000      30000\n",
       "7   70000      55000"
      ]
     },
     "execution_count": 7,
     "metadata": {},
     "output_type": "execute_result"
    }
   ],
   "source": [
    "df = pd.DataFrame(a)\n",
    "df"
   ]
  },
  {
   "cell_type": "code",
   "execution_count": 9,
   "id": "2e580b55-8889-47cb-bcd9-75655872a7c7",
   "metadata": {},
   "outputs": [],
   "source": [
    "import seaborn as sns"
   ]
  },
  {
   "cell_type": "code",
   "execution_count": 11,
   "id": "75ce71c7-6849-4b3f-ab2b-2b34e72fddc4",
   "metadata": {},
   "outputs": [
    {
     "data": {
      "text/plain": [
       "<Axes: xlabel='Salary', ylabel='Spendings'>"
      ]
     },
     "execution_count": 11,
     "metadata": {},
     "output_type": "execute_result"
    },
    {
     "data": {
      "image/png": "[encoded data removed]",
      "text/plain": [
       "<Figure size 640x480 with 1 Axes>"
      ]
     },
     "metadata": {},
     "output_type": "display_data"
    }
   ],
   "source": [
    "sns.scatterplot(data=df,x='Salary',y='Spendings')"
   ]
  },
  {
   "cell_type": "code",
   "execution_count": 13,
   "id": "9568af5d-6f70-4b98-b189-4c9e70714b9a",
   "metadata": {},
   "outputs": [],
   "source": [
    "df = df.drop(index=[2],axis=[0])"
   ]
  },
  {
   "cell_type": "code",
   "execution_count": 15,
   "id": "f9aaf484-a942-4168-94bd-a4692c327d7c",
   "metadata": {},
   "outputs": [],
   "source": [
    "df.index=range(df.shape[0])"
   ]
  },
  {
   "cell_type": "code",
   "execution_count": 17,
   "id": "84aa650a-b8ca-40ff-86af-fbae0e4bebad",
   "metadata": {},
   "outputs": [],
   "source": [
    "X = df[['Salary']]\n",
    "Y = df[['Spendings']]"
   ]
  },
  {
   "cell_type": "code",
   "execution_count": 19,
   "id": "646576ab-2039-438c-b642-45019ee86115",
   "metadata": {},
   "outputs": [
    {
     "data": {
      "text/html": [
       "<div>\n",
       "<style scoped>\n",
       "    .dataframe tbody tr th:only-of-type {\n",
       "        vertical-align: middle;\n",
       "    }\n",
       "\n",
       "    .dataframe tbody tr th {\n",
       "        vertical-align: top;\n",
       "    }\n",
       "\n",
       "    .dataframe thead th {\n",
       "        text-align: right;\n",
       "    }\n",
       "</style>\n",
       "<table border=\"1\" class=\"dataframe\">\n",
       "  <thead>\n",
       "    <tr style=\"text-align: right;\">\n",
       "      <th></th>\n",
       "      <th>Spendings</th>\n",
       "    </tr>\n",
       "  </thead>\n",
       "  <tbody>\n",
       "    <tr>\n",
       "      <th>0</th>\n",
       "      <td>20000</td>\n",
       "    </tr>\n",
       "    <tr>\n",
       "      <th>1</th>\n",
       "      <td>25000</td>\n",
       "    </tr>\n",
       "    <tr>\n",
       "      <th>2</th>\n",
       "      <td>35000</td>\n",
       "    </tr>\n",
       "    <tr>\n",
       "      <th>3</th>\n",
       "      <td>50000</td>\n",
       "    </tr>\n",
       "    <tr>\n",
       "      <th>4</th>\n",
       "      <td>45000</td>\n",
       "    </tr>\n",
       "    <tr>\n",
       "      <th>5</th>\n",
       "      <td>30000</td>\n",
       "    </tr>\n",
       "    <tr>\n",
       "      <th>6</th>\n",
       "      <td>55000</td>\n",
       "    </tr>\n",
       "  </tbody>\n",
       "</table>\n",
       "</div>"
      ],
      "text/plain": [
       "   Spendings\n",
       "0      20000\n",
       "1      25000\n",
       "2      35000\n",
       "3      50000\n",
       "4      45000\n",
       "5      30000\n",
       "6      55000"
      ]
     },
     "execution_count": 19,
     "metadata": {},
     "output_type": "execute_result"
    }
   ],
   "source": [
    "X\n",
    "Y"
   ]
  },
  {
   "cell_type": "code",
   "execution_count": 21,
   "id": "120de420-65ab-4c67-bb36-ec48600c5f67",
   "metadata": {},
   "outputs": [],
   "source": [
    "from sklearn.linear_model import LinearRegression"
   ]
  },
  {
   "cell_type": "code",
   "execution_count": 23,
   "id": "f4bd1590-bd32-4eb8-bdc1-e0b5b28f384a",
   "metadata": {},
   "outputs": [],
   "source": [
    "lr = LinearRegression()"
   ]
  },
  {
   "cell_type": "code",
   "execution_count": 25,
   "id": "585e5482-0d86-48f8-b3ac-152e3ceac037",
   "metadata": {},
   "outputs": [],
   "source": [
    "model = lr.fit(X,Y)"
   ]
  },
  {
   "cell_type": "code",
   "execution_count": 27,
   "id": "40347e6b-3387-46e9-8d6b-4dfc7cb932ad",
   "metadata": {},
   "outputs": [
    {
     "data": {
      "text/plain": [
       "array([[22608.69565217],\n",
       "       [26521.73913043],\n",
       "       [34347.82608696],\n",
       "       [38260.86956522],\n",
       "       [42173.91304348],\n",
       "       [46086.95652174],\n",
       "       [50000.        ]])"
      ]
     },
     "execution_count": 27,
     "metadata": {},
     "output_type": "execute_result"
    }
   ],
   "source": [
    "YPred = model.predict(X)\n",
    "YPred"
   ]
  },
  {
   "cell_type": "code",
   "execution_count": 29,
   "id": "834803b6-dde2-4d26-9323-2a2cd72a4df8",
   "metadata": {},
   "outputs": [],
   "source": [
    "from sklearn.metrics import mean_absolute_error,r2_score"
   ]
  },
  {
   "cell_type": "code",
   "execution_count": 31,
   "id": "134f3d16-b8ab-40f3-82a8-0068f99c67dd",
   "metadata": {},
   "outputs": [
    {
     "data": {
      "text/plain": [
       "5776.3975155279495"
      ]
     },
     "execution_count": 31,
     "metadata": {},
     "output_type": "execute_result"
    }
   ],
   "source": [
    "error = mean_absolute_error(Y,YPred)\n",
    "error"
   ]
  },
  {
   "cell_type": "code",
   "execution_count": 33,
   "id": "2b0aaab8-48e1-4cb2-bbc1-ae8d5d6abeb6",
   "metadata": {},
   "outputs": [
    {
     "data": {
      "text/plain": [
       "0.5789160214413341"
      ]
     },
     "execution_count": 33,
     "metadata": {},
     "output_type": "execute_result"
    }
   ],
   "source": [
    "score = r2_score(Y,YPred)\n",
    "score"
   ]
  },
  {
   "cell_type": "code",
   "execution_count": 37,
   "id": "4e511d7d-5f05-4162-a497-8cb34a9bfd40",
   "metadata": {},
   "outputs": [
    {
     "data": {
      "text/plain": [
       "array([[0.7826087]])"
      ]
     },
     "execution_count": 37,
     "metadata": {},
     "output_type": "execute_result"
    }
   ],
   "source": [
    "m = model.coef_\n",
    "m"
   ]
  },
  {
   "cell_type": "code",
   "execution_count": 39,
   "id": "77979681-506d-415e-a368-b0e3837505eb",
   "metadata": {},
   "outputs": [
    {
     "data": {
      "text/plain": [
       "array([-4782.60869565])"
      ]
     },
     "execution_count": 39,
     "metadata": {},
     "output_type": "execute_result"
    }
   ],
   "source": [
    "c = model.intercept_\n",
    "c"
   ]
  },
  {
   "cell_type": "code",
   "execution_count": 43,
   "id": "27b23331-4834-4a30-adf9-bfb462916de4",
   "metadata": {},
   "outputs": [
    {
     "name": "stdin",
     "output_type": "stream",
     "text": [
      "ENter salary: 75000\n"
     ]
    },
    {
     "name": "stdout",
     "output_type": "stream",
     "text": [
      "SALARY IS  75000 for the spendings  [[59689.44099379]]\n"
     ]
    }
   ],
   "source": [
    "x = int(input(\"ENter salary:\"))\n",
    "y=m*x+c+error\n",
    "print(\"SALARY IS \",x,\"for the spendings \",y)"
   ]
  },
  {
   "cell_type": "markdown",
   "id": "a50fdea9-85d9-4526-9433-4cd43811926e",
   "metadata": {},
   "source": [
    "# Multiple Linear Regresssion = Multiple Inputs and one Output\n"
   ]
  },
  {
   "cell_type": "code",
   "execution_count": 51,
   "id": "321a4338-23c2-44b7-9fd8-fab2ec67009a",
   "metadata": {},
   "outputs": [],
   "source": [
    "b = {'CGPA':[3,3.5,4,4.5,5,5.5,6,6.5],\n",
    "     'Gender':['F','M','F','M','F','M','F','M'],\n",
    "     'Marks':[30,35,40,45,50,55,60,65],\n",
    "     'Salary':[30000,35000,100000,45000,60000,55000,40000,65000]}"
   ]
  },
  {
   "cell_type": "code",
   "execution_count": 53,
   "id": "ec53c5ff-e35c-4340-a6ab-788e8bd3224a",
   "metadata": {},
   "outputs": [
    {
     "data": {
      "text/plain": [
       "{'CGPA': [3, 3.5, 4, 4.5, 5, 5.5, 6, 6.5],\n",
       " 'Gender': ['F', 'M', 'F', 'M', 'F', 'M', 'F', 'M'],\n",
       " 'Marks': [30, 35, 40, 45, 50, 55, 60, 65],\n",
       " 'Salary': [30000, 35000, 100000, 45000, 60000, 55000, 40000, 65000]}"
      ]
     },
     "execution_count": 53,
     "metadata": {},
     "output_type": "execute_result"
    }
   ],
   "source": [
    "b"
   ]
  },
  {
   "cell_type": "code",
   "execution_count": 55,
   "id": "1ff8ae59-409f-47e5-91e7-6fa6f034f382",
   "metadata": {},
   "outputs": [
    {
     "data": {
      "text/html": [
       "<div>\n",
       "<style scoped>\n",
       "    .dataframe tbody tr th:only-of-type {\n",
       "        vertical-align: middle;\n",
       "    }\n",
       "\n",
       "    .dataframe tbody tr th {\n",
       "        vertical-align: top;\n",
       "    }\n",
       "\n",
       "    .dataframe thead th {\n",
       "        text-align: right;\n",
       "    }\n",
       "</style>\n",
       "<table border=\"1\" class=\"dataframe\">\n",
       "  <thead>\n",
       "    <tr style=\"text-align: right;\">\n",
       "      <th></th>\n",
       "      <th>CGPA</th>\n",
       "      <th>Gender</th>\n",
       "      <th>Marks</th>\n",
       "      <th>Salary</th>\n",
       "    </tr>\n",
       "  </thead>\n",
       "  <tbody>\n",
       "    <tr>\n",
       "      <th>0</th>\n",
       "      <td>3.0</td>\n",
       "      <td>F</td>\n",
       "      <td>30</td>\n",
       "      <td>30000</td>\n",
       "    </tr>\n",
       "    <tr>\n",
       "      <th>1</th>\n",
       "      <td>3.5</td>\n",
       "      <td>M</td>\n",
       "      <td>35</td>\n",
       "      <td>35000</td>\n",
       "    </tr>\n",
       "    <tr>\n",
       "      <th>2</th>\n",
       "      <td>4.0</td>\n",
       "      <td>F</td>\n",
       "      <td>40</td>\n",
       "      <td>100000</td>\n",
       "    </tr>\n",
       "    <tr>\n",
       "      <th>3</th>\n",
       "      <td>4.5</td>\n",
       "      <td>M</td>\n",
       "      <td>45</td>\n",
       "      <td>45000</td>\n",
       "    </tr>\n",
       "    <tr>\n",
       "      <th>4</th>\n",
       "      <td>5.0</td>\n",
       "      <td>F</td>\n",
       "      <td>50</td>\n",
       "      <td>60000</td>\n",
       "    </tr>\n",
       "    <tr>\n",
       "      <th>5</th>\n",
       "      <td>5.5</td>\n",
       "      <td>M</td>\n",
       "      <td>55</td>\n",
       "      <td>55000</td>\n",
       "    </tr>\n",
       "    <tr>\n",
       "      <th>6</th>\n",
       "      <td>6.0</td>\n",
       "      <td>F</td>\n",
       "      <td>60</td>\n",
       "      <td>40000</td>\n",
       "    </tr>\n",
       "    <tr>\n",
       "      <th>7</th>\n",
       "      <td>6.5</td>\n",
       "      <td>M</td>\n",
       "      <td>65</td>\n",
       "      <td>65000</td>\n",
       "    </tr>\n",
       "  </tbody>\n",
       "</table>\n",
       "</div>"
      ],
      "text/plain": [
       "   CGPA Gender  Marks  Salary\n",
       "0   3.0      F     30   30000\n",
       "1   3.5      M     35   35000\n",
       "2   4.0      F     40  100000\n",
       "3   4.5      M     45   45000\n",
       "4   5.0      F     50   60000\n",
       "5   5.5      M     55   55000\n",
       "6   6.0      F     60   40000\n",
       "7   6.5      M     65   65000"
      ]
     },
     "execution_count": 55,
     "metadata": {},
     "output_type": "execute_result"
    }
   ],
   "source": [
    "df = pd.DataFrame(b)\n",
    "df"
   ]
  },
  {
   "cell_type": "code",
   "execution_count": 67,
   "id": "a82cf5fc-bfa6-4ee3-97f3-4d4d6e72710a",
   "metadata": {},
   "outputs": [
    {
     "data": {
      "text/plain": [
       "Gender\n",
       "F    57500.0\n",
       "M    50000.0\n",
       "Name: Salary, dtype: float64"
      ]
     },
     "execution_count": 67,
     "metadata": {},
     "output_type": "execute_result"
    }
   ],
   "source": [
    "# finding average.\n",
    "df.groupby(by='Gender')['Salary'].mean()"
   ]
  },
  {
   "cell_type": "code",
   "execution_count": 75,
   "id": "b44bf546-00e4-476c-9f58-5401380a05cb",
   "metadata": {},
   "outputs": [
    {
     "data": {
      "text/html": [
       "<div>\n",
       "<style scoped>\n",
       "    .dataframe tbody tr th:only-of-type {\n",
       "        vertical-align: middle;\n",
       "    }\n",
       "\n",
       "    .dataframe tbody tr th {\n",
       "        vertical-align: top;\n",
       "    }\n",
       "\n",
       "    .dataframe thead th {\n",
       "        text-align: right;\n",
       "    }\n",
       "</style>\n",
       "<table border=\"1\" class=\"dataframe\">\n",
       "  <thead>\n",
       "    <tr style=\"text-align: right;\">\n",
       "      <th></th>\n",
       "      <th>CGPA</th>\n",
       "      <th>Marks</th>\n",
       "      <th>Salary</th>\n",
       "    </tr>\n",
       "  </thead>\n",
       "  <tbody>\n",
       "    <tr>\n",
       "      <th>CGPA</th>\n",
       "      <td>1.000000</td>\n",
       "      <td>1.000000</td>\n",
       "      <td>0.195965</td>\n",
       "    </tr>\n",
       "    <tr>\n",
       "      <th>Marks</th>\n",
       "      <td>1.000000</td>\n",
       "      <td>1.000000</td>\n",
       "      <td>0.195965</td>\n",
       "    </tr>\n",
       "    <tr>\n",
       "      <th>Salary</th>\n",
       "      <td>0.195965</td>\n",
       "      <td>0.195965</td>\n",
       "      <td>1.000000</td>\n",
       "    </tr>\n",
       "  </tbody>\n",
       "</table>\n",
       "</div>"
      ],
      "text/plain": [
       "            CGPA     Marks    Salary\n",
       "CGPA    1.000000  1.000000  0.195965\n",
       "Marks   1.000000  1.000000  0.195965\n",
       "Salary  0.195965  0.195965  1.000000"
      ]
     },
     "execution_count": 75,
     "metadata": {},
     "output_type": "execute_result"
    }
   ],
   "source": [
    "# co-relation.\n",
    "df[['CGPA','Marks','Salary']].corr()\n"
   ]
  },
  {
   "cell_type": "code",
   "execution_count": 77,
   "id": "4085d5e6-0e34-479e-aab9-695d20f9c9b6",
   "metadata": {},
   "outputs": [],
   "source": [
    "df = df.drop(index=[2],axis=[0])"
   ]
  },
  {
   "cell_type": "code",
   "execution_count": 79,
   "id": "584f47c2-ae6f-4ef9-8798-c1afbe90dafb",
   "metadata": {},
   "outputs": [],
   "source": [
    "df.index=range(df.shape[0])"
   ]
  },
  {
   "cell_type": "code",
   "execution_count": 81,
   "id": "77de6b08-7f9c-4e9e-8b82-63c32b7b342f",
   "metadata": {},
   "outputs": [
    {
     "data": {
      "text/html": [
       "<div>\n",
       "<style scoped>\n",
       "    .dataframe tbody tr th:only-of-type {\n",
       "        vertical-align: middle;\n",
       "    }\n",
       "\n",
       "    .dataframe tbody tr th {\n",
       "        vertical-align: top;\n",
       "    }\n",
       "\n",
       "    .dataframe thead th {\n",
       "        text-align: right;\n",
       "    }\n",
       "</style>\n",
       "<table border=\"1\" class=\"dataframe\">\n",
       "  <thead>\n",
       "    <tr style=\"text-align: right;\">\n",
       "      <th></th>\n",
       "      <th>CGPA</th>\n",
       "      <th>Gender</th>\n",
       "      <th>Marks</th>\n",
       "      <th>Salary</th>\n",
       "    </tr>\n",
       "  </thead>\n",
       "  <tbody>\n",
       "    <tr>\n",
       "      <th>0</th>\n",
       "      <td>3.0</td>\n",
       "      <td>F</td>\n",
       "      <td>30</td>\n",
       "      <td>30000</td>\n",
       "    </tr>\n",
       "    <tr>\n",
       "      <th>1</th>\n",
       "      <td>3.5</td>\n",
       "      <td>M</td>\n",
       "      <td>35</td>\n",
       "      <td>35000</td>\n",
       "    </tr>\n",
       "    <tr>\n",
       "      <th>2</th>\n",
       "      <td>4.5</td>\n",
       "      <td>M</td>\n",
       "      <td>45</td>\n",
       "      <td>45000</td>\n",
       "    </tr>\n",
       "    <tr>\n",
       "      <th>3</th>\n",
       "      <td>5.0</td>\n",
       "      <td>F</td>\n",
       "      <td>50</td>\n",
       "      <td>60000</td>\n",
       "    </tr>\n",
       "    <tr>\n",
       "      <th>4</th>\n",
       "      <td>5.5</td>\n",
       "      <td>M</td>\n",
       "      <td>55</td>\n",
       "      <td>55000</td>\n",
       "    </tr>\n",
       "    <tr>\n",
       "      <th>5</th>\n",
       "      <td>6.0</td>\n",
       "      <td>F</td>\n",
       "      <td>60</td>\n",
       "      <td>40000</td>\n",
       "    </tr>\n",
       "    <tr>\n",
       "      <th>6</th>\n",
       "      <td>6.5</td>\n",
       "      <td>M</td>\n",
       "      <td>65</td>\n",
       "      <td>65000</td>\n",
       "    </tr>\n",
       "  </tbody>\n",
       "</table>\n",
       "</div>"
      ],
      "text/plain": [
       "   CGPA Gender  Marks  Salary\n",
       "0   3.0      F     30   30000\n",
       "1   3.5      M     35   35000\n",
       "2   4.5      M     45   45000\n",
       "3   5.0      F     50   60000\n",
       "4   5.5      M     55   55000\n",
       "5   6.0      F     60   40000\n",
       "6   6.5      M     65   65000"
      ]
     },
     "execution_count": 81,
     "metadata": {},
     "output_type": "execute_result"
    }
   ],
   "source": [
    "df"
   ]
  },
  {
   "cell_type": "code",
   "execution_count": 83,
   "id": "feb5db48-f21a-49cf-a7b7-060540214cc4",
   "metadata": {},
   "outputs": [],
   "source": [
    "X = df[['CGPA','Gender','Marks']]\n",
    "Y = df[['Salary']]"
   ]
  },
  {
   "cell_type": "code",
   "execution_count": 87,
   "id": "58c5f92a-8807-4c7c-84d9-b77e74b9bd7e",
   "metadata": {},
   "outputs": [],
   "source": [
    "from sklearn.linear_model import LinearRegression"
   ]
  },
  {
   "cell_type": "code",
   "execution_count": 95,
   "id": "7947d01b-a7c4-4ec6-b202-193b37dae320",
   "metadata": {},
   "outputs": [],
   "source": [
    "lr = LinearRegression()"
   ]
  },
  {
   "cell_type": "markdown",
   "id": "5e5c104b-47c0-4e6a-b1cc-82e5f62dcd6a",
   "metadata": {},
   "source": [
    "# Replacing string into and numbers"
   ]
  },
  {
   "cell_type": "code",
   "execution_count": 123,
   "id": "1e074193-3c2a-40d9-8a00-3b9a4d282a2f",
   "metadata": {},
   "outputs": [
    {
     "name": "stderr",
     "output_type": "stream",
     "text": [
      "C:\\Users\\ASUS\\AppData\\Local\\Temp\\ipykernel_22496\\3655075776.py:1: SettingWithCopyWarning: \n",
      "A value is trying to be set on a copy of a slice from a DataFrame.\n",
      "Try using .loc[row_indexer,col_indexer] = value instead\n",
      "\n",
      "See the caveats in the documentation: https://pandas.pydata.org/pandas-docs/stable/user_guide/indexing.html#returning-a-view-versus-a-copy\n",
      "  X['Gender'] = X['Gender'].replace(['F','M'],[0,1])\n"
     ]
    },
    {
     "data": {
      "text/html": [
       "<div>\n",
       "<style scoped>\n",
       "    .dataframe tbody tr th:only-of-type {\n",
       "        vertical-align: middle;\n",
       "    }\n",
       "\n",
       "    .dataframe tbody tr th {\n",
       "        vertical-align: top;\n",
       "    }\n",
       "\n",
       "    .dataframe thead th {\n",
       "        text-align: right;\n",
       "    }\n",
       "</style>\n",
       "<table border=\"1\" class=\"dataframe\">\n",
       "  <thead>\n",
       "    <tr style=\"text-align: right;\">\n",
       "      <th></th>\n",
       "      <th>CGPA</th>\n",
       "      <th>Gender</th>\n",
       "      <th>Marks</th>\n",
       "    </tr>\n",
       "  </thead>\n",
       "  <tbody>\n",
       "    <tr>\n",
       "      <th>0</th>\n",
       "      <td>3.0</td>\n",
       "      <td>0</td>\n",
       "      <td>30</td>\n",
       "    </tr>\n",
       "    <tr>\n",
       "      <th>1</th>\n",
       "      <td>3.5</td>\n",
       "      <td>1</td>\n",
       "      <td>35</td>\n",
       "    </tr>\n",
       "    <tr>\n",
       "      <th>2</th>\n",
       "      <td>4.5</td>\n",
       "      <td>1</td>\n",
       "      <td>45</td>\n",
       "    </tr>\n",
       "    <tr>\n",
       "      <th>3</th>\n",
       "      <td>5.0</td>\n",
       "      <td>0</td>\n",
       "      <td>50</td>\n",
       "    </tr>\n",
       "    <tr>\n",
       "      <th>4</th>\n",
       "      <td>5.5</td>\n",
       "      <td>1</td>\n",
       "      <td>55</td>\n",
       "    </tr>\n",
       "    <tr>\n",
       "      <th>5</th>\n",
       "      <td>6.0</td>\n",
       "      <td>0</td>\n",
       "      <td>60</td>\n",
       "    </tr>\n",
       "    <tr>\n",
       "      <th>6</th>\n",
       "      <td>6.5</td>\n",
       "      <td>1</td>\n",
       "      <td>65</td>\n",
       "    </tr>\n",
       "  </tbody>\n",
       "</table>\n",
       "</div>"
      ],
      "text/plain": [
       "   CGPA  Gender  Marks\n",
       "0   3.0       0     30\n",
       "1   3.5       1     35\n",
       "2   4.5       1     45\n",
       "3   5.0       0     50\n",
       "4   5.5       1     55\n",
       "5   6.0       0     60\n",
       "6   6.5       1     65"
      ]
     },
     "execution_count": 123,
     "metadata": {},
     "output_type": "execute_result"
    }
   ],
   "source": [
    "\n",
    "X['Gender'] = X['Gender'].replace(['F','M'],[0,1])\n",
    "X"
   ]
  },
  {
   "cell_type": "code",
   "execution_count": 125,
   "id": "859ee17d-5c48-4429-a3ee-155301ca4dcf",
   "metadata": {},
   "outputs": [],
   "source": [
    "model = lr.fit(X,Y)"
   ]
  },
  {
   "cell_type": "code",
   "execution_count": 127,
   "id": "93332915-a8e3-4a77-9aaa-4a4407675ebc",
   "metadata": {},
   "outputs": [],
   "source": [
    "YPred = model.predict(X)"
   ]
  },
  {
   "cell_type": "code",
   "execution_count": 129,
   "id": "fb3767ae-4bef-4956-b704-38fdb5e8b207",
   "metadata": {},
   "outputs": [
    {
     "data": {
      "text/plain": [
       "array([[30689.65517241],\n",
       "       [38620.68965517],\n",
       "       [46206.89655172],\n",
       "       [45862.06896552],\n",
       "       [53793.10344828],\n",
       "       [53448.27586207],\n",
       "       [61379.31034483]])"
      ]
     },
     "execution_count": 129,
     "metadata": {},
     "output_type": "execute_result"
    }
   ],
   "source": [
    "YPred"
   ]
  },
  {
   "cell_type": "code",
   "execution_count": 131,
   "id": "109c83b4-9b6b-4257-b0bb-db43d4c17090",
   "metadata": {},
   "outputs": [],
   "source": [
    "from sklearn.metrics import mean_absolute_error,r2_score"
   ]
  },
  {
   "cell_type": "code",
   "execution_count": 133,
   "id": "84b48f90-9ce6-4fff-8ef2-9ab787e07f5c",
   "metadata": {},
   "outputs": [
    {
     "data": {
      "text/plain": [
       "5418.719211822666"
      ]
     },
     "execution_count": 133,
     "metadata": {},
     "output_type": "execute_result"
    }
   ],
   "source": [
    "error = mean_absolute_error(Y,YPred)\n",
    "error"
   ]
  },
  {
   "cell_type": "code",
   "execution_count": 135,
   "id": "30fcc27b-6004-49b1-a83b-98e4a246dc01",
   "metadata": {},
   "outputs": [
    {
     "data": {
      "text/plain": [
       "0.6065186584789798"
      ]
     },
     "execution_count": 135,
     "metadata": {},
     "output_type": "execute_result"
    }
   ],
   "source": [
    "score = r2_score(Y,YPred)\n",
    "score"
   ]
  },
  {
   "cell_type": "markdown",
   "id": "79f44874-7737-4ac7-b3b9-be7dfffc726c",
   "metadata": {},
   "source": [
    "# finding coef "
   ]
  },
  {
   "cell_type": "code",
   "execution_count": 137,
   "id": "c568d228-6304-4b71-b2ee-c38a02d09b16",
   "metadata": {},
   "outputs": [
    {
     "data": {
      "text/plain": [
       "array([[  75.11095937, 4137.93103448,  751.10959372]])"
      ]
     },
     "execution_count": 137,
     "metadata": {},
     "output_type": "execute_result"
    }
   ],
   "source": [
    "\n",
    "m = model.coef_\n",
    "m"
   ]
  },
  {
   "cell_type": "code",
   "execution_count": 139,
   "id": "0eb113fb-0eb9-4235-9593-85059bf864c2",
   "metadata": {},
   "outputs": [
    {
     "data": {
      "text/plain": [
       "array([7931.03448276])"
      ]
     },
     "execution_count": 139,
     "metadata": {},
     "output_type": "execute_result"
    }
   ],
   "source": [
    "c = model.intercept_\n",
    "c"
   ]
  },
  {
   "cell_type": "markdown",
   "id": "44b3929b-b919-4880-afc9-ea1d3057fbe2",
   "metadata": {},
   "source": [
    "# assinging values to the x1 x2 x3"
   ]
  },
  {
   "cell_type": "code",
   "execution_count": 167,
   "id": "b367a7ca-c6ce-425e-83b1-96a37b55ceed",
   "metadata": {},
   "outputs": [
    {
     "name": "stdin",
     "output_type": "stream",
     "text": [
      "ENTER X1 9.5\n",
      "ENTER X2 1\n",
      "ENTER X3 95\n"
     ]
    }
   ],
   "source": [
    "\n",
    "x1 = float(input(\"ENTER X1\"))\n",
    "x2 = int(input(\"ENTER X2\"))\n",
    "x3 = int(input(\"ENTER X3\"))"
   ]
  },
  {
   "cell_type": "markdown",
   "id": "fae6adf0-36b6-4003-8aa0-4d544760b3dd",
   "metadata": {},
   "source": [
    " # assinging values to the m1 m2 m3"
   ]
  },
  {
   "cell_type": "code",
   "execution_count": 169,
   "id": "3a218b0e-a5d1-4778-8a60-34e61acc95c5",
   "metadata": {},
   "outputs": [],
   "source": [
    "\n",
    "m1 = 75.11095937\n",
    "m2 = 4137.93103448\n",
    "m3 = 751.10959372"
   ]
  },
  {
   "cell_type": "markdown",
   "id": "0e9cc022-08cf-46e3-a76d-62323f98c570",
   "metadata": {},
   "source": [
    "# multiple regression equation"
   ]
  },
  {
   "cell_type": "code",
   "execution_count": 171,
   "id": "f56e4660-fdf7-4d9c-a91f-722d41ccd4c6",
   "metadata": {},
   "outputs": [
    {
     "name": "stdout",
     "output_type": "stream",
     "text": [
      "[84137.93103465]\n"
     ]
    }
   ],
   "source": [
    "\n",
    "y = m1*x1+m2*x2+m3*x3+c\n",
    "print(y)"
   ]
  },
  {
   "cell_type": "code",
   "execution_count": 174,
   "id": "a07bbff4-ee12-48bc-9d87-dddf348bddf9",
   "metadata": {},
   "outputs": [
    {
     "data": {
      "text/plain": [
       "{'Mark': [30, 35, 40, 45, 50, 55, 60, 65, 70],\n",
       " 'Gender': ['M', 'F', 'M', 'F', 'M', 'F', 'M', 'F', 'M'],\n",
       " 'Salary': [30000, 35000, 40000, 45000, 50000, 550000, 60000, 65000, 70000],\n",
       " 'Job': ['Cleark',\n",
       "  'Engg',\n",
       "  'Lawyer',\n",
       "  'Cleark',\n",
       "  'Engg',\n",
       "  'Lawyer',\n",
       "  'Cleark',\n",
       "  'Engg',\n",
       "  'Lawyer'],\n",
       " 'Spendings': [10000, 15000, 20000, 25000, 30000, 35000, 30000, 45000, 50000]}"
      ]
     },
     "execution_count": 174,
     "metadata": {},
     "output_type": "execute_result"
    }
   ],
   "source": [
    "c = {'Mark':[30,35,40,45,50,55,60,65,70],\n",
    "     'Gender':['M','F','M','F','M','F','M','F','M'],\n",
    "     'Salary':[30000,35000,40000,45000,50000,550000,60000,65000,70000],\n",
    "     'Job':['Cleark','Engg','Lawyer','Cleark','Engg','Lawyer','Cleark','Engg','Lawyer'],\n",
    "     'Spendings':[10000,15000,20000,25000,30000,35000,30000,45000,50000]}\n",
    "c"
   ]
  },
  {
   "cell_type": "code",
   "execution_count": 176,
   "id": "16b621e1-6e67-4f55-9f29-c3218f2f8145",
   "metadata": {},
   "outputs": [
    {
     "data": {
      "text/html": [
       "<div>\n",
       "<style scoped>\n",
       "    .dataframe tbody tr th:only-of-type {\n",
       "        vertical-align: middle;\n",
       "    }\n",
       "\n",
       "    .dataframe tbody tr th {\n",
       "        vertical-align: top;\n",
       "    }\n",
       "\n",
       "    .dataframe thead th {\n",
       "        text-align: right;\n",
       "    }\n",
       "</style>\n",
       "<table border=\"1\" class=\"dataframe\">\n",
       "  <thead>\n",
       "    <tr style=\"text-align: right;\">\n",
       "      <th></th>\n",
       "      <th>Mark</th>\n",
       "      <th>Gender</th>\n",
       "      <th>Salary</th>\n",
       "      <th>Job</th>\n",
       "      <th>Spendings</th>\n",
       "    </tr>\n",
       "  </thead>\n",
       "  <tbody>\n",
       "    <tr>\n",
       "      <th>0</th>\n",
       "      <td>30</td>\n",
       "      <td>M</td>\n",
       "      <td>30000</td>\n",
       "      <td>Cleark</td>\n",
       "      <td>10000</td>\n",
       "    </tr>\n",
       "    <tr>\n",
       "      <th>1</th>\n",
       "      <td>35</td>\n",
       "      <td>F</td>\n",
       "      <td>35000</td>\n",
       "      <td>Engg</td>\n",
       "      <td>15000</td>\n",
       "    </tr>\n",
       "    <tr>\n",
       "      <th>2</th>\n",
       "      <td>40</td>\n",
       "      <td>M</td>\n",
       "      <td>40000</td>\n",
       "      <td>Lawyer</td>\n",
       "      <td>20000</td>\n",
       "    </tr>\n",
       "    <tr>\n",
       "      <th>3</th>\n",
       "      <td>45</td>\n",
       "      <td>F</td>\n",
       "      <td>45000</td>\n",
       "      <td>Cleark</td>\n",
       "      <td>25000</td>\n",
       "    </tr>\n",
       "    <tr>\n",
       "      <th>4</th>\n",
       "      <td>50</td>\n",
       "      <td>M</td>\n",
       "      <td>50000</td>\n",
       "      <td>Engg</td>\n",
       "      <td>30000</td>\n",
       "    </tr>\n",
       "    <tr>\n",
       "      <th>5</th>\n",
       "      <td>55</td>\n",
       "      <td>F</td>\n",
       "      <td>550000</td>\n",
       "      <td>Lawyer</td>\n",
       "      <td>35000</td>\n",
       "    </tr>\n",
       "    <tr>\n",
       "      <th>6</th>\n",
       "      <td>60</td>\n",
       "      <td>M</td>\n",
       "      <td>60000</td>\n",
       "      <td>Cleark</td>\n",
       "      <td>30000</td>\n",
       "    </tr>\n",
       "    <tr>\n",
       "      <th>7</th>\n",
       "      <td>65</td>\n",
       "      <td>F</td>\n",
       "      <td>65000</td>\n",
       "      <td>Engg</td>\n",
       "      <td>45000</td>\n",
       "    </tr>\n",
       "    <tr>\n",
       "      <th>8</th>\n",
       "      <td>70</td>\n",
       "      <td>M</td>\n",
       "      <td>70000</td>\n",
       "      <td>Lawyer</td>\n",
       "      <td>50000</td>\n",
       "    </tr>\n",
       "  </tbody>\n",
       "</table>\n",
       "</div>"
      ],
      "text/plain": [
       "   Mark Gender  Salary     Job  Spendings\n",
       "0    30      M   30000  Cleark      10000\n",
       "1    35      F   35000    Engg      15000\n",
       "2    40      M   40000  Lawyer      20000\n",
       "3    45      F   45000  Cleark      25000\n",
       "4    50      M   50000    Engg      30000\n",
       "5    55      F  550000  Lawyer      35000\n",
       "6    60      M   60000  Cleark      30000\n",
       "7    65      F   65000    Engg      45000\n",
       "8    70      M   70000  Lawyer      50000"
      ]
     },
     "execution_count": 176,
     "metadata": {},
     "output_type": "execute_result"
    }
   ],
   "source": [
    "df = pd.DataFrame(c)\n",
    "df"
   ]
  },
  {
   "cell_type": "code",
   "execution_count": 178,
   "id": "b2fbed30-8b96-4d54-bf3a-116a6d86152c",
   "metadata": {},
   "outputs": [],
   "source": [
    "X = df[['Mark','Gender','Salary','Job']]\n",
    "Y = df[['Spendings']]"
   ]
  },
  {
   "cell_type": "code",
   "execution_count": 180,
   "id": "c5857260-0a68-4467-a80a-d483b0290a7e",
   "metadata": {},
   "outputs": [],
   "source": [
    "from sklearn.linear_model import LinearRegression"
   ]
  },
  {
   "cell_type": "code",
   "execution_count": 182,
   "id": "69803874-5ce9-41ba-b4e1-5da2cbce1be1",
   "metadata": {},
   "outputs": [],
   "source": [
    "lr = LinearRegression()"
   ]
  },
  {
   "cell_type": "code",
   "execution_count": 184,
   "id": "8a8f96b7-b9e8-4314-a81a-77e33dc09446",
   "metadata": {},
   "outputs": [
    {
     "name": "stderr",
     "output_type": "stream",
     "text": [
      "C:\\Users\\ASUS\\AppData\\Local\\Temp\\ipykernel_22496\\1259558129.py:1: FutureWarning: Downcasting behavior in `replace` is deprecated and will be removed in a future version. To retain the old behavior, explicitly call `result.infer_objects(copy=False)`. To opt-in to the future behavior, set `pd.set_option('future.no_silent_downcasting', True)`\n",
      "  X['Gender'] = X['Gender'].replace(['M','F',],[0,1])\n",
      "C:\\Users\\ASUS\\AppData\\Local\\Temp\\ipykernel_22496\\1259558129.py:1: SettingWithCopyWarning: \n",
      "A value is trying to be set on a copy of a slice from a DataFrame.\n",
      "Try using .loc[row_indexer,col_indexer] = value instead\n",
      "\n",
      "See the caveats in the documentation: https://pandas.pydata.org/pandas-docs/stable/user_guide/indexing.html#returning-a-view-versus-a-copy\n",
      "  X['Gender'] = X['Gender'].replace(['M','F',],[0,1])\n"
     ]
    }
   ],
   "source": [
    "X['Gender'] = X['Gender'].replace(['M','F',],[0,1])"
   ]
  },
  {
   "cell_type": "code",
   "execution_count": 186,
   "id": "783a79d2-6b2b-4662-9bc9-8e53f43a01d0",
   "metadata": {},
   "outputs": [
    {
     "data": {
      "text/html": [
       "<div>\n",
       "<style scoped>\n",
       "    .dataframe tbody tr th:only-of-type {\n",
       "        vertical-align: middle;\n",
       "    }\n",
       "\n",
       "    .dataframe tbody tr th {\n",
       "        vertical-align: top;\n",
       "    }\n",
       "\n",
       "    .dataframe thead th {\n",
       "        text-align: right;\n",
       "    }\n",
       "</style>\n",
       "<table border=\"1\" class=\"dataframe\">\n",
       "  <thead>\n",
       "    <tr style=\"text-align: right;\">\n",
       "      <th></th>\n",
       "      <th>Mark</th>\n",
       "      <th>Gender</th>\n",
       "      <th>Salary</th>\n",
       "      <th>Job</th>\n",
       "    </tr>\n",
       "  </thead>\n",
       "  <tbody>\n",
       "    <tr>\n",
       "      <th>0</th>\n",
       "      <td>30</td>\n",
       "      <td>0</td>\n",
       "      <td>30000</td>\n",
       "      <td>Cleark</td>\n",
       "    </tr>\n",
       "    <tr>\n",
       "      <th>1</th>\n",
       "      <td>35</td>\n",
       "      <td>1</td>\n",
       "      <td>35000</td>\n",
       "      <td>Engg</td>\n",
       "    </tr>\n",
       "    <tr>\n",
       "      <th>2</th>\n",
       "      <td>40</td>\n",
       "      <td>0</td>\n",
       "      <td>40000</td>\n",
       "      <td>Lawyer</td>\n",
       "    </tr>\n",
       "    <tr>\n",
       "      <th>3</th>\n",
       "      <td>45</td>\n",
       "      <td>1</td>\n",
       "      <td>45000</td>\n",
       "      <td>Cleark</td>\n",
       "    </tr>\n",
       "    <tr>\n",
       "      <th>4</th>\n",
       "      <td>50</td>\n",
       "      <td>0</td>\n",
       "      <td>50000</td>\n",
       "      <td>Engg</td>\n",
       "    </tr>\n",
       "    <tr>\n",
       "      <th>5</th>\n",
       "      <td>55</td>\n",
       "      <td>1</td>\n",
       "      <td>550000</td>\n",
       "      <td>Lawyer</td>\n",
       "    </tr>\n",
       "    <tr>\n",
       "      <th>6</th>\n",
       "      <td>60</td>\n",
       "      <td>0</td>\n",
       "      <td>60000</td>\n",
       "      <td>Cleark</td>\n",
       "    </tr>\n",
       "    <tr>\n",
       "      <th>7</th>\n",
       "      <td>65</td>\n",
       "      <td>1</td>\n",
       "      <td>65000</td>\n",
       "      <td>Engg</td>\n",
       "    </tr>\n",
       "    <tr>\n",
       "      <th>8</th>\n",
       "      <td>70</td>\n",
       "      <td>0</td>\n",
       "      <td>70000</td>\n",
       "      <td>Lawyer</td>\n",
       "    </tr>\n",
       "  </tbody>\n",
       "</table>\n",
       "</div>"
      ],
      "text/plain": [
       "   Mark  Gender  Salary     Job\n",
       "0    30       0   30000  Cleark\n",
       "1    35       1   35000    Engg\n",
       "2    40       0   40000  Lawyer\n",
       "3    45       1   45000  Cleark\n",
       "4    50       0   50000    Engg\n",
       "5    55       1  550000  Lawyer\n",
       "6    60       0   60000  Cleark\n",
       "7    65       1   65000    Engg\n",
       "8    70       0   70000  Lawyer"
      ]
     },
     "execution_count": 186,
     "metadata": {},
     "output_type": "execute_result"
    }
   ],
   "source": [
    "X"
   ]
  },
  {
   "cell_type": "code",
   "execution_count": 188,
   "id": "c1c3abf8-5534-4bdd-a387-bd4bc22898aa",
   "metadata": {},
   "outputs": [
    {
     "name": "stderr",
     "output_type": "stream",
     "text": [
      "C:\\Users\\ASUS\\AppData\\Local\\Temp\\ipykernel_22496\\103518197.py:1: FutureWarning: Downcasting behavior in `replace` is deprecated and will be removed in a future version. To retain the old behavior, explicitly call `result.infer_objects(copy=False)`. To opt-in to the future behavior, set `pd.set_option('future.no_silent_downcasting', True)`\n",
      "  X['Job'] = X['Job'].replace(['Cleark','Engg','Lawyer'],[0,1,2])\n",
      "C:\\Users\\ASUS\\AppData\\Local\\Temp\\ipykernel_22496\\103518197.py:1: SettingWithCopyWarning: \n",
      "A value is trying to be set on a copy of a slice from a DataFrame.\n",
      "Try using .loc[row_indexer,col_indexer] = value instead\n",
      "\n",
      "See the caveats in the documentation: https://pandas.pydata.org/pandas-docs/stable/user_guide/indexing.html#returning-a-view-versus-a-copy\n",
      "  X['Job'] = X['Job'].replace(['Cleark','Engg','Lawyer'],[0,1,2])\n"
     ]
    }
   ],
   "source": [
    "X['Job'] = X['Job'].replace(['Cleark','Engg','Lawyer'],[0,1,2])"
   ]
  },
  {
   "cell_type": "code",
   "execution_count": 190,
   "id": "922e52c4-6887-409c-afa0-a872bfd8d59f",
   "metadata": {},
   "outputs": [
    {
     "data": {
      "text/html": [
       "<div>\n",
       "<style scoped>\n",
       "    .dataframe tbody tr th:only-of-type {\n",
       "        vertical-align: middle;\n",
       "    }\n",
       "\n",
       "    .dataframe tbody tr th {\n",
       "        vertical-align: top;\n",
       "    }\n",
       "\n",
       "    .dataframe thead th {\n",
       "        text-align: right;\n",
       "    }\n",
       "</style>\n",
       "<table border=\"1\" class=\"dataframe\">\n",
       "  <thead>\n",
       "    <tr style=\"text-align: right;\">\n",
       "      <th></th>\n",
       "      <th>Mark</th>\n",
       "      <th>Gender</th>\n",
       "      <th>Salary</th>\n",
       "      <th>Job</th>\n",
       "    </tr>\n",
       "  </thead>\n",
       "  <tbody>\n",
       "    <tr>\n",
       "      <th>0</th>\n",
       "      <td>30</td>\n",
       "      <td>0</td>\n",
       "      <td>30000</td>\n",
       "      <td>0</td>\n",
       "    </tr>\n",
       "    <tr>\n",
       "      <th>1</th>\n",
       "      <td>35</td>\n",
       "      <td>1</td>\n",
       "      <td>35000</td>\n",
       "      <td>1</td>\n",
       "    </tr>\n",
       "    <tr>\n",
       "      <th>2</th>\n",
       "      <td>40</td>\n",
       "      <td>0</td>\n",
       "      <td>40000</td>\n",
       "      <td>2</td>\n",
       "    </tr>\n",
       "    <tr>\n",
       "      <th>3</th>\n",
       "      <td>45</td>\n",
       "      <td>1</td>\n",
       "      <td>45000</td>\n",
       "      <td>0</td>\n",
       "    </tr>\n",
       "    <tr>\n",
       "      <th>4</th>\n",
       "      <td>50</td>\n",
       "      <td>0</td>\n",
       "      <td>50000</td>\n",
       "      <td>1</td>\n",
       "    </tr>\n",
       "    <tr>\n",
       "      <th>5</th>\n",
       "      <td>55</td>\n",
       "      <td>1</td>\n",
       "      <td>550000</td>\n",
       "      <td>2</td>\n",
       "    </tr>\n",
       "    <tr>\n",
       "      <th>6</th>\n",
       "      <td>60</td>\n",
       "      <td>0</td>\n",
       "      <td>60000</td>\n",
       "      <td>0</td>\n",
       "    </tr>\n",
       "    <tr>\n",
       "      <th>7</th>\n",
       "      <td>65</td>\n",
       "      <td>1</td>\n",
       "      <td>65000</td>\n",
       "      <td>1</td>\n",
       "    </tr>\n",
       "    <tr>\n",
       "      <th>8</th>\n",
       "      <td>70</td>\n",
       "      <td>0</td>\n",
       "      <td>70000</td>\n",
       "      <td>2</td>\n",
       "    </tr>\n",
       "  </tbody>\n",
       "</table>\n",
       "</div>"
      ],
      "text/plain": [
       "   Mark  Gender  Salary  Job\n",
       "0    30       0   30000    0\n",
       "1    35       1   35000    1\n",
       "2    40       0   40000    2\n",
       "3    45       1   45000    0\n",
       "4    50       0   50000    1\n",
       "5    55       1  550000    2\n",
       "6    60       0   60000    0\n",
       "7    65       1   65000    1\n",
       "8    70       0   70000    2"
      ]
     },
     "execution_count": 190,
     "metadata": {},
     "output_type": "execute_result"
    }
   ],
   "source": [
    "X"
   ]
  },
  {
   "cell_type": "code",
   "execution_count": 192,
   "id": "0a9a8fd9-3fba-4217-a185-ae7c683189b9",
   "metadata": {},
   "outputs": [],
   "source": [
    "model = lr.fit(X,Y)"
   ]
  },
  {
   "cell_type": "code",
   "execution_count": 194,
   "id": "c6b8bd0b-25ce-4de8-9e89-574d0cbc0791",
   "metadata": {},
   "outputs": [
    {
     "data": {
      "text/plain": [
       "array([[ 7523.80952381],\n",
       "       [17380.95238091],\n",
       "       [21809.52380954],\n",
       "       [23571.4285714 ],\n",
       "       [28000.00000003],\n",
       "       [34999.99999994],\n",
       "       [34190.47619052],\n",
       "       [44047.61904761],\n",
       "       [48476.19047625]])"
      ]
     },
     "execution_count": 194,
     "metadata": {},
     "output_type": "execute_result"
    }
   ],
   "source": [
    "YPred = model.predict(X)\n",
    "YPred"
   ]
  },
  {
   "cell_type": "code",
   "execution_count": 196,
   "id": "bbb4ac42-5f61-4103-8cd1-48779fc77d99",
   "metadata": {},
   "outputs": [],
   "source": [
    "from sklearn.metrics import r2_score"
   ]
  },
  {
   "cell_type": "code",
   "execution_count": 198,
   "id": "c772e32a-389d-40b0-a638-634482e3bc06",
   "metadata": {},
   "outputs": [
    {
     "data": {
      "text/plain": [
       "0.9698285714285715"
      ]
     },
     "execution_count": 198,
     "metadata": {},
     "output_type": "execute_result"
    }
   ],
   "source": [
    "score = r2_score(Y,YPred)\n",
    "score"
   ]
  },
  {
   "cell_type": "code",
   "execution_count": 200,
   "id": "0fbc58bb-9f44-4049-a26b-dd8eb975dc5c",
   "metadata": {},
   "outputs": [],
   "source": [
    "m = model.coef_"
   ]
  },
  {
   "cell_type": "code",
   "execution_count": 202,
   "id": "f6808391-dd4f-4d9d-b36d-09be82ae3613",
   "metadata": {},
   "outputs": [
    {
     "data": {
      "text/plain": [
       "array([[ 8.94660895e+02,  2.71428571e+03, -5.77200577e-03,\n",
       "         2.69841270e+03]])"
      ]
     },
     "execution_count": 202,
     "metadata": {},
     "output_type": "execute_result"
    }
   ],
   "source": [
    "m"
   ]
  },
  {
   "cell_type": "code",
   "execution_count": 204,
   "id": "a09b33f9-5c9f-40b5-a7d6-793271f607f6",
   "metadata": {},
   "outputs": [
    {
     "data": {
      "text/plain": [
       "array([-19142.8571429])"
      ]
     },
     "execution_count": 204,
     "metadata": {},
     "output_type": "execute_result"
    }
   ],
   "source": [
    "c = model.intercept_\n",
    "c"
   ]
  },
  {
   "cell_type": "code",
   "execution_count": 216,
   "id": "f377708c-7ed1-4814-9efd-407bf6068a26",
   "metadata": {},
   "outputs": [
    {
     "name": "stdin",
     "output_type": "stream",
     "text": [
      "Enter x1 90\n",
      "Enter x2 0\n",
      "Enter x3 90000\n",
      "Enter x4 1\n"
     ]
    },
    {
     "name": "stdout",
     "output_type": "stream",
     "text": [
      "[63555.5555878]\n"
     ]
    }
   ],
   "source": [
    "x1 = int(input(\"Enter x1\"))\n",
    "x2 = int(input(\"Enter x2\"))\n",
    "x3 = int(input(\"Enter x3\"))\n",
    "x4 = int(input(\"Enter x4\"))\n",
    "\n",
    "m1 = 8.94660895e+02\n",
    "m2 = 2.71428571e+03\n",
    "m3 = -5.77200577e-03\n",
    "m4 = 2.69841270e+03\n",
    "\n",
    "y=m1*x1+m2*x2+m3*x3+m4*x4+c\n",
    "print(y)"
   ]
  },
  {
   "cell_type": "code",
   "execution_count": null,
   "id": "d5f92adb-c554-494c-810a-43612311cf2b",
   "metadata": {},
   "outputs": [],
   "source": []
  }
 ],
 "metadata": {
  "kernelspec": {
   "display_name": "Python 3 (ipykernel)",
   "language": "python",
   "name": "python3"
  },
  "language_info": {
   "codemirror_mode": {
    "name": "ipython",
    "version": 3
   },
   "file_extension": ".py",
   "mimetype": "text/x-python",
   "name": "python",
   "nbconvert_exporter": "python",
   "pygments_lexer": "ipython3",
   "version": "3.12.4"
  }
 },
 "nbformat": 4,
 "nbformat_minor": 5
}

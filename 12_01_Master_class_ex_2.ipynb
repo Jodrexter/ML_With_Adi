{
 "cells": [
  {
   "cell_type": "code",
   "execution_count": 1,
   "id": "f8caed91-e4c8-48be-b0af-e8a12fcc2e45",
   "metadata": {},
   "outputs": [],
   "source": [
    "import pandas as pd"
   ]
  },
  {
   "cell_type": "code",
   "execution_count": 2,
   "id": "9526a761-3413-4303-af96-b62f8fed13d9",
   "metadata": {},
   "outputs": [],
   "source": [
    "df = pd.read_csv(\"D:/ETL HIVE/PYTHON/ADV PY/Cars93.csv\")"
   ]
  },
  {
   "cell_type": "code",
   "execution_count": 5,
   "id": "019ab480-b9a5-46b5-bbc2-63e8fb0a7365",
   "metadata": {},
   "outputs": [
    {
     "data": {
      "text/plain": [
       "id                     0\n",
       "Manufacturer           0\n",
       "Model                  0\n",
       "Type                   0\n",
       "Min.Price              0\n",
       "Price                  0\n",
       "Max.Price              0\n",
       "MPG.city               0\n",
       "MPG.highway            0\n",
       "AirBags               37\n",
       "DriveTrain             0\n",
       "Cylinders              0\n",
       "EngineSize             0\n",
       "Horsepower             0\n",
       "RPM                    0\n",
       "Rev.per.mile           0\n",
       "Man.trans.avail        0\n",
       "Fuel.tank.capacity     0\n",
       "Passengers             0\n",
       "Length                 0\n",
       "Wheelbase              0\n",
       "Width                  0\n",
       "Turn.circle            0\n",
       "Rear.seat.room         2\n",
       "Luggage.room          11\n",
       "Weight                 0\n",
       "Origin                 0\n",
       "Make                   0\n",
       "dtype: int64"
      ]
     },
     "execution_count": 5,
     "metadata": {},
     "output_type": "execute_result"
    }
   ],
   "source": [
    "df.isna().sum()"
   ]
  },
  {
   "cell_type": "code",
   "execution_count": 7,
   "id": "d28cfe5c-b7bd-476f-aef2-ad94ed7fdd1d",
   "metadata": {},
   "outputs": [],
   "source": [
    "for i in df.columns:\n",
    "    if df[i].dtypes==object:\n",
    "        df[i]=df[i].fillna(df[i].mode()[0])\n",
    "    else:\n",
    "         df[i]=df[i].fillna(df[i].mean())\n",
    "    \n",
    "    "
   ]
  },
  {
   "cell_type": "code",
   "execution_count": 9,
   "id": "a47f27c3-cec2-43b4-bffd-b93badd094a6",
   "metadata": {},
   "outputs": [],
   "source": [
    "X = df.drop('Cylinders',axis=1)"
   ]
  },
  {
   "cell_type": "code",
   "execution_count": 11,
   "id": "82f5c20f-3a07-4347-8893-2edcf01603e6",
   "metadata": {},
   "outputs": [],
   "source": [
    "Y = df[['Type']]"
   ]
  },
  {
   "cell_type": "code",
   "execution_count": 13,
   "id": "7ff7d21c-0743-439f-9f47-228566187bd2",
   "metadata": {},
   "outputs": [],
   "source": [
    "cat = []\n",
    "con = []\n",
    "\n",
    "for i in X.columns:\n",
    "    if X[i].dtypes==object:\n",
    "        cat.append(i)\n",
    "    else:\n",
    "        con.append(i)"
   ]
  },
  {
   "cell_type": "code",
   "execution_count": 15,
   "id": "cfe1f056-6c8f-4c60-88c4-fb2cc697492d",
   "metadata": {},
   "outputs": [],
   "source": [
    "Xcat = X [cat]\n",
    "Xcon = X [con]"
   ]
  },
  {
   "cell_type": "code",
   "execution_count": 17,
   "id": "3f91a6ad-0c3b-432b-b7ad-7ef72fbcd99f",
   "metadata": {},
   "outputs": [],
   "source": [
    "from sklearn.preprocessing import LabelEncoder,StandardScaler"
   ]
  },
  {
   "cell_type": "code",
   "execution_count": 19,
   "id": "a59e4413-0798-4736-83b2-20c8f7cc52b4",
   "metadata": {},
   "outputs": [],
   "source": [
    "le = LabelEncoder()\n",
    "ss = StandardScaler()"
   ]
  },
  {
   "cell_type": "code",
   "execution_count": 21,
   "id": "b3006597-4733-4326-b69b-05228676c8bb",
   "metadata": {},
   "outputs": [
    {
     "name": "stderr",
     "output_type": "stream",
     "text": [
      "C:\\Users\\ASUS\\AppData\\Local\\Temp\\ipykernel_19356\\188807692.py:2: SettingWithCopyWarning: \n",
      "A value is trying to be set on a copy of a slice from a DataFrame.\n",
      "Try using .loc[row_indexer,col_indexer] = value instead\n",
      "\n",
      "See the caveats in the documentation: https://pandas.pydata.org/pandas-docs/stable/user_guide/indexing.html#returning-a-view-versus-a-copy\n",
      "  Xcat[i]=le.fit_transform(Xcat[i])\n",
      "C:\\Users\\ASUS\\AppData\\Local\\Temp\\ipykernel_19356\\188807692.py:2: SettingWithCopyWarning: \n",
      "A value is trying to be set on a copy of a slice from a DataFrame.\n",
      "Try using .loc[row_indexer,col_indexer] = value instead\n",
      "\n",
      "See the caveats in the documentation: https://pandas.pydata.org/pandas-docs/stable/user_guide/indexing.html#returning-a-view-versus-a-copy\n",
      "  Xcat[i]=le.fit_transform(Xcat[i])\n",
      "C:\\Users\\ASUS\\AppData\\Local\\Temp\\ipykernel_19356\\188807692.py:2: SettingWithCopyWarning: \n",
      "A value is trying to be set on a copy of a slice from a DataFrame.\n",
      "Try using .loc[row_indexer,col_indexer] = value instead\n",
      "\n",
      "See the caveats in the documentation: https://pandas.pydata.org/pandas-docs/stable/user_guide/indexing.html#returning-a-view-versus-a-copy\n",
      "  Xcat[i]=le.fit_transform(Xcat[i])\n",
      "C:\\Users\\ASUS\\AppData\\Local\\Temp\\ipykernel_19356\\188807692.py:2: SettingWithCopyWarning: \n",
      "A value is trying to be set on a copy of a slice from a DataFrame.\n",
      "Try using .loc[row_indexer,col_indexer] = value instead\n",
      "\n",
      "See the caveats in the documentation: https://pandas.pydata.org/pandas-docs/stable/user_guide/indexing.html#returning-a-view-versus-a-copy\n",
      "  Xcat[i]=le.fit_transform(Xcat[i])\n",
      "C:\\Users\\ASUS\\AppData\\Local\\Temp\\ipykernel_19356\\188807692.py:2: SettingWithCopyWarning: \n",
      "A value is trying to be set on a copy of a slice from a DataFrame.\n",
      "Try using .loc[row_indexer,col_indexer] = value instead\n",
      "\n",
      "See the caveats in the documentation: https://pandas.pydata.org/pandas-docs/stable/user_guide/indexing.html#returning-a-view-versus-a-copy\n",
      "  Xcat[i]=le.fit_transform(Xcat[i])\n",
      "C:\\Users\\ASUS\\AppData\\Local\\Temp\\ipykernel_19356\\188807692.py:2: SettingWithCopyWarning: \n",
      "A value is trying to be set on a copy of a slice from a DataFrame.\n",
      "Try using .loc[row_indexer,col_indexer] = value instead\n",
      "\n",
      "See the caveats in the documentation: https://pandas.pydata.org/pandas-docs/stable/user_guide/indexing.html#returning-a-view-versus-a-copy\n",
      "  Xcat[i]=le.fit_transform(Xcat[i])\n",
      "C:\\Users\\ASUS\\AppData\\Local\\Temp\\ipykernel_19356\\188807692.py:2: SettingWithCopyWarning: \n",
      "A value is trying to be set on a copy of a slice from a DataFrame.\n",
      "Try using .loc[row_indexer,col_indexer] = value instead\n",
      "\n",
      "See the caveats in the documentation: https://pandas.pydata.org/pandas-docs/stable/user_guide/indexing.html#returning-a-view-versus-a-copy\n",
      "  Xcat[i]=le.fit_transform(Xcat[i])\n",
      "C:\\Users\\ASUS\\AppData\\Local\\Temp\\ipykernel_19356\\188807692.py:2: SettingWithCopyWarning: \n",
      "A value is trying to be set on a copy of a slice from a DataFrame.\n",
      "Try using .loc[row_indexer,col_indexer] = value instead\n",
      "\n",
      "See the caveats in the documentation: https://pandas.pydata.org/pandas-docs/stable/user_guide/indexing.html#returning-a-view-versus-a-copy\n",
      "  Xcat[i]=le.fit_transform(Xcat[i])\n"
     ]
    }
   ],
   "source": [
    "for i in Xcat.columns:\n",
    "    Xcat[i]=le.fit_transform(Xcat[i])"
   ]
  },
  {
   "cell_type": "code",
   "execution_count": 23,
   "id": "ef783534-2dee-4ae3-abbe-dd9b90ae18c6",
   "metadata": {},
   "outputs": [],
   "source": [
    "Xcon = pd.DataFrame(ss.fit_transform(Xcon),columns=con)"
   ]
  },
  {
   "cell_type": "code",
   "execution_count": 25,
   "id": "53560ea2-4fdd-413c-9ba4-5da9ceefa47b",
   "metadata": {},
   "outputs": [],
   "source": [
    "X = Xcon.join(Xcat)"
   ]
  },
  {
   "cell_type": "code",
   "execution_count": 27,
   "id": "e07bca5b-d9d9-46c9-bf91-954553829277",
   "metadata": {},
   "outputs": [
    {
     "data": {
      "text/plain": [
       "[47, 58, 58, 58, 38, 41, 38, 41, 16, 59]"
      ]
     },
     "execution_count": 27,
     "metadata": {},
     "output_type": "execute_result"
    }
   ],
   "source": [
    "out = []\n",
    "for i in Xcon.columns:\n",
    "    o = Xcon[(Xcon[i]<-3)|(Xcon[i]>3)].index\n",
    "    out.extend(o)\n",
    "out"
   ]
  },
  {
   "cell_type": "code",
   "execution_count": 29,
   "id": "00763aee-2ccc-4a8d-9376-36aff4c33f84",
   "metadata": {},
   "outputs": [
    {
     "data": {
      "text/plain": [
       "[38, 41, 47, 16, 58, 59]"
      ]
     },
     "execution_count": 29,
     "metadata": {},
     "output_type": "execute_result"
    }
   ],
   "source": [
    "a = list(set(out))\n",
    "a"
   ]
  },
  {
   "cell_type": "code",
   "execution_count": 31,
   "id": "8edeca2b-c5f3-404b-a416-6b114712f7d0",
   "metadata": {},
   "outputs": [],
   "source": [
    "X = X.drop(index=a,axis=0)\n",
    "Y = Y.drop(index=a,axis=0)"
   ]
  },
  {
   "cell_type": "code",
   "execution_count": 33,
   "id": "a8c8d561-28e9-4bde-bdde-abbccfbdaa15",
   "metadata": {},
   "outputs": [],
   "source": [
    "X.index=range(X.shape[0])\n",
    "Y.index=range(Y.shape[0])"
   ]
  },
  {
   "cell_type": "code",
   "execution_count": 35,
   "id": "68b125d3-88c0-41e8-a1d7-3088c50d9424",
   "metadata": {},
   "outputs": [],
   "source": [
    "from sklearn.model_selection import train_test_split"
   ]
  },
  {
   "cell_type": "code",
   "execution_count": 37,
   "id": "60477659-21ee-46b6-aa98-fef5eb114df2",
   "metadata": {},
   "outputs": [],
   "source": [
    "xtrain,xtest,ytrain,ytest=train_test_split(X,Y,test_size=0.2,random_state=42)"
   ]
  },
  {
   "cell_type": "code",
   "execution_count": 39,
   "id": "050230b0-9a5c-4161-883d-43198c7f72f9",
   "metadata": {},
   "outputs": [],
   "source": [
    "from sklearn.linear_model import LogisticRegression"
   ]
  },
  {
   "cell_type": "code",
   "execution_count": 41,
   "id": "82ea914d-3a45-4075-8a30-ba06c9f76735",
   "metadata": {},
   "outputs": [],
   "source": [
    "lr = LogisticRegression()"
   ]
  },
  {
   "cell_type": "code",
   "execution_count": 43,
   "id": "09f26954-ac46-4ebc-b198-1c24b08d5a7d",
   "metadata": {},
   "outputs": [
    {
     "name": "stderr",
     "output_type": "stream",
     "text": [
      "C:\\Users\\ASUS\\anaconda3\\Lib\\site-packages\\sklearn\\utils\\validation.py:1300: DataConversionWarning: A column-vector y was passed when a 1d array was expected. Please change the shape of y to (n_samples, ), for example using ravel().\n",
      "  y = column_or_1d(y, warn=True)\n",
      "C:\\Users\\ASUS\\anaconda3\\Lib\\site-packages\\sklearn\\linear_model\\_logistic.py:469: ConvergenceWarning: lbfgs failed to converge (status=1):\n",
      "STOP: TOTAL NO. of ITERATIONS REACHED LIMIT.\n",
      "\n",
      "Increase the number of iterations (max_iter) or scale the data as shown in:\n",
      "    https://scikit-learn.org/stable/modules/preprocessing.html\n",
      "Please also refer to the documentation for alternative solver options:\n",
      "    https://scikit-learn.org/stable/modules/linear_model.html#logistic-regression\n",
      "  n_iter_i = _check_optimize_result(\n"
     ]
    }
   ],
   "source": [
    "model = lr.fit(xtrain,ytrain)"
   ]
  },
  {
   "cell_type": "code",
   "execution_count": 45,
   "id": "c52fd75f-e76f-45a6-93dc-8c26769461cb",
   "metadata": {},
   "outputs": [],
   "source": [
    "tr_pred=model.predict(xtrain)\n",
    "ts_pred=model.predict(xtest)"
   ]
  },
  {
   "cell_type": "code",
   "execution_count": 47,
   "id": "c42c68e2-6abc-4454-9db9-dd69ff0fb2f8",
   "metadata": {},
   "outputs": [],
   "source": [
    "from sklearn.metrics import accuracy_score,confusion_matrix"
   ]
  },
  {
   "cell_type": "code",
   "execution_count": 49,
   "id": "31b086a1-1d91-4a9c-a4c3-372d119257cd",
   "metadata": {},
   "outputs": [
    {
     "data": {
      "text/plain": [
       "1.0"
      ]
     },
     "execution_count": 49,
     "metadata": {},
     "output_type": "execute_result"
    }
   ],
   "source": [
    "tr_score = accuracy_score(ytrain,tr_pred)\n",
    "tr_score"
   ]
  },
  {
   "cell_type": "code",
   "execution_count": 51,
   "id": "a0fd67c1-1bd5-430f-9e07-9a8243436d70",
   "metadata": {},
   "outputs": [
    {
     "data": {
      "text/plain": [
       "0.8333333333333334"
      ]
     },
     "execution_count": 51,
     "metadata": {},
     "output_type": "execute_result"
    }
   ],
   "source": [
    "ts_score = accuracy_score(ytest,ts_pred)\n",
    "ts_score"
   ]
  },
  {
   "cell_type": "code",
   "execution_count": 53,
   "id": "d15e810d-94b6-45bb-b0f9-762d18cc9758",
   "metadata": {},
   "outputs": [
    {
     "data": {
      "text/plain": [
       "array([[12,  0,  0,  0,  0,  0],\n",
       "       [ 0,  9,  0,  0,  0,  0],\n",
       "       [ 0,  0, 17,  0,  0,  0],\n",
       "       [ 0,  0,  0, 16,  0,  0],\n",
       "       [ 0,  0,  0,  0,  8,  0],\n",
       "       [ 0,  0,  0,  0,  0,  7]], dtype=int64)"
      ]
     },
     "execution_count": 53,
     "metadata": {},
     "output_type": "execute_result"
    }
   ],
   "source": [
    "tr_conf = confusion_matrix(ytrain,tr_pred)\n",
    "ts_conf = confusion_matrix(ytest,ts_pred)\n",
    "tr_conf"
   ]
  },
  {
   "cell_type": "code",
   "execution_count": 55,
   "id": "8821a850-5589-46dd-b76e-142b1135a333",
   "metadata": {},
   "outputs": [
    {
     "data": {
      "text/plain": [
       "array([[4, 0, 0, 0, 0, 0],\n",
       "       [0, 2, 0, 0, 0, 0],\n",
       "       [0, 1, 2, 0, 0, 0],\n",
       "       [0, 0, 0, 1, 2, 0],\n",
       "       [0, 0, 0, 0, 5, 0],\n",
       "       [0, 0, 0, 0, 0, 1]], dtype=int64)"
      ]
     },
     "execution_count": 55,
     "metadata": {},
     "output_type": "execute_result"
    }
   ],
   "source": [
    "ts_conf"
   ]
  },
  {
   "cell_type": "code",
   "execution_count": null,
   "id": "556e6159-5271-4b7e-acfe-b99d48db3024",
   "metadata": {},
   "outputs": [],
   "source": []
  }
 ],
 "metadata": {
  "kernelspec": {
   "display_name": "Python 3 (ipykernel)",
   "language": "python",
   "name": "python3"
  },
  "language_info": {
   "codemirror_mode": {
    "name": "ipython",
    "version": 3
   },
   "file_extension": ".py",
   "mimetype": "text/x-python",
   "name": "python",
   "nbconvert_exporter": "python",
   "pygments_lexer": "ipython3",
   "version": "3.12.4"
  }
 },
 "nbformat": 4,
 "nbformat_minor": 5
}
